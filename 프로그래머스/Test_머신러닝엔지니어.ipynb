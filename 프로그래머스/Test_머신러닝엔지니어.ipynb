{
  "nbformat": 4,
  "nbformat_minor": 0,
  "metadata": {
    "colab": {
      "name": "programmers.ipynb",
      "provenance": [],
      "collapsed_sections": []
    },
    "kernelspec": {
      "name": "python3",
      "display_name": "Python 3"
    },
    "language_info": {
      "name": "python"
    },
    "accelerator": "GPU"
  },
  "cells": [
    {
      "cell_type": "code",
      "metadata": {
        "colab": {
          "base_uri": "https://localhost:8080/"
        },
        "id": "oXs1KQeI19MV",
        "outputId": "b1a9a20f-f598-46a0-ae70-c377ae74e289"
      },
      "source": [
        "from google.colab import drive\n",
        "drive.mount('/content/drive')"
      ],
      "execution_count": 1,
      "outputs": [
        {
          "output_type": "stream",
          "text": [
            "Mounted at /content/drive\n"
          ],
          "name": "stdout"
        }
      ]
    },
    {
      "cell_type": "code",
      "metadata": {
        "colab": {
          "base_uri": "https://localhost:8080/"
        },
        "id": "4NjHKW1y3DEP",
        "outputId": "b3ff65f0-6f93-41b6-dc77-b7476aecf227"
      },
      "source": [
        "cd /content/drive/My Drive/programmers/"
      ],
      "execution_count": 2,
      "outputs": [
        {
          "output_type": "stream",
          "text": [
            "/content/drive/My Drive/programmers\n"
          ],
          "name": "stdout"
        }
      ]
    },
    {
      "cell_type": "code",
      "metadata": {
        "id": "ScWHlXji3E45"
      },
      "source": [
        "# !unzip *"
      ],
      "execution_count": null,
      "outputs": []
    },
    {
      "cell_type": "code",
      "metadata": {
        "id": "njAacWs82k_L"
      },
      "source": [
        "!pip install -U efficientnet"
      ],
      "execution_count": null,
      "outputs": []
    },
    {
      "cell_type": "code",
      "metadata": {
        "id": "ZbzNRv3e2k9q"
      },
      "source": [
        "import os\n",
        "import warnings\n",
        "warnings.filterwarnings('ignore')\n",
        "from datetime import datetime\n",
        "\n",
        "import numpy as np\n",
        "import pandas as pd\n",
        "import matplotlib.pyplot as plt\n",
        "\n",
        "import tensorflow as tf\n",
        "from tensorflow.keras.preprocessing.image import ImageDataGenerator\n",
        "from tensorflow.keras import layers\n",
        "from tensorflow.keras.callbacks import ModelCheckpoint, EarlyStopping\n",
        "\n",
        "import efficientnet.keras as efn\n",
        "\n",
        "from keras.models import load_model"
      ],
      "execution_count": 16,
      "outputs": []
    },
    {
      "cell_type": "code",
      "metadata": {
        "id": "f-uJfp7a2k8C"
      },
      "source": [
        "train_path = '/content/drive/My Drive/programmers/train/'\n",
        "\n",
        "IMG_HEIGHT = 224\n",
        "IMG_WIDTH = 224\n",
        "BATCH_SIZE = 64"
      ],
      "execution_count": 17,
      "outputs": []
    },
    {
      "cell_type": "code",
      "metadata": {
        "colab": {
          "base_uri": "https://localhost:8080/"
        },
        "id": "XHF8Amid2k4q",
        "outputId": "700d93da-4959-4bbb-d4e7-3350a42f967b"
      },
      "source": [
        "train_datagen = ImageDataGenerator(\n",
        "    rescale=1./255,\n",
        "    width_shift_range=0.2,\n",
        "    height_shift_range=0.2,\n",
        "    shear_range=0.2,\n",
        "    zoom_range=0.2,\n",
        "    horizontal_flip=True,\n",
        "    rotation_range=20,\n",
        "    validation_split=0.2\n",
        ")\n",
        "\n",
        "validation_datagen = ImageDataGenerator(\n",
        "    rescale=1./255,\n",
        "    validation_split=0.2\n",
        ")\n",
        "\n",
        "train_generator = train_datagen.flow_from_directory(\n",
        "    train_path,\n",
        "    target_size=(IMG_HEIGHT, IMG_WIDTH),\n",
        "    class_mode='categorical',\n",
        "    seed=123,\n",
        "    batch_size=BATCH_SIZE,\n",
        "    subset='training'\n",
        ")\n",
        "\n",
        "validation_generator = validation_datagen.flow_from_directory(\n",
        "    train_path,\n",
        "    target_size=(IMG_HEIGHT, IMG_WIDTH),\n",
        "    class_mode='categorical',\n",
        "    seed=123,\n",
        "    batch_size=BATCH_SIZE,\n",
        "    subset='validation'\n",
        ")"
      ],
      "execution_count": 18,
      "outputs": [
        {
          "output_type": "stream",
          "text": [
            "Found 1361 images belonging to 7 classes.\n",
            "Found 337 images belonging to 7 classes.\n"
          ],
          "name": "stdout"
        }
      ]
    },
    {
      "cell_type": "code",
      "metadata": {
        "id": "Px5t9d9o2k1p"
      },
      "source": [
        "# for x, y in train_generator:\n",
        "#     print(x.shape, y.shape)\n",
        "    \n",
        "#     fig, axes = plt.subplots(2, 5)\n",
        "#     fig.set_size_inches(15, 10)\n",
        "#     for i in range(10):\n",
        "#         axes[i//5, i%5].imshow(x[i])\n",
        "#         axes[i//5, i%5].axis('off')\n",
        "#     plt.show()\n",
        "#     break"
      ],
      "execution_count": null,
      "outputs": []
    },
    {
      "cell_type": "code",
      "metadata": {
        "id": "oKvWyCn52kz7"
      },
      "source": [
        "efficientNet = efn.EfficientNetB0(include_top=False, weights='imagenet', input_shape=(IMG_HEIGHT, IMG_WIDTH, 3))\n",
        "\n",
        "x = efficientNet.layers[-1].output\n",
        "x = tf.keras.layers.Flatten()(x)\n",
        "x = tf.keras.layers.Dense(256, activation='relu')(x)\n",
        "x = tf.keras.layers.Dropout(0.3)(x)\n",
        "x = tf.keras.layers.Dense(128, activation='relu')(x)\n",
        "x = tf.keras.layers.Dropout(0.3)(x)\n",
        "x = tf.keras.layers.Dense(7, activation='softmax')(x)\n",
        "\n",
        "model = tf.keras.Model(efficientNet.input, x)\n",
        "\n",
        "for layer in model.layers[:-10]:\n",
        "  layer.trainable = False\n",
        "for layer in model.layers[-10:]:\n",
        "  layer.trainable = True\n",
        "\n",
        "\n",
        "model.compile(loss = 'categorical_crossentropy',\n",
        "              optimizer = 'adam',\n",
        "              metrics = ['accuracy'])\n",
        "\n",
        "model.summary()"
      ],
      "execution_count": null,
      "outputs": []
    },
    {
      "cell_type": "code",
      "metadata": {
        "id": "Z0k4EV_y2kyR"
      },
      "source": [
        "# os.makedirs('models', exist_ok=True)\n",
        "start_time = datetime.now().strftime('%Y-%m-%d_%H-%M-%S')\n",
        "\n",
        "cp_earlystop = EarlyStopping(monitor='val_loss',\n",
        "                             mode='min',\n",
        "                             patience=10,\n",
        "                             verbose=1)\n",
        "\n",
        "cp_callback = ModelCheckpoint('models/%s-{epoch:02d}-{val_loss:.2f}.h5' % (start_time),\n",
        "                              monitor='val_loss',\n",
        "                              save_best_only=True,\n",
        "                              mode='min', \n",
        "                              verbose=1)"
      ],
      "execution_count": 20,
      "outputs": []
    },
    {
      "cell_type": "code",
      "metadata": {
        "id": "7S1NHNtT2kwp"
      },
      "source": [
        "history = model.fit(train_generator,\n",
        "                    epochs = 150,\n",
        "                    validation_data = validation_generator,\n",
        "                    callbacks=[cp_earlystop, cp_callback])"
      ],
      "execution_count": null,
      "outputs": []
    },
    {
      "cell_type": "code",
      "metadata": {
        "id": "YqEBNEtF2ktI"
      },
      "source": [
        "best_model = load_model('models/model_5.h5')\n",
        "# best_model.save('model_.h5')"
      ],
      "execution_count": 24,
      "outputs": []
    },
    {
      "cell_type": "code",
      "metadata": {
        "colab": {
          "base_uri": "https://localhost:8080/"
        },
        "id": "v0jwWlmnjjBR",
        "outputId": "038c28a5-03bb-4033-dd8e-e2d83c369a8a"
      },
      "source": [
        "validation_datagen = ImageDataGenerator(\n",
        "    rescale=1./255,\n",
        "    validation_split=0.2\n",
        ")\n",
        "\n",
        "validation_generator = validation_datagen.flow_from_directory(\n",
        "    train_path,\n",
        "    target_size=(IMG_HEIGHT, IMG_WIDTH),\n",
        "    class_mode=None,\n",
        "    seed=123,\n",
        "    batch_size=BATCH_SIZE,\n",
        "    subset='validation'\n",
        ")"
      ],
      "execution_count": 25,
      "outputs": [
        {
          "output_type": "stream",
          "text": [
            "Found 337 images belonging to 7 classes.\n"
          ],
          "name": "stdout"
        }
      ]
    },
    {
      "cell_type": "code",
      "metadata": {
        "id": "I9NeMz2GmLi1"
      },
      "source": [
        "# preds = best_model.predict_generator(validation_generator)\n",
        "# pred_idx = preds.argmax(axis=-1)\n",
        "\n",
        "# label = {0 : 'dog', 1 : 'elephant', 2 : 'giraffe', 3 : 'guitar',\n",
        "#          4 : 'horse', 5 : 'house', 6 : 'person'}\n",
        "# pred_label = []\n",
        "\n",
        "# for idx in range(len(pred_idx)):\n",
        "#   pred_label.append(label[pred_idx[idx]])"
      ],
      "execution_count": 27,
      "outputs": []
    },
    {
      "cell_type": "code",
      "metadata": {
        "id": "dXEkCNJgjibM"
      },
      "source": [
        "# for x, y in zip(validation_generator, pred_idx):\n",
        "#     print(x[0].shape, y)\n",
        "    \n",
        "#     fig, axes = plt.subplots(4, 5)\n",
        "#     fig.set_size_inches(15, 10)\n",
        "#     for i in range(20):\n",
        "#         axes[i//5, i%5].imshow(x[i])\n",
        "#         axes[i//5, i%5].axis('off')\n",
        "#         axes[i//5, i%5].set_title(pred_label[i])\n",
        "#     plt.show()\n",
        "#     break"
      ],
      "execution_count": null,
      "outputs": []
    },
    {
      "cell_type": "code",
      "metadata": {
        "colab": {
          "base_uri": "https://localhost:8080/"
        },
        "id": "55mw2Lvz-YRo",
        "outputId": "56b928ff-b341-46b7-df54-ff0f22a63050"
      },
      "source": [
        "test_path = '/content/drive/My Drive/programmers/test/'\n",
        "\n",
        "test_datagen = ImageDataGenerator(\n",
        "    rescale=1./255\n",
        ")\n",
        "\n",
        "test_generator = test_datagen.flow_from_directory(\n",
        "    test_path,\n",
        "    target_size=(IMG_HEIGHT, IMG_WIDTH),\n",
        "    shuffle=False,\n",
        "    class_mode=None,\n",
        "    batch_size=BATCH_SIZE\n",
        ")"
      ],
      "execution_count": 29,
      "outputs": [
        {
          "output_type": "stream",
          "text": [
            "Found 350 images belonging to 1 classes.\n"
          ],
          "name": "stdout"
        }
      ]
    },
    {
      "cell_type": "code",
      "metadata": {
        "id": "f6_vXa-TDD_b"
      },
      "source": [
        "preds = best_model.predict_generator(test_generator)\n",
        "pred_idx = preds.argmax(axis=-1)"
      ],
      "execution_count": null,
      "outputs": []
    },
    {
      "cell_type": "code",
      "metadata": {
        "id": "W-_E_pKMvz21"
      },
      "source": [
        "# n_members = 5\n",
        "# models = []\n",
        "\n",
        "# for i in range(n_members):\n",
        "# \tfilename = 'models/model_' + str(i + 1) + '.h5'\n",
        "# \tmodel = load_model(filename)\n",
        "# \tmodels.append(model)\n",
        "\n",
        "# models"
      ],
      "execution_count": null,
      "outputs": []
    },
    {
      "cell_type": "code",
      "metadata": {
        "id": "jAcPPkocvz09"
      },
      "source": [
        "# sum_preds = [model.predict_generator(test_generator) for model in models]\n",
        "# sum_preds = np.array(sum_preds)\n",
        "# summed = np.sum(sum_preds, axis=0)\n",
        "# pred_idx = summed.argmax(axis=1)"
      ],
      "execution_count": null,
      "outputs": []
    },
    {
      "cell_type": "code",
      "metadata": {
        "colab": {
          "base_uri": "https://localhost:8080/",
          "height": 221
        },
        "id": "YoumMN-T2kp4",
        "outputId": "10fb50df-a2bb-4dc2-adab-e5cb391567ac"
      },
      "source": [
        "#submission\n",
        "\n",
        "submission = pd.read_csv('/content/drive/My Drive/programmers/test_answer_sample_.csv')\n",
        "submission['answer value'] = pred_idx\n",
        "submission.to_csv('/content/drive/My Drive/programmers/submission_07.csv', index=False)"
      ],
      "execution_count": 50,
      "outputs": [
        {
          "output_type": "stream",
          "text": [
            "(350, 2)\n"
          ],
          "name": "stdout"
        },
        {
          "output_type": "execute_result",
          "data": {
            "text/html": [
              "<div>\n",
              "<style scoped>\n",
              "    .dataframe tbody tr th:only-of-type {\n",
              "        vertical-align: middle;\n",
              "    }\n",
              "\n",
              "    .dataframe tbody tr th {\n",
              "        vertical-align: top;\n",
              "    }\n",
              "\n",
              "    .dataframe thead th {\n",
              "        text-align: right;\n",
              "    }\n",
              "</style>\n",
              "<table border=\"1\" class=\"dataframe\">\n",
              "  <thead>\n",
              "    <tr style=\"text-align: right;\">\n",
              "      <th></th>\n",
              "      <th>Unnamed: 0</th>\n",
              "      <th>answer value</th>\n",
              "    </tr>\n",
              "  </thead>\n",
              "  <tbody>\n",
              "    <tr>\n",
              "      <th>0</th>\n",
              "      <td>0</td>\n",
              "      <td>0</td>\n",
              "    </tr>\n",
              "    <tr>\n",
              "      <th>1</th>\n",
              "      <td>1</td>\n",
              "      <td>0</td>\n",
              "    </tr>\n",
              "    <tr>\n",
              "      <th>2</th>\n",
              "      <td>2</td>\n",
              "      <td>0</td>\n",
              "    </tr>\n",
              "    <tr>\n",
              "      <th>3</th>\n",
              "      <td>3</td>\n",
              "      <td>0</td>\n",
              "    </tr>\n",
              "    <tr>\n",
              "      <th>4</th>\n",
              "      <td>4</td>\n",
              "      <td>0</td>\n",
              "    </tr>\n",
              "  </tbody>\n",
              "</table>\n",
              "</div>"
            ],
            "text/plain": [
              "   Unnamed: 0  answer value\n",
              "0           0             0\n",
              "1           1             0\n",
              "2           2             0\n",
              "3           3             0\n",
              "4           4             0"
            ]
          },
          "metadata": {
            "tags": []
          },
          "execution_count": 50
        }
      ]
    }
  ]
}