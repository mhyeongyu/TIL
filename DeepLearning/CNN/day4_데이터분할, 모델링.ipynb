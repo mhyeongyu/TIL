{
  "nbformat": 4,
  "nbformat_minor": 0,
  "metadata": {
    "accelerator": "GPU",
    "colab": {
      "name": "day4.ipynb",
      "provenance": [],
      "collapsed_sections": []
    },
    "kernelspec": {
      "display_name": "Python 3",
      "name": "python3"
    },
    "language_info": {
      "name": "python"
    }
  },
  "cells": [
    {
      "cell_type": "code",
      "metadata": {
        "colab": {
          "base_uri": "https://localhost:8080/"
        },
        "id": "llNuK7UbS3Na",
        "outputId": "3c1ab4d6-49f5-4b5a-e87a-ea69caf87ebb"
      },
      "source": [
        "from google.colab import drive\n",
        "drive.mount('/content/drive')"
      ],
      "execution_count": 1,
      "outputs": [
        {
          "output_type": "stream",
          "text": [
            "Mounted at /content/drive\n"
          ],
          "name": "stdout"
        }
      ]
    },
    {
      "cell_type": "code",
      "metadata": {
        "id": "xLApirPyT0jG"
      },
      "source": [
        "import numpy as np\n",
        "import matplotlib.pyplot as plt\n",
        "\n",
        "import tensorflow as tf\n",
        "from tensorflow import keras\n",
        "from tensorflow.keras import layers\n",
        "from tensorflow.keras.preprocessing import image_dataset_from_directory\n",
        "from tensorflow.keras.preprocessing.image import ImageDataGenerator"
      ],
      "execution_count": 2,
      "outputs": []
    },
    {
      "cell_type": "code",
      "metadata": {
        "id": "doFkXu_LT8OV"
      },
      "source": [
        "train_path = '/content/drive/My Drive/data/seg_train/'\n",
        "test_path = '/content/drive/My Drive/data/seg_test/'\n",
        "\n",
        "img_height = 180\n",
        "img_width = 180\n",
        "batch_size = 64"
      ],
      "execution_count": 9,
      "outputs": []
    },
    {
      "cell_type": "code",
      "metadata": {
        "colab": {
          "base_uri": "https://localhost:8080/"
        },
        "id": "VEgPWWLxnDd_",
        "outputId": "4e86bb52-c079-4bf5-b5a7-fbe076c5bfe8"
      },
      "source": [
        "#validation_split\n",
        "\n",
        "train_datagen = ImageDataGenerator(rescale=1./255,\n",
        "    shear_range=0.2,\n",
        "    zoom_range=0.2,\n",
        "    horizontal_flip=True,\n",
        "    validation_split=0.2)\n",
        "\n",
        "train_generator = train_datagen.flow_from_directory(\n",
        "    train_path,\n",
        "    target_size=(img_height, img_width),\n",
        "    batch_size=batch_size,\n",
        "    class_mode='categorical',\n",
        "    subset='training')\n",
        "\n",
        "validation_generator = train_datagen.flow_from_directory(\n",
        "    train_path,\n",
        "    target_size=(img_height, img_width),\n",
        "    batch_size=batch_size,\n",
        "    class_mode='categorical',\n",
        "    subset='validation')"
      ],
      "execution_count": 10,
      "outputs": [
        {
          "output_type": "stream",
          "text": [
            "Found 2400 images belonging to 6 classes.\n",
            "Found 600 images belonging to 6 classes.\n"
          ],
          "name": "stdout"
        }
      ]
    },
    {
      "cell_type": "code",
      "metadata": {
        "colab": {
          "base_uri": "https://localhost:8080/"
        },
        "id": "BBCgXCYfT8Kd",
        "outputId": "f66382ec-7832-44e3-853f-93a5a829c14c"
      },
      "source": [
        "model = tf.keras.models.Sequential([\n",
        "    tf.keras.layers.Conv2D(32, (3,3), input_shape=(180, 180, 3), activation='relu'),\n",
        "    tf.keras.layers.MaxPooling2D(2, 2),\n",
        "    tf.keras.layers.Conv2D(64, (3,3), activation='relu'),\n",
        "    tf.keras.layers.MaxPooling2D(2,2),\n",
        "    tf.keras.layers.Conv2D(128, (3,3), activation='relu'),\n",
        "    tf.keras.layers.MaxPooling2D(2,2),\n",
        "    tf.keras.layers.Conv2D(128, (3,3), activation='relu'),\n",
        "    tf.keras.layers.MaxPooling2D(2,2),\n",
        "    tf.keras.layers.Flatten(),\n",
        "    tf.keras.layers.Dense(256, activation='relu'),\n",
        "    tf.keras.layers.Dense(6, activation='softmax')\n",
        "])\n",
        "\n",
        "model.compile(loss = 'categorical_crossentropy',\n",
        "              optimizer = 'adam',\n",
        "              metrics = ['accuracy'])\n",
        "\n",
        "model.summary()"
      ],
      "execution_count": 11,
      "outputs": [
        {
          "output_type": "stream",
          "text": [
            "Model: \"sequential_3\"\n",
            "_________________________________________________________________\n",
            "Layer (type)                 Output Shape              Param #   \n",
            "=================================================================\n",
            "conv2d_12 (Conv2D)           (None, 178, 178, 32)      896       \n",
            "_________________________________________________________________\n",
            "max_pooling2d_10 (MaxPooling (None, 89, 89, 32)        0         \n",
            "_________________________________________________________________\n",
            "conv2d_13 (Conv2D)           (None, 87, 87, 64)        18496     \n",
            "_________________________________________________________________\n",
            "max_pooling2d_11 (MaxPooling (None, 43, 43, 64)        0         \n",
            "_________________________________________________________________\n",
            "conv2d_14 (Conv2D)           (None, 41, 41, 128)       73856     \n",
            "_________________________________________________________________\n",
            "max_pooling2d_12 (MaxPooling (None, 20, 20, 128)       0         \n",
            "_________________________________________________________________\n",
            "conv2d_15 (Conv2D)           (None, 18, 18, 128)       147584    \n",
            "_________________________________________________________________\n",
            "max_pooling2d_13 (MaxPooling (None, 9, 9, 128)         0         \n",
            "_________________________________________________________________\n",
            "flatten_3 (Flatten)          (None, 10368)             0         \n",
            "_________________________________________________________________\n",
            "dense_7 (Dense)              (None, 256)               2654464   \n",
            "_________________________________________________________________\n",
            "dense_8 (Dense)              (None, 6)                 1542      \n",
            "=================================================================\n",
            "Total params: 2,896,838\n",
            "Trainable params: 2,896,838\n",
            "Non-trainable params: 0\n",
            "_________________________________________________________________\n"
          ],
          "name": "stdout"
        }
      ]
    },
    {
      "cell_type": "code",
      "metadata": {
        "colab": {
          "base_uri": "https://localhost:8080/"
        },
        "id": "63FaCtG4K-8L",
        "outputId": "7d115ede-5ac8-4ced-bdb9-e3ef585b706b"
      },
      "source": [
        "history = model.fit(train_generator,\n",
        "                    epochs = 15,\n",
        "                    validation_data = validation_generator)"
      ],
      "execution_count": 12,
      "outputs": [
        {
          "output_type": "stream",
          "text": [
            "Epoch 1/15\n",
            "38/38 [==============================] - 25s 627ms/step - loss: 1.6736 - accuracy: 0.2846 - val_loss: 1.2008 - val_accuracy: 0.5050\n",
            "Epoch 2/15\n",
            "38/38 [==============================] - 23s 608ms/step - loss: 1.0776 - accuracy: 0.5779 - val_loss: 1.0910 - val_accuracy: 0.5683\n",
            "Epoch 3/15\n",
            "38/38 [==============================] - 23s 610ms/step - loss: 1.0719 - accuracy: 0.5807 - val_loss: 1.0835 - val_accuracy: 0.5567\n",
            "Epoch 4/15\n",
            "38/38 [==============================] - 23s 609ms/step - loss: 0.9739 - accuracy: 0.6186 - val_loss: 1.0737 - val_accuracy: 0.5400\n",
            "Epoch 5/15\n",
            "38/38 [==============================] - 23s 608ms/step - loss: 0.9028 - accuracy: 0.6503 - val_loss: 1.1030 - val_accuracy: 0.5667\n",
            "Epoch 6/15\n",
            "38/38 [==============================] - 23s 613ms/step - loss: 0.8761 - accuracy: 0.6521 - val_loss: 0.9530 - val_accuracy: 0.6100\n",
            "Epoch 7/15\n",
            "38/38 [==============================] - 23s 609ms/step - loss: 0.7828 - accuracy: 0.7039 - val_loss: 0.9865 - val_accuracy: 0.6150\n",
            "Epoch 8/15\n",
            "38/38 [==============================] - 23s 606ms/step - loss: 0.8434 - accuracy: 0.6566 - val_loss: 0.9045 - val_accuracy: 0.6600\n",
            "Epoch 9/15\n",
            "38/38 [==============================] - 23s 610ms/step - loss: 0.6901 - accuracy: 0.7395 - val_loss: 0.8351 - val_accuracy: 0.6867\n",
            "Epoch 10/15\n",
            "38/38 [==============================] - 23s 610ms/step - loss: 0.6166 - accuracy: 0.7772 - val_loss: 0.8112 - val_accuracy: 0.6900\n",
            "Epoch 11/15\n",
            "38/38 [==============================] - 23s 613ms/step - loss: 0.5763 - accuracy: 0.7920 - val_loss: 0.8080 - val_accuracy: 0.7183\n",
            "Epoch 12/15\n",
            "38/38 [==============================] - 23s 609ms/step - loss: 0.5183 - accuracy: 0.8107 - val_loss: 0.7204 - val_accuracy: 0.7400\n",
            "Epoch 13/15\n",
            "38/38 [==============================] - 23s 614ms/step - loss: 0.5064 - accuracy: 0.8151 - val_loss: 0.8642 - val_accuracy: 0.6967\n",
            "Epoch 14/15\n",
            "38/38 [==============================] - 23s 612ms/step - loss: 0.5068 - accuracy: 0.8125 - val_loss: 0.8501 - val_accuracy: 0.6933\n",
            "Epoch 15/15\n",
            "38/38 [==============================] - 23s 610ms/step - loss: 0.4768 - accuracy: 0.8327 - val_loss: 0.7033 - val_accuracy: 0.7533\n"
          ],
          "name": "stdout"
        }
      ]
    },
    {
      "cell_type": "code",
      "metadata": {
        "colab": {
          "base_uri": "https://localhost:8080/"
        },
        "id": "0iYDsS5KrM4I",
        "outputId": "b7fa64b4-1652-4a50-bab0-1621c3649e9d"
      },
      "source": [
        "#VGG스타일, 필터 수가 2배씩 증가\n",
        "\n",
        "model = tf.keras.Sequential([\n",
        "    tf.keras.layers.Conv2D(32, (3, 3), input_shape=(180, 180, 3), activation='relu'),\n",
        "    tf.keras.layers.Conv2D(64, (3, 3), padding='same', activation='relu'),\n",
        "    tf.keras.layers.MaxPool2D((2,2)),\n",
        "    tf.keras.layers.Dropout(0.5),\n",
        "    tf.keras.layers.Conv2D(128, (3, 3), padding='same', activation='relu'),\n",
        "    tf.keras.layers.Conv2D(256, (3, 3), padding='valid', activation='relu'),\n",
        "    tf.keras.layers.MaxPool2D((2,2)),\n",
        "    tf.keras.layers.Dropout(0.5),\n",
        "    tf.keras.layers.Flatten(),\n",
        "    tf.keras.layers.Dense(512, activation='relu'),\n",
        "    tf.keras.layers.Dropout(0.5),\n",
        "    tf.keras.layers.Dense(256, activation='relu'),\n",
        "    tf.keras.layers.Dropout(0.5),\n",
        "    tf.keras.layers.Dense(6, activation='softmax')\n",
        "])\n",
        "\n",
        "model.compile(loss = 'categorical_crossentropy',\n",
        "              optimizer = 'adam',\n",
        "              metrics = ['accuracy'])\n",
        "\n",
        "model.summary()"
      ],
      "execution_count": 7,
      "outputs": [
        {
          "output_type": "stream",
          "text": [
            "Model: \"sequential_2\"\n",
            "_________________________________________________________________\n",
            "Layer (type)                 Output Shape              Param #   \n",
            "=================================================================\n",
            "conv2d_8 (Conv2D)            (None, 178, 178, 32)      896       \n",
            "_________________________________________________________________\n",
            "conv2d_9 (Conv2D)            (None, 178, 178, 64)      18496     \n",
            "_________________________________________________________________\n",
            "max_pooling2d_8 (MaxPooling2 (None, 89, 89, 64)        0         \n",
            "_________________________________________________________________\n",
            "dropout (Dropout)            (None, 89, 89, 64)        0         \n",
            "_________________________________________________________________\n",
            "conv2d_10 (Conv2D)           (None, 89, 89, 128)       73856     \n",
            "_________________________________________________________________\n",
            "conv2d_11 (Conv2D)           (None, 87, 87, 256)       295168    \n",
            "_________________________________________________________________\n",
            "max_pooling2d_9 (MaxPooling2 (None, 43, 43, 256)       0         \n",
            "_________________________________________________________________\n",
            "dropout_1 (Dropout)          (None, 43, 43, 256)       0         \n",
            "_________________________________________________________________\n",
            "flatten_2 (Flatten)          (None, 473344)            0         \n",
            "_________________________________________________________________\n",
            "dense_4 (Dense)              (None, 512)               242352640 \n",
            "_________________________________________________________________\n",
            "dropout_2 (Dropout)          (None, 512)               0         \n",
            "_________________________________________________________________\n",
            "dense_5 (Dense)              (None, 256)               131328    \n",
            "_________________________________________________________________\n",
            "dropout_3 (Dropout)          (None, 256)               0         \n",
            "_________________________________________________________________\n",
            "dense_6 (Dense)              (None, 6)                 1542      \n",
            "=================================================================\n",
            "Total params: 242,873,926\n",
            "Trainable params: 242,873,926\n",
            "Non-trainable params: 0\n",
            "_________________________________________________________________\n"
          ],
          "name": "stdout"
        }
      ]
    },
    {
      "cell_type": "code",
      "metadata": {
        "colab": {
          "base_uri": "https://localhost:8080/"
        },
        "id": "PjNgciqMT8IY",
        "outputId": "e1b9faf6-0688-4ba0-8823-b5014edd7e4b"
      },
      "source": [
        "history = model.fit(train_generator,\n",
        "                    epochs = 15,\n",
        "                    validation_data = validation_generator)"
      ],
      "execution_count": 8,
      "outputs": [
        {
          "output_type": "stream",
          "text": [
            "Epoch 1/15\n",
            "38/38 [==============================] - 783s 20s/step - loss: 4.9088 - accuracy: 0.1871 - val_loss: 1.6427 - val_accuracy: 0.2517\n",
            "Epoch 2/15\n",
            "38/38 [==============================] - 28s 721ms/step - loss: 1.6139 - accuracy: 0.2936 - val_loss: 1.4984 - val_accuracy: 0.3983\n",
            "Epoch 3/15\n",
            "38/38 [==============================] - 28s 722ms/step - loss: 1.4804 - accuracy: 0.3933 - val_loss: 1.3642 - val_accuracy: 0.4317\n",
            "Epoch 4/15\n",
            "38/38 [==============================] - 28s 722ms/step - loss: 1.3157 - accuracy: 0.4654 - val_loss: 1.2679 - val_accuracy: 0.4850\n",
            "Epoch 5/15\n",
            "38/38 [==============================] - 28s 727ms/step - loss: 1.2522 - accuracy: 0.5031 - val_loss: 1.2316 - val_accuracy: 0.4633\n",
            "Epoch 6/15\n",
            "38/38 [==============================] - 28s 725ms/step - loss: 1.2187 - accuracy: 0.5112 - val_loss: 1.1550 - val_accuracy: 0.5250\n",
            "Epoch 7/15\n",
            "38/38 [==============================] - 27s 719ms/step - loss: 1.1949 - accuracy: 0.5084 - val_loss: 1.1355 - val_accuracy: 0.5200\n",
            "Epoch 8/15\n",
            "38/38 [==============================] - 27s 715ms/step - loss: 1.1255 - accuracy: 0.5391 - val_loss: 1.2022 - val_accuracy: 0.4883\n",
            "Epoch 9/15\n",
            "38/38 [==============================] - 27s 714ms/step - loss: 1.1582 - accuracy: 0.5246 - val_loss: 1.0929 - val_accuracy: 0.5350\n",
            "Epoch 10/15\n",
            "38/38 [==============================] - 27s 720ms/step - loss: 1.0588 - accuracy: 0.5643 - val_loss: 1.0851 - val_accuracy: 0.5467\n",
            "Epoch 11/15\n",
            "38/38 [==============================] - 27s 714ms/step - loss: 1.0967 - accuracy: 0.5445 - val_loss: 1.0612 - val_accuracy: 0.5467\n",
            "Epoch 12/15\n",
            "38/38 [==============================] - 27s 716ms/step - loss: 1.0070 - accuracy: 0.5756 - val_loss: 1.0172 - val_accuracy: 0.5817\n",
            "Epoch 13/15\n",
            "38/38 [==============================] - 27s 716ms/step - loss: 1.0064 - accuracy: 0.5923 - val_loss: 1.1410 - val_accuracy: 0.5400\n",
            "Epoch 14/15\n",
            "38/38 [==============================] - 27s 713ms/step - loss: 1.0122 - accuracy: 0.5882 - val_loss: 0.9982 - val_accuracy: 0.5683\n",
            "Epoch 15/15\n",
            "38/38 [==============================] - 27s 716ms/step - loss: 1.0182 - accuracy: 0.5939 - val_loss: 1.0231 - val_accuracy: 0.5967\n"
          ],
          "name": "stdout"
        }
      ]
    }
  ]
}