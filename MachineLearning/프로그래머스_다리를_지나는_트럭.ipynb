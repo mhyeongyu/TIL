{
 "cells": [
  {
   "cell_type": "markdown",
   "metadata": {},
   "source": [
    "예를 들어, 길이가 2이고 10kg 무게를 견디는 다리가 있습니다.  \n",
    "무게가 [7, 4, 5, 6]kg인 트럭이 순서대로 최단 시간 안에 다리를 건너려면 다음과 같이 건너야 합니다.  \n",
    "###  \n",
    "#### bridge_length는 1 이상 10,000 이하  \n",
    "#### weight는 1 이상 10,000 이하  \n",
    "#### truck_weight의 길이는 1 이상 10,000 이하  \n",
    "#### 모든 트럭의 무게는 1 이상 weight 이하  "
   ]
  },
  {
   "cell_type": "code",
   "execution_count": 12,
   "metadata": {},
   "outputs": [],
   "source": [
    "def solution(bridge_length, weight, truck_weights):\n",
    "    cnt = 0\n",
    "    b_weight = 0\n",
    "    bridge = [0] * bridge_length\n",
    "    finish = []\n",
    "    \n",
    "    #트럭이 다리를 전부 지나갈때까지 반복\n",
    "    while bridge:\n",
    "        \n",
    "        if bridge[0] == 0:\n",
    "            bridge.pop(0)\n",
    "            cnt += 1\n",
    "        else:\n",
    "            b_weight -= bridge[0]\n",
    "            b_truck = bridge.pop(0)\n",
    "            finish.append(b_truck)\n",
    "            cnt += 1\n",
    "        \n",
    "        #트럭을 다리로 보냄\n",
    "        if truck_weights:\n",
    "            if b_weight + truck_weights[0] <= weight:\n",
    "                b_weight += truck_weights[0]\n",
    "                truck = truck_weights.pop(0)\n",
    "                bridge.append(truck)\n",
    "            else:\n",
    "                bridge.append(0)\n",
    "    return cnt"
   ]
  },
  {
   "cell_type": "code",
   "execution_count": 13,
   "metadata": {
    "scrolled": false
   },
   "outputs": [
    {
     "data": {
      "text/plain": [
       "8"
      ]
     },
     "execution_count": 13,
     "metadata": {},
     "output_type": "execute_result"
    }
   ],
   "source": [
    "bridge_length = 2\n",
    "weight = 10\n",
    "truck_weights = [7,4,5,6]\n",
    "\n",
    "solution(bridge_length, weight, truck_weights)"
   ]
  },
  {
   "cell_type": "code",
   "execution_count": 14,
   "metadata": {},
   "outputs": [
    {
     "data": {
      "text/plain": [
       "101"
      ]
     },
     "execution_count": 14,
     "metadata": {},
     "output_type": "execute_result"
    }
   ],
   "source": [
    "bridge_length = 100\n",
    "weight = 100\n",
    "truck_weights = [10]\n",
    "\n",
    "solution(bridge_length, weight, truck_weights)"
   ]
  }
 ],
 "metadata": {
  "kernelspec": {
   "display_name": "Python 3",
   "language": "python",
   "name": "python3"
  },
  "language_info": {
   "codemirror_mode": {
    "name": "ipython",
    "version": 3
   },
   "file_extension": ".py",
   "mimetype": "text/x-python",
   "name": "python",
   "nbconvert_exporter": "python",
   "pygments_lexer": "ipython3",
   "version": "3.8.5"
  }
 },
 "nbformat": 4,
 "nbformat_minor": 4
}
