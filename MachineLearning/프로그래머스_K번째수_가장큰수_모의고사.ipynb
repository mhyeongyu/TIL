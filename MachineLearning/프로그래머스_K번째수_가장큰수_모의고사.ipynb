{
 "cells": [
  {
   "cell_type": "code",
   "execution_count": 5,
   "metadata": {},
   "outputs": [],
   "source": [
    "def solution(array, commands):\n",
    "    \n",
    "    ans = []\n",
    "    \n",
    "    for i in commands:\n",
    "        first = i[0]\n",
    "        second = i[1]\n",
    "        third = i[2]\n",
    "        \n",
    "        arr = array[first-1:second]\n",
    "        arr.sort()\n",
    "        answer = arr[third-1]\n",
    "        ans.append(answer)\n",
    "    \n",
    "    return ans"
   ]
  },
  {
   "cell_type": "code",
   "execution_count": 6,
   "metadata": {},
   "outputs": [
    {
     "data": {
      "text/plain": [
       "[5, 6, 3]"
      ]
     },
     "execution_count": 6,
     "metadata": {},
     "output_type": "execute_result"
    }
   ],
   "source": [
    "array = [1, 5, 2, 6, 3, 7, 4]\n",
    "commands = [[2, 5, 3], [4, 4, 1], [1, 7, 3]]\n",
    "\n",
    "solution(array, commands)"
   ]
  },
  {
   "cell_type": "code",
   "execution_count": 8,
   "metadata": {},
   "outputs": [],
   "source": [
    "def solution(numbers):\n",
    "    num = list(map(str, numbers))\n",
    "    \n",
    "    num.sort(key=lambda x: x*3, reverse=True)\n",
    "    number = ''.join(num)\n",
    "    number = str(int(number))\n",
    "    \n",
    "    return number"
   ]
  },
  {
   "cell_type": "code",
   "execution_count": 9,
   "metadata": {},
   "outputs": [
    {
     "name": "stdout",
     "output_type": "stream",
     "text": [
      "6210\n",
      "9534330\n"
     ]
    }
   ],
   "source": [
    "numbers = [[6, 10, 2],\n",
    "           [3, 30, 34, 5, 9]]\n",
    "\n",
    "for x in numbers:\n",
    "    print(solution(x))"
   ]
  },
  {
   "cell_type": "code",
   "execution_count": 10,
   "metadata": {},
   "outputs": [],
   "source": [
    "def solution(answers):\n",
    "    \n",
    "    ans_len = len(answers)\n",
    "    a = 0\n",
    "    b = 0\n",
    "    c = 0\n",
    "    \n",
    "    first = [1,2,3,4,5]\n",
    "    second = [2,1,2,3,2,4,2,5]\n",
    "    third = [3,3,1,1,2,2,4,4,5,5]\n",
    "    \n",
    "    for i in range(ans_len):\n",
    "        if answers[i] == first[i%5]:\n",
    "            a += 1\n",
    "        if answers[i] == second[i%8]:\n",
    "            b += 1\n",
    "        if answers[i] == third[i%10]:\n",
    "            c += 1\n",
    "    \n",
    "    answer = [a,b,c]\n",
    "    max_answer = max(answer)\n",
    "    ans_list = []\n",
    "    \n",
    "    for idx, score in enumerate(answer):\n",
    "        if score == max_answer:\n",
    "            ans_list.append(idx+1)\n",
    "            \n",
    "    return  ans_list "
   ]
  },
  {
   "cell_type": "code",
   "execution_count": 11,
   "metadata": {},
   "outputs": [
    {
     "name": "stdout",
     "output_type": "stream",
     "text": [
      "[1]\n",
      "[1, 2, 3]\n"
     ]
    }
   ],
   "source": [
    "answers = [[1,2,3,4,5],\n",
    "           [1,3,2,4,2]]\n",
    "\n",
    "for x in answers:\n",
    "    print(solution(x))"
   ]
  }
 ],
 "metadata": {
  "kernelspec": {
   "display_name": "Python 3",
   "language": "python",
   "name": "python3"
  },
  "language_info": {
   "codemirror_mode": {
    "name": "ipython",
    "version": 3
   },
   "file_extension": ".py",
   "mimetype": "text/x-python",
   "name": "python",
   "nbconvert_exporter": "python",
   "pygments_lexer": "ipython3",
   "version": "3.8.5"
  }
 },
 "nbformat": 4,
 "nbformat_minor": 4
}
