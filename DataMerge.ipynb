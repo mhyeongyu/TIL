{
 "cells": [
  {
   "cell_type": "code",
   "execution_count": 156,
   "metadata": {},
   "outputs": [],
   "source": [
    "import warnings\n",
    "warnings.filterwarnings('ignore')\n",
    "import numpy as np\n",
    "import pandas as pd\n",
    "import matplotlib.pyplot as plt\n",
    "import seaborn as sns"
   ]
  },
  {
   "cell_type": "code",
   "execution_count": 157,
   "metadata": {
    "scrolled": true
   },
   "outputs": [],
   "source": [
    "temp_dic = {}\n",
    "\n",
    "for i in range(1, 11):\n",
    "    if i != 10:\n",
    "        df = pd.read_table(f'온도_2012-0{i}.txt', encoding='cp949')\n",
    "        temp_dic[i] = df\n",
    "    else:\n",
    "        df = pd.read_table(f'온도_2012-{i}.txt', encoding='cp949')\n",
    "        temp_dic[i] = df\n",
    "        \n",
    "df = pd.read_table('온도_2011-12.txt', encoding='cp949')\n",
    "temp_dic[0] = df"
   ]
  },
  {
   "cell_type": "code",
   "execution_count": 158,
   "metadata": {},
   "outputs": [],
   "source": [
    "power_dic = {}\n",
    "\n",
    "for i in range(1, 11):\n",
    "    if i != 10:\n",
    "        df = pd.read_table(f'전력_2012-0{i}.txt', encoding='cp949')\n",
    "        power_dic[i] = df\n",
    "    else:\n",
    "        df = pd.read_table(f'전력_2012-{i}.txt', encoding='cp949')\n",
    "        power_dic[i] = df\n",
    "\n",
    "df = pd.read_table('전력_2011-12.txt', encoding='cp949')\n",
    "power_dic[0] = df"
   ]
  },
  {
   "cell_type": "code",
   "execution_count": 159,
   "metadata": {},
   "outputs": [],
   "source": [
    "temp_df = pd.concat(temp_dic).reset_index(drop=True)\n",
    "power_df = pd.concat(power_dic).reset_index(drop=True)"
   ]
  },
  {
   "cell_type": "code",
   "execution_count": 160,
   "metadata": {},
   "outputs": [],
   "source": [
    "remove_power_list = [2, 216, 262, 301, 302]\n",
    "remove_temp_list = [152, 267]\n",
    "\n",
    "remove_power_day = '2012-02-29'"
   ]
  },
  {
   "cell_type": "code",
   "execution_count": 161,
   "metadata": {},
   "outputs": [],
   "source": [
    "power_df = power_df[power_df['ST_DATE'] != remove_power_day]"
   ]
  },
  {
   "cell_type": "code",
   "execution_count": 162,
   "metadata": {},
   "outputs": [],
   "source": [
    "power_df = power_df[(power_df['H_ID'] != 2) & \n",
    "                    (power_df['H_ID'] != 216) & \n",
    "                    (power_df['H_ID'] != 262) & \n",
    "                    (power_df['H_ID'] != 301) & \n",
    "                    (power_df['H_ID'] != 302)]"
   ]
  },
  {
   "cell_type": "code",
   "execution_count": 163,
   "metadata": {},
   "outputs": [],
   "source": [
    "temp_df = temp_df[(temp_df['H_ID'] != 152) &\n",
    "                  (temp_df['H_ID'] != 267)]"
   ]
  },
  {
   "cell_type": "code",
   "execution_count": 164,
   "metadata": {},
   "outputs": [],
   "source": [
    "power_time_column = []\n",
    "for i in range(151):\n",
    "    if i >= 7:\n",
    "        col = 'power_' + power_df.columns[i]\n",
    "    else:\n",
    "        col = power_df.columns[i]\n",
    "    \n",
    "    power_time_column.append(col)\n",
    "\n",
    "    \n",
    "temp_time_column = []\n",
    "for i in range(149):\n",
    "    if i >= 5:\n",
    "        col = 'temp_' + temp_df.columns[i]\n",
    "    else:\n",
    "        col = temp_df.columns[i]\n",
    "    \n",
    "    temp_time_column.append(col)"
   ]
  },
  {
   "cell_type": "code",
   "execution_count": 165,
   "metadata": {},
   "outputs": [],
   "source": [
    "power_df = pd.DataFrame(power_df.values, columns=power_time_column)\n",
    "temp_df = pd.DataFrame(temp_df.values, columns=temp_time_column)"
   ]
  },
  {
   "cell_type": "code",
   "execution_count": 166,
   "metadata": {},
   "outputs": [],
   "source": [
    "power_time_col = power_df.columns[7:].tolist()\n",
    "power_col = power_df.columns[:7].tolist()\n",
    "\n",
    "temp_time_col = temp_df.columns[5:].tolist()\n",
    "temp_col = temp_df.columns[:5].tolist()"
   ]
  },
  {
   "cell_type": "code",
   "execution_count": 167,
   "metadata": {},
   "outputs": [],
   "source": [
    "power_data = power_df.melt(id_vars=power_col, value_vars=power_time_col)"
   ]
  },
  {
   "cell_type": "code",
   "execution_count": 168,
   "metadata": {},
   "outputs": [],
   "source": [
    "power_data['hour'] = power_data['variable'].apply(lambda x: x.split('_')[1].split('H')[1])\n",
    "power_data['minute'] = power_data['variable'].apply(lambda x: str(int(x.split('_')[2]) - 1) + '0')\n",
    "power_data['date_time'] = power_data['ST_DATE'] + ' ' + power_data['hour'] + ':' + power_data['minute']\n",
    "power_data['date_time'] = pd.to_datetime(power_data['date_time'])"
   ]
  },
  {
   "cell_type": "code",
   "execution_count": 169,
   "metadata": {},
   "outputs": [],
   "source": [
    "power_data = power_data.drop(['ST_DATE', 'variable', 'hour', 'minute', 'PointName'], axis=1)\n",
    "power_data = power_data.rename(columns={'value':'power'})"
   ]
  },
  {
   "cell_type": "code",
   "execution_count": 170,
   "metadata": {},
   "outputs": [],
   "source": [
    "temp_data = temp_df.melt(id_vars=temp_col, value_vars=temp_time_col)"
   ]
  },
  {
   "cell_type": "code",
   "execution_count": 171,
   "metadata": {},
   "outputs": [],
   "source": [
    "temp_data['hour'] = temp_data['variable'].apply(lambda x: x.split('_')[1].split('H')[1])\n",
    "temp_data['minute'] = temp_data['variable'].apply(lambda x: str(int(x.split('_')[2]) - 1) + '0')\n",
    "temp_data['date_time'] = temp_data['ST_DATE'] + ' ' + temp_data['hour'] + ':' + temp_data['minute']\n",
    "temp_data['date_time'] = pd.to_datetime(temp_data['date_time'])"
   ]
  },
  {
   "cell_type": "code",
   "execution_count": 172,
   "metadata": {},
   "outputs": [],
   "source": [
    "temp_data = temp_data.drop(['ST_DATE', 'variable', 'hour', 'minute'], axis=1)\n",
    "temp_data = temp_data.rename(columns={'value':'temp'})"
   ]
  },
  {
   "cell_type": "code",
   "execution_count": 173,
   "metadata": {},
   "outputs": [],
   "source": [
    "merge_df = power_data.merge(temp_data, how='left', on=['H_ID', 'date_time', 'APT_TF', 'M2', 'PersonCount']).dropna()\n",
    "merge_df['APT'] = merge_df['APT_TF'].replace({'아파트':'1', '비아파트':'0'})\n",
    "merge_df['size'] = merge_df['M2'].replace({'1평~19평': '19', '20평~29평': '29', '30평~39평이상': '39'})\n",
    "merge_df['person'] = merge_df['PersonCount'].replace({'2인이하': '2', '3인': '3', '4인이상': '4'})"
   ]
  },
  {
   "cell_type": "code",
   "execution_count": 174,
   "metadata": {},
   "outputs": [
    {
     "name": "stdout",
     "output_type": "stream",
     "text": [
      "['TV' '가스렌지' '가습기' '감시카메라' '게임기' '공기청정기' '공유기' '김치냉장고' '냉온수기' '냉장고'\n",
      " '냉풍기(큰방)' '노트북' '다리미' '데스크탑' '드라이기' '런닝머신' '모니터' '미싱기' '믹서기' '보일러' '비데기'\n",
      " '빔프로젝트' '선풍기' '세탁기' '셋톱박스' '수족관' '스탠드' '약탕기' '어항' '에어컨' '오디오' '오븐'\n",
      " '전기맛사지기' '전기밥솥' '전기장판' '전기포트' '전기히터' '전력총합' '전자렌지' '정수기' '제본기' '제습기'\n",
      " '청소기' '충전기' '커피머신' '커피포트' '토스트기' '프린터' '화장대']\n"
     ]
    }
   ],
   "source": [
    "from sklearn.preprocessing import LabelEncoder\n",
    "\n",
    "encoder = LabelEncoder()\n",
    "\n",
    "encoder.fit(merge_df['HA'])\n",
    "merge_df['ha'] = encoder.transform(merge_df['HA'])\n",
    "print(encoder.classes_)"
   ]
  },
  {
   "cell_type": "code",
   "execution_count": 175,
   "metadata": {},
   "outputs": [],
   "source": [
    "merge_df = merge_df[['date_time', 'H_ID', 'APT', 'size', 'person', 'ha', 'power', 'temp']].sort_values(['date_time', 'H_ID']).reset_index(drop=True)"
   ]
  },
  {
   "cell_type": "code",
   "execution_count": 176,
   "metadata": {},
   "outputs": [
    {
     "data": {
      "text/plain": [
       "'에어컨'"
      ]
     },
     "execution_count": 176,
     "metadata": {},
     "output_type": "execute_result"
    }
   ],
   "source": [
    "encoder.classes_[29]"
   ]
  },
  {
   "cell_type": "code",
   "execution_count": 177,
   "metadata": {},
   "outputs": [
    {
     "data": {
      "text/plain": [
       "'전기밥솥'"
      ]
     },
     "execution_count": 177,
     "metadata": {},
     "output_type": "execute_result"
    }
   ],
   "source": [
    "encoder.classes_[33]"
   ]
  },
  {
   "cell_type": "code",
   "execution_count": 178,
   "metadata": {},
   "outputs": [
    {
     "data": {
      "text/plain": [
       "'세탁기'"
      ]
     },
     "execution_count": 178,
     "metadata": {},
     "output_type": "execute_result"
    }
   ],
   "source": [
    "encoder.classes_[23]"
   ]
  },
  {
   "cell_type": "code",
   "execution_count": 179,
   "metadata": {},
   "outputs": [],
   "source": [
    "clean_df = merge_df[merge_df['ha'] == 23].reset_index(drop=True)\n",
    "air_df = merge_df[merge_df['ha'] == 29].reset_index(drop=True)\n",
    "rice_df = merge_df[merge_df['ha'] == 33].reset_index(drop=True)"
   ]
  },
  {
   "cell_type": "code",
   "execution_count": 180,
   "metadata": {},
   "outputs": [
    {
     "name": "stdout",
     "output_type": "stream",
     "text": [
      "(1931490, 8)\n",
      "(293664, 8)\n",
      "(2226061, 8)\n"
     ]
    }
   ],
   "source": [
    "print(clean_df.shape)\n",
    "print(air_df.shape)\n",
    "print(rice_df.shape)"
   ]
  },
  {
   "cell_type": "code",
   "execution_count": 54,
   "metadata": {},
   "outputs": [],
   "source": [
    "new_air_df = air_df.merge(clean_df, on=['date_time', 'H_ID', 'APT', 'size', 'person', 'temp'], how='left').dropna()"
   ]
  },
  {
   "cell_type": "code",
   "execution_count": 57,
   "metadata": {},
   "outputs": [],
   "source": [
    "final_df = new_air_df.merge(rice_df, on=['date_time', 'H_ID', 'APT', 'size', 'person', 'temp'], how='left').dropna().reset_index(drop=True)"
   ]
  },
  {
   "cell_type": "code",
   "execution_count": 59,
   "metadata": {},
   "outputs": [],
   "source": [
    "def holiday(x):\n",
    "    if x.weekday() == 5 or x.weekday() == 6:\n",
    "        return 1\n",
    "    else: \n",
    "        return 0"
   ]
  },
  {
   "cell_type": "code",
   "execution_count": 60,
   "metadata": {},
   "outputs": [],
   "source": [
    "final_df['hoilday'] = final_df['date_time'].apply(lambda x: holiday(x))\n",
    "final_df['month'] = final_df['date_time'].apply(lambda x: x.month)\n",
    "final_df['weekday'] = final_df['date_time'].apply(lambda x: x.weekday())\n",
    "final_df['hour'] = final_df['date_time'].apply(lambda x: x.hour)\n",
    "final_df['minute'] = final_df['date_time'].apply(lambda x: x.minute // 10)\n",
    "# df['time'] = df['date_time'].apply(lambda x: x.time())"
   ]
  },
  {
   "cell_type": "code",
   "execution_count": 67,
   "metadata": {},
   "outputs": [],
   "source": [
    "final_df = final_df.rename(columns={'ha_x':'air', 'ha_y':'washer', 'ha':'rice', \n",
    "                                    'power_x':'power_air', 'power_y':'power_washer', 'power':'power_rice'})"
   ]
  },
  {
   "cell_type": "code",
   "execution_count": 69,
   "metadata": {},
   "outputs": [
    {
     "data": {
      "text/plain": [
       "Index(['date_time', 'H_ID', 'APT', 'size', 'person', 'air', 'power_air',\n",
       "       'temp', 'washer', 'power_washer', 'rice', 'power_rice', 'hoilday',\n",
       "       'month', 'weekday', 'hour', 'minute'],\n",
       "      dtype='object')"
      ]
     },
     "execution_count": 69,
     "metadata": {},
     "output_type": "execute_result"
    }
   ],
   "source": [
    "final_df.columns"
   ]
  },
  {
   "cell_type": "code",
   "execution_count": 71,
   "metadata": {},
   "outputs": [],
   "source": [
    "final_df = final_df[['date_time', 'H_ID', 'APT', 'size', 'person', \n",
    "                     'hoilday', 'month', 'weekday', 'hour', 'minute', \n",
    "                     'washer', 'power_washer', 'air', 'power_air', 'rice', 'power_rice', 'temp']]"
   ]
  },
  {
   "cell_type": "code",
   "execution_count": 78,
   "metadata": {},
   "outputs": [],
   "source": [
    "final_df.loc[(final_df['power_washer'] != 0) &\n",
    "             (final_df['power_rice'] == 0) &\n",
    "             (final_df['power_air'] == 0), 'washer'] = 1\n",
    "\n",
    "final_df.loc[final_df['washer'] == 23, 'washer'] = 0\n",
    "\n",
    "final_df.loc[(final_df['power_washer'] == 0) &\n",
    "             (final_df['power_rice'] != 0) &\n",
    "             (final_df['power_air'] == 0), 'rice'] = 1\n",
    "\n",
    "final_df.loc[final_df['rice'] == 33, 'rice'] = 0\n",
    "\n",
    "final_df.loc[(final_df['power_washer'] == 0) &\n",
    "             (final_df['power_rice'] == 0) &\n",
    "             (final_df['power_air'] != 0), 'air'] = 1\n",
    "\n",
    "final_df.loc[final_df['air'] == 29, 'air'] = 0"
   ]
  },
  {
   "cell_type": "code",
   "execution_count": 99,
   "metadata": {},
   "outputs": [],
   "source": [
    "final_df.loc[(final_df['power_washer'] == 0) &\n",
    "             (final_df['power_rice'] != 0) &\n",
    "             (final_df['power_air'] != 0), 'air_rice'] = 1\n",
    "\n",
    "final_df['air_rice'] = final_df['air_rice'].fillna(0)\n",
    "\n",
    "final_df.loc[(final_df['power_washer'] != 0) &\n",
    "             (final_df['power_rice'] == 0) &\n",
    "             (final_df['power_air'] != 0), 'air_washer'] = 1\n",
    "\n",
    "final_df['air_washer'] = final_df['air_washer'].fillna(0)\n",
    "\n",
    "final_df.loc[(final_df['power_washer'] != 0) &\n",
    "             (final_df['power_rice'] != 0) &\n",
    "             (final_df['power_air'] == 0), 'washer_rice'] = 1\n",
    "\n",
    "final_df['washer_rice'] = final_df['washer_rice'].fillna(0)\n",
    "\n",
    "final_df.loc[(final_df['power_washer'] != 0) &\n",
    "             (final_df['power_rice'] != 0) &\n",
    "             (final_df['power_air'] != 0), 'all'] = 1\n",
    "\n",
    "final_df['all'] = final_df['all'].fillna(0)\n",
    "\n",
    "final_df.loc[(final_df['power_washer'] == 0) &\n",
    "             (final_df['power_rice'] == 0) &\n",
    "             (final_df['power_air'] == 0), 'all_not'] = 1\n",
    "\n",
    "final_df['all_not'] = final_df['all_not'].fillna(0)"
   ]
  },
  {
   "cell_type": "code",
   "execution_count": 115,
   "metadata": {},
   "outputs": [],
   "source": [
    "final_df = final_df[['date_time', 'H_ID', 'APT', 'size', 'person', 'hoilday', 'month',\n",
    "                     'weekday', 'hour', 'minute', 'power_washer', 'power_air', 'power_rice', 'temp',\n",
    "                     'washer', 'air', 'rice', 'air_rice', 'air_washer', 'washer_rice', 'all', 'all_not']]"
   ]
  },
  {
   "cell_type": "code",
   "execution_count": 151,
   "metadata": {},
   "outputs": [
    {
     "data": {
      "text/html": [
       "<div>\n",
       "<style scoped>\n",
       "    .dataframe tbody tr th:only-of-type {\n",
       "        vertical-align: middle;\n",
       "    }\n",
       "\n",
       "    .dataframe tbody tr th {\n",
       "        vertical-align: top;\n",
       "    }\n",
       "\n",
       "    .dataframe thead th {\n",
       "        text-align: right;\n",
       "    }\n",
       "</style>\n",
       "<table border=\"1\" class=\"dataframe\">\n",
       "  <thead>\n",
       "    <tr style=\"text-align: right;\">\n",
       "      <th></th>\n",
       "      <th>date_time</th>\n",
       "      <th>H_ID</th>\n",
       "      <th>APT</th>\n",
       "      <th>size</th>\n",
       "      <th>person</th>\n",
       "      <th>hoilday</th>\n",
       "      <th>month</th>\n",
       "      <th>weekday</th>\n",
       "      <th>hour</th>\n",
       "      <th>minute</th>\n",
       "      <th>...</th>\n",
       "      <th>power_rice</th>\n",
       "      <th>temp</th>\n",
       "      <th>washer</th>\n",
       "      <th>air</th>\n",
       "      <th>rice</th>\n",
       "      <th>air_rice</th>\n",
       "      <th>air_washer</th>\n",
       "      <th>washer_rice</th>\n",
       "      <th>all</th>\n",
       "      <th>all_not</th>\n",
       "    </tr>\n",
       "  </thead>\n",
       "  <tbody>\n",
       "    <tr>\n",
       "      <th>0</th>\n",
       "      <td>2012-06-01 00:00:00</td>\n",
       "      <td>28</td>\n",
       "      <td>0</td>\n",
       "      <td>29</td>\n",
       "      <td>2</td>\n",
       "      <td>0</td>\n",
       "      <td>6</td>\n",
       "      <td>4</td>\n",
       "      <td>0</td>\n",
       "      <td>0</td>\n",
       "      <td>...</td>\n",
       "      <td>0.042</td>\n",
       "      <td>30.600000</td>\n",
       "      <td>0</td>\n",
       "      <td>0</td>\n",
       "      <td>0</td>\n",
       "      <td>0</td>\n",
       "      <td>0</td>\n",
       "      <td>1</td>\n",
       "      <td>0</td>\n",
       "      <td>0</td>\n",
       "    </tr>\n",
       "    <tr>\n",
       "      <th>1</th>\n",
       "      <td>2012-06-01 00:00:00</td>\n",
       "      <td>62</td>\n",
       "      <td>1</td>\n",
       "      <td>39</td>\n",
       "      <td>4</td>\n",
       "      <td>0</td>\n",
       "      <td>6</td>\n",
       "      <td>4</td>\n",
       "      <td>0</td>\n",
       "      <td>0</td>\n",
       "      <td>...</td>\n",
       "      <td>0.006</td>\n",
       "      <td>30.600000</td>\n",
       "      <td>0</td>\n",
       "      <td>0</td>\n",
       "      <td>1</td>\n",
       "      <td>0</td>\n",
       "      <td>0</td>\n",
       "      <td>0</td>\n",
       "      <td>0</td>\n",
       "      <td>0</td>\n",
       "    </tr>\n",
       "    <tr>\n",
       "      <th>2</th>\n",
       "      <td>2012-06-01 00:00:00</td>\n",
       "      <td>197</td>\n",
       "      <td>1</td>\n",
       "      <td>19</td>\n",
       "      <td>2</td>\n",
       "      <td>0</td>\n",
       "      <td>6</td>\n",
       "      <td>4</td>\n",
       "      <td>0</td>\n",
       "      <td>0</td>\n",
       "      <td>...</td>\n",
       "      <td>0.036</td>\n",
       "      <td>30.600000</td>\n",
       "      <td>0</td>\n",
       "      <td>0</td>\n",
       "      <td>1</td>\n",
       "      <td>0</td>\n",
       "      <td>0</td>\n",
       "      <td>0</td>\n",
       "      <td>0</td>\n",
       "      <td>0</td>\n",
       "    </tr>\n",
       "    <tr>\n",
       "      <th>3</th>\n",
       "      <td>2012-06-01 00:10:00</td>\n",
       "      <td>28</td>\n",
       "      <td>0</td>\n",
       "      <td>29</td>\n",
       "      <td>2</td>\n",
       "      <td>0</td>\n",
       "      <td>6</td>\n",
       "      <td>4</td>\n",
       "      <td>0</td>\n",
       "      <td>1</td>\n",
       "      <td>...</td>\n",
       "      <td>0.008</td>\n",
       "      <td>30.600000</td>\n",
       "      <td>0</td>\n",
       "      <td>0</td>\n",
       "      <td>0</td>\n",
       "      <td>0</td>\n",
       "      <td>0</td>\n",
       "      <td>1</td>\n",
       "      <td>0</td>\n",
       "      <td>0</td>\n",
       "    </tr>\n",
       "    <tr>\n",
       "      <th>4</th>\n",
       "      <td>2012-06-01 00:10:00</td>\n",
       "      <td>62</td>\n",
       "      <td>1</td>\n",
       "      <td>39</td>\n",
       "      <td>4</td>\n",
       "      <td>0</td>\n",
       "      <td>6</td>\n",
       "      <td>4</td>\n",
       "      <td>0</td>\n",
       "      <td>1</td>\n",
       "      <td>...</td>\n",
       "      <td>0.013</td>\n",
       "      <td>30.600000</td>\n",
       "      <td>0</td>\n",
       "      <td>0</td>\n",
       "      <td>0</td>\n",
       "      <td>0</td>\n",
       "      <td>0</td>\n",
       "      <td>0</td>\n",
       "      <td>1</td>\n",
       "      <td>0</td>\n",
       "    </tr>\n",
       "    <tr>\n",
       "      <th>...</th>\n",
       "      <td>...</td>\n",
       "      <td>...</td>\n",
       "      <td>...</td>\n",
       "      <td>...</td>\n",
       "      <td>...</td>\n",
       "      <td>...</td>\n",
       "      <td>...</td>\n",
       "      <td>...</td>\n",
       "      <td>...</td>\n",
       "      <td>...</td>\n",
       "      <td>...</td>\n",
       "      <td>...</td>\n",
       "      <td>...</td>\n",
       "      <td>...</td>\n",
       "      <td>...</td>\n",
       "      <td>...</td>\n",
       "      <td>...</td>\n",
       "      <td>...</td>\n",
       "      <td>...</td>\n",
       "      <td>...</td>\n",
       "      <td>...</td>\n",
       "    </tr>\n",
       "    <tr>\n",
       "      <th>78837</th>\n",
       "      <td>2012-10-14 23:40:00</td>\n",
       "      <td>29</td>\n",
       "      <td>1</td>\n",
       "      <td>19</td>\n",
       "      <td>2</td>\n",
       "      <td>1</td>\n",
       "      <td>10</td>\n",
       "      <td>6</td>\n",
       "      <td>23</td>\n",
       "      <td>4</td>\n",
       "      <td>...</td>\n",
       "      <td>0.004</td>\n",
       "      <td>33.200001</td>\n",
       "      <td>0</td>\n",
       "      <td>0</td>\n",
       "      <td>0</td>\n",
       "      <td>0</td>\n",
       "      <td>0</td>\n",
       "      <td>0</td>\n",
       "      <td>1</td>\n",
       "      <td>0</td>\n",
       "    </tr>\n",
       "    <tr>\n",
       "      <th>78841</th>\n",
       "      <td>2012-10-14 23:50:00</td>\n",
       "      <td>29</td>\n",
       "      <td>1</td>\n",
       "      <td>19</td>\n",
       "      <td>2</td>\n",
       "      <td>1</td>\n",
       "      <td>10</td>\n",
       "      <td>6</td>\n",
       "      <td>23</td>\n",
       "      <td>5</td>\n",
       "      <td>...</td>\n",
       "      <td>0.007</td>\n",
       "      <td>33.200001</td>\n",
       "      <td>0</td>\n",
       "      <td>0</td>\n",
       "      <td>0</td>\n",
       "      <td>0</td>\n",
       "      <td>0</td>\n",
       "      <td>0</td>\n",
       "      <td>1</td>\n",
       "      <td>0</td>\n",
       "    </tr>\n",
       "    <tr>\n",
       "      <th>78842</th>\n",
       "      <td>2012-10-14 23:50:00</td>\n",
       "      <td>62</td>\n",
       "      <td>1</td>\n",
       "      <td>39</td>\n",
       "      <td>4</td>\n",
       "      <td>1</td>\n",
       "      <td>10</td>\n",
       "      <td>6</td>\n",
       "      <td>23</td>\n",
       "      <td>5</td>\n",
       "      <td>...</td>\n",
       "      <td>0.000</td>\n",
       "      <td>28.100000</td>\n",
       "      <td>0</td>\n",
       "      <td>1</td>\n",
       "      <td>0</td>\n",
       "      <td>0</td>\n",
       "      <td>0</td>\n",
       "      <td>0</td>\n",
       "      <td>0</td>\n",
       "      <td>0</td>\n",
       "    </tr>\n",
       "    <tr>\n",
       "      <th>78840</th>\n",
       "      <td>2012-10-14 23:50:00</td>\n",
       "      <td>1</td>\n",
       "      <td>1</td>\n",
       "      <td>29</td>\n",
       "      <td>2</td>\n",
       "      <td>1</td>\n",
       "      <td>10</td>\n",
       "      <td>6</td>\n",
       "      <td>23</td>\n",
       "      <td>5</td>\n",
       "      <td>...</td>\n",
       "      <td>0.000</td>\n",
       "      <td>28.100000</td>\n",
       "      <td>0</td>\n",
       "      <td>0</td>\n",
       "      <td>0</td>\n",
       "      <td>0</td>\n",
       "      <td>0</td>\n",
       "      <td>0</td>\n",
       "      <td>0</td>\n",
       "      <td>1</td>\n",
       "    </tr>\n",
       "    <tr>\n",
       "      <th>78843</th>\n",
       "      <td>2012-10-14 23:50:00</td>\n",
       "      <td>220</td>\n",
       "      <td>0</td>\n",
       "      <td>39</td>\n",
       "      <td>4</td>\n",
       "      <td>1</td>\n",
       "      <td>10</td>\n",
       "      <td>6</td>\n",
       "      <td>23</td>\n",
       "      <td>5</td>\n",
       "      <td>...</td>\n",
       "      <td>0.000</td>\n",
       "      <td>28.100000</td>\n",
       "      <td>0</td>\n",
       "      <td>0</td>\n",
       "      <td>0</td>\n",
       "      <td>0</td>\n",
       "      <td>1</td>\n",
       "      <td>0</td>\n",
       "      <td>0</td>\n",
       "      <td>0</td>\n",
       "    </tr>\n",
       "  </tbody>\n",
       "</table>\n",
       "<p>78844 rows × 22 columns</p>\n",
       "</div>"
      ],
      "text/plain": [
       "                date_time H_ID APT size person  hoilday  month  weekday  hour  \\\n",
       "0     2012-06-01 00:00:00   28   0   29      2        0      6        4     0   \n",
       "1     2012-06-01 00:00:00   62   1   39      4        0      6        4     0   \n",
       "2     2012-06-01 00:00:00  197   1   19      2        0      6        4     0   \n",
       "3     2012-06-01 00:10:00   28   0   29      2        0      6        4     0   \n",
       "4     2012-06-01 00:10:00   62   1   39      4        0      6        4     0   \n",
       "...                   ...  ...  ..  ...    ...      ...    ...      ...   ...   \n",
       "78837 2012-10-14 23:40:00   29   1   19      2        1     10        6    23   \n",
       "78841 2012-10-14 23:50:00   29   1   19      2        1     10        6    23   \n",
       "78842 2012-10-14 23:50:00   62   1   39      4        1     10        6    23   \n",
       "78840 2012-10-14 23:50:00    1   1   29      2        1     10        6    23   \n",
       "78843 2012-10-14 23:50:00  220   0   39      4        1     10        6    23   \n",
       "\n",
       "       minute  ...  power_rice       temp  washer  air  rice  air_rice  \\\n",
       "0           0  ...       0.042  30.600000       0    0     0         0   \n",
       "1           0  ...       0.006  30.600000       0    0     1         0   \n",
       "2           0  ...       0.036  30.600000       0    0     1         0   \n",
       "3           1  ...       0.008  30.600000       0    0     0         0   \n",
       "4           1  ...       0.013  30.600000       0    0     0         0   \n",
       "...       ...  ...         ...        ...     ...  ...   ...       ...   \n",
       "78837       4  ...       0.004  33.200001       0    0     0         0   \n",
       "78841       5  ...       0.007  33.200001       0    0     0         0   \n",
       "78842       5  ...       0.000  28.100000       0    1     0         0   \n",
       "78840       5  ...       0.000  28.100000       0    0     0         0   \n",
       "78843       5  ...       0.000  28.100000       0    0     0         0   \n",
       "\n",
       "       air_washer  washer_rice  all  all_not  \n",
       "0               0            1    0        0  \n",
       "1               0            0    0        0  \n",
       "2               0            0    0        0  \n",
       "3               0            1    0        0  \n",
       "4               0            0    1        0  \n",
       "...           ...          ...  ...      ...  \n",
       "78837           0            0    1        0  \n",
       "78841           0            0    1        0  \n",
       "78842           0            0    0        0  \n",
       "78840           0            0    0        1  \n",
       "78843           1            0    0        0  \n",
       "\n",
       "[78844 rows x 22 columns]"
      ]
     },
     "execution_count": 151,
     "metadata": {},
     "output_type": "execute_result"
    }
   ],
   "source": [
    "final_df"
   ]
  },
  {
   "cell_type": "code",
   "execution_count": 150,
   "metadata": {},
   "outputs": [],
   "source": [
    "for i in final_df.columns[14:]:\n",
    "    final_df[i] = final_df[i].astype('int32')"
   ]
  },
  {
   "cell_type": "code",
   "execution_count": 133,
   "metadata": {},
   "outputs": [],
   "source": [
    "for i in final_df.columns[10:14]:\n",
    "    final_df[i] = final_df[i].astype('float32')"
   ]
  },
  {
   "cell_type": "code",
   "execution_count": 139,
   "metadata": {},
   "outputs": [],
   "source": [
    "for i in final_df.columns[5:10]:\n",
    "    final_df[i] = final_df[i].astype('int32')"
   ]
  },
  {
   "cell_type": "code",
   "execution_count": 152,
   "metadata": {},
   "outputs": [
    {
     "data": {
      "text/plain": [
       "date_time       datetime64[ns]\n",
       "H_ID                    object\n",
       "APT                     object\n",
       "size                    object\n",
       "person                  object\n",
       "hoilday                  int32\n",
       "month                    int32\n",
       "weekday                  int32\n",
       "hour                     int32\n",
       "minute                   int32\n",
       "power_washer           float32\n",
       "power_air              float32\n",
       "power_rice             float32\n",
       "temp                   float32\n",
       "washer                   int32\n",
       "air                      int32\n",
       "rice                     int32\n",
       "air_rice                 int32\n",
       "air_washer               int32\n",
       "washer_rice              int32\n",
       "all                      int32\n",
       "all_not                  int32\n",
       "dtype: object"
      ]
     },
     "execution_count": 152,
     "metadata": {},
     "output_type": "execute_result"
    }
   ],
   "source": [
    "final_df.dtypes"
   ]
  },
  {
   "cell_type": "code",
   "execution_count": 31,
   "metadata": {},
   "outputs": [
    {
     "name": "stderr",
     "output_type": "stream",
     "text": [
      "<ipython-input-31-af02ef52b173>:12: SettingWithCopyWarning: \n",
      "A value is trying to be set on a copy of a slice from a DataFrame.\n",
      "Try using .loc[row_indexer,col_indexer] = value instead\n",
      "\n",
      "See the caveats in the documentation: https://pandas.pydata.org/pandas-docs/stable/user_guide/indexing.html#returning-a-view-versus-a-copy\n",
      "  data['use'] = value[3:]\n"
     ]
    }
   ],
   "source": [
    "# m_df = pd.DataFrame()\n",
    "\n",
    "# for i in air_df.H_ID.unique():\n",
    "#     data = air_df[air_df['H_ID'] == i]\n",
    "#     value = np.array(data['power'].apply(lambda x: 1 if x != 0 else 0))\n",
    "\n",
    "#     lst_value = list(value)\n",
    "#     for i in range(3):\n",
    "#         lst_value.append(0)\n",
    "\n",
    "#     value = np.array(lst_value)\n",
    "#     data['use'] = value[3:]\n",
    "    \n",
    "#     m_df = pd.concat([m_df, data])"
   ]
  },
  {
   "cell_type": "code",
   "execution_count": 153,
   "metadata": {},
   "outputs": [],
   "source": [
    "final_df = final_df.sort_values('date_time')"
   ]
  },
  {
   "cell_type": "code",
   "execution_count": 155,
   "metadata": {},
   "outputs": [],
   "source": [
    "final_df.to_csv('최종데이터.csv', index=False)"
   ]
  }
 ],
 "metadata": {
  "kernelspec": {
   "display_name": "Python 3",
   "language": "python",
   "name": "python3"
  },
  "language_info": {
   "codemirror_mode": {
    "name": "ipython",
    "version": 3
   },
   "file_extension": ".py",
   "mimetype": "text/x-python",
   "name": "python",
   "nbconvert_exporter": "python",
   "pygments_lexer": "ipython3",
   "version": "3.8.5"
  }
 },
 "nbformat": 4,
 "nbformat_minor": 4
}
