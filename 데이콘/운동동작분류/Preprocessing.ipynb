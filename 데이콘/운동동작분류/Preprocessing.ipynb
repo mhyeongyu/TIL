{
 "cells": [
  {
   "cell_type": "code",
   "execution_count": 5,
   "metadata": {},
   "outputs": [],
   "source": [
    "import pandas as pd\n",
    "import numpy as np\n",
    "import matplotlib.pyplot as plt\n",
    "import seaborn as sns\n",
    "from scipy import signal\n",
    "from tqdm import tqdm\n",
    "from numpy.fft import fft, fftshift\n",
    "import matplotlib.pyplot as plt\n",
    "import seaborn as sns\n",
    "import random\n",
    "import warnings\n",
    "warnings.filterwarnings(action='ignore')"
   ]
  },
  {
   "cell_type": "markdown",
   "metadata": {},
   "source": [
    "#### Data loading"
   ]
  },
  {
   "cell_type": "code",
   "execution_count": 6,
   "metadata": {},
   "outputs": [],
   "source": [
    "path = '/Users/munhyeongyu/_데이터/Exercise_Classification/'"
   ]
  },
  {
   "cell_type": "code",
   "execution_count": 7,
   "metadata": {},
   "outputs": [],
   "source": [
    "train=pd.read_csv(path + 'train_features.csv')\n",
    "# train_labels=pd.read_csv(path + 'train_labels.csv')\n",
    "# test=pd.read_csv(path + 'test_features.csv')\n",
    "\n",
    "# submission=pd.read_csv(path + 'sample_submission.csv')\n",
    "\n",
    "pd.options.display.max_columns=50"
   ]
  },
  {
   "cell_type": "markdown",
   "metadata": {},
   "source": [
    "#### Feature engneering"
   ]
  },
  {
   "cell_type": "markdown",
   "metadata": {},
   "source": [
    "#####  가속도, 자이로, (자이로-가속도) 센서값을 에너지로 표현"
   ]
  },
  {
   "cell_type": "code",
   "execution_count": 8,
   "metadata": {},
   "outputs": [],
   "source": [
    "train['acc_Energy']=(train['acc_x']**2+train['acc_y']**2+train['acc_z']**2)**(1/3)\n",
    "# test['acc_Energy']=(test['acc_x']**2+test['acc_y']**2+test['acc_z']**2)**(1/3)\n",
    "\n",
    "train['gy_Energy']=(train['gy_x']**2+train['gy_y']**2+train['gy_z']**2)**(1/3)\n",
    "# test['gy_Energy']=(test['gy_x']**2+test['gy_y']**2+test['gy_z']**2)**(1/3)\n",
    "\n",
    "train['gy_acc_Energy']=((train['gy_x']-train['acc_x'])**2+(train['gy_y']-train['acc_y'])**2+(train['gy_z']-train['acc_z'])**2)**(1/3)\n",
    "# test['gy_acc_Energy']=((test['gy_x']-test['acc_x'])**2+(test['gy_y']-test['acc_y'])**2+(test['gy_z']-test['acc_z'])**2)**(1/3)"
   ]
  },
  {
   "cell_type": "markdown",
   "metadata": {},
   "source": [
    "###### id별 데이터는 0.02초마다 측정된 값들이기 때문에 이전 시간 대비 변화량 적용"
   ]
  },
  {
   "cell_type": "code",
   "execution_count": 9,
   "metadata": {},
   "outputs": [],
   "source": [
    "dt=0.02 \n",
    "def jerk_signal(signal): \n",
    "        return np.array([(signal[i+1]-signal[i])/dt for i in range(len(signal)-1)])"
   ]
  },
  {
   "cell_type": "code",
   "execution_count": 10,
   "metadata": {},
   "outputs": [
    {
     "output_type": "stream",
     "name": "stderr",
     "text": [
      "100%|██████████| 3125/3125 [00:23<00:00, 135.51it/s]\n"
     ]
    }
   ],
   "source": [
    "train_dt=[]\n",
    "for i in tqdm(train['id'].unique()):\n",
    "    temp=train.loc[train['id']==i]\n",
    "    for v in train.columns[2:]:\n",
    "        values=jerk_signal(temp[v].values)\n",
    "        values=np.insert(values,0,0)\n",
    "        temp.loc[:,v+'_dt']=values\n",
    "    train_dt.append(temp)\n"
   ]
  },
  {
   "cell_type": "markdown",
   "metadata": {},
   "source": [
    "##### 가속도, 자이로 센서값들을 푸리에 변환"
   ]
  },
  {
   "cell_type": "code",
   "execution_count": 11,
   "metadata": {},
   "outputs": [],
   "source": [
    "from scipy import fftpack\n",
    "from numpy.fft import *\n",
    "\n",
    "def fourier_transform_one_signal(t_signal):\n",
    "    complex_f_signal= fftpack.fft(t_signal)\n",
    "    amplitude_f_signal=np.abs(complex_f_signal)\n",
    "    return amplitude_f_signal"
   ]
  },
  {
   "cell_type": "code",
   "execution_count": 12,
   "metadata": {},
   "outputs": [
    {
     "output_type": "execute_result",
     "data": {
      "text/plain": [
       "           id  time     acc_x     acc_y     acc_z       gy_x        gy_y  \\\n",
       "0           0     0  1.206087 -0.179371 -0.148447  -0.591608  -30.549010   \n",
       "1           0     1  1.287696 -0.198974 -0.182444   0.303100  -39.139103   \n",
       "2           0     2  1.304609 -0.195114 -0.253382  -3.617278  -44.122565   \n",
       "3           0     3  1.293095 -0.230366 -0.215210   2.712986  -53.597843   \n",
       "4           0     4  1.300887 -0.187757 -0.222523   4.286707  -57.906561   \n",
       "...       ...   ...       ...       ...       ...        ...         ...   \n",
       "1874995  3124   595 -0.712530 -0.658357  0.293707 -29.367857 -104.013664   \n",
       "1874996  3124   596 -0.683037 -0.658466  0.329223 -30.149089 -101.796809   \n",
       "1874997  3124   597 -0.664730 -0.666625  0.364114 -27.873095  -98.776072   \n",
       "1874998  3124   598 -0.630534 -0.682565  0.373696 -23.636550  -99.139495   \n",
       "1874999  3124   599 -0.578351 -0.700235  0.384390 -17.917626 -100.181873   \n",
       "\n",
       "              gy_z  acc_Energy  gy_Energy  gy_acc_Energy  acc_x_dt  acc_y_dt  \\\n",
       "0       -31.676112    1.146962  12.465436      12.427938  0.000000  0.000000   \n",
       "1       -24.927216    1.200703  12.913284      12.865692  4.080495 -0.980114   \n",
       "2       -25.019629    1.217403  13.725729      13.692643  0.845632  0.192961   \n",
       "3       -27.454013    1.209981  15.374021      15.314907 -0.575711 -1.762585   \n",
       "4       -27.961234    1.211254  16.074363      16.017964  0.389598  2.130453   \n",
       "...            ...         ...        ...            ...       ...       ...   \n",
       "1874995 -76.290437    1.009050  25.963234      25.897316  1.484646  0.303666   \n",
       "1874996 -76.625087    1.002827  25.784692      25.722482  1.474659 -0.005442   \n",
       "1874997 -79.365125    1.006239  25.628060      25.572145  0.915321 -0.407957   \n",
       "1874998 -80.259478    1.001038  25.626266      25.573288  1.709833 -0.796984   \n",
       "1874999 -80.676229    0.990773  25.645131      25.595348  2.609116 -0.883512   \n",
       "\n",
       "         acc_z_dt     gy_x_dt     gy_y_dt     gy_z_dt  acc_Energy_dt  \\\n",
       "0        0.000000    0.000000    0.000000    0.000000       0.000000   \n",
       "1       -1.699854   44.735403 -429.504677  337.444793       2.687024   \n",
       "2       -3.546937 -196.018888 -249.173073   -4.620631       0.835012   \n",
       "3        1.908626  316.513181 -473.763910 -121.719195      -0.371100   \n",
       "4       -0.365665   78.686055 -215.435892  -25.361098       0.063656   \n",
       "...           ...         ...         ...         ...            ...   \n",
       "1874995  0.800069 -150.644663  -34.630282   -8.380088      -0.679712   \n",
       "1874996  1.775771  -39.061611  110.842743  -16.732496      -0.311171   \n",
       "1874997  1.744566  113.799702  151.036858 -137.001896       0.170620   \n",
       "1874998  0.479107  211.827245  -18.171144  -44.717652      -0.260074   \n",
       "1874999  0.534668  285.946217  -52.118894  -20.837588      -0.513215   \n",
       "\n",
       "         gy_Energy_dt  gy_acc_Energy_dt  \n",
       "0            0.000000          0.000000  \n",
       "1           22.392358         21.887693  \n",
       "2           40.622253         41.347563  \n",
       "3           82.414636         81.113199  \n",
       "4           35.017060         35.152822  \n",
       "...               ...               ...  \n",
       "1874995      8.387109          8.432977  \n",
       "1874996     -8.927089         -8.741727  \n",
       "1874997     -7.831611         -7.516832  \n",
       "1874998     -0.089713          0.057150  \n",
       "1874999      0.943240          1.102985  \n",
       "\n",
       "[1875000 rows x 20 columns]"
      ],
      "text/html": "<div>\n<style scoped>\n    .dataframe tbody tr th:only-of-type {\n        vertical-align: middle;\n    }\n\n    .dataframe tbody tr th {\n        vertical-align: top;\n    }\n\n    .dataframe thead th {\n        text-align: right;\n    }\n</style>\n<table border=\"1\" class=\"dataframe\">\n  <thead>\n    <tr style=\"text-align: right;\">\n      <th></th>\n      <th>id</th>\n      <th>time</th>\n      <th>acc_x</th>\n      <th>acc_y</th>\n      <th>acc_z</th>\n      <th>gy_x</th>\n      <th>gy_y</th>\n      <th>gy_z</th>\n      <th>acc_Energy</th>\n      <th>gy_Energy</th>\n      <th>gy_acc_Energy</th>\n      <th>acc_x_dt</th>\n      <th>acc_y_dt</th>\n      <th>acc_z_dt</th>\n      <th>gy_x_dt</th>\n      <th>gy_y_dt</th>\n      <th>gy_z_dt</th>\n      <th>acc_Energy_dt</th>\n      <th>gy_Energy_dt</th>\n      <th>gy_acc_Energy_dt</th>\n    </tr>\n  </thead>\n  <tbody>\n    <tr>\n      <th>0</th>\n      <td>0</td>\n      <td>0</td>\n      <td>1.206087</td>\n      <td>-0.179371</td>\n      <td>-0.148447</td>\n      <td>-0.591608</td>\n      <td>-30.549010</td>\n      <td>-31.676112</td>\n      <td>1.146962</td>\n      <td>12.465436</td>\n      <td>12.427938</td>\n      <td>0.000000</td>\n      <td>0.000000</td>\n      <td>0.000000</td>\n      <td>0.000000</td>\n      <td>0.000000</td>\n      <td>0.000000</td>\n      <td>0.000000</td>\n      <td>0.000000</td>\n      <td>0.000000</td>\n    </tr>\n    <tr>\n      <th>1</th>\n      <td>0</td>\n      <td>1</td>\n      <td>1.287696</td>\n      <td>-0.198974</td>\n      <td>-0.182444</td>\n      <td>0.303100</td>\n      <td>-39.139103</td>\n      <td>-24.927216</td>\n      <td>1.200703</td>\n      <td>12.913284</td>\n      <td>12.865692</td>\n      <td>4.080495</td>\n      <td>-0.980114</td>\n      <td>-1.699854</td>\n      <td>44.735403</td>\n      <td>-429.504677</td>\n      <td>337.444793</td>\n      <td>2.687024</td>\n      <td>22.392358</td>\n      <td>21.887693</td>\n    </tr>\n    <tr>\n      <th>2</th>\n      <td>0</td>\n      <td>2</td>\n      <td>1.304609</td>\n      <td>-0.195114</td>\n      <td>-0.253382</td>\n      <td>-3.617278</td>\n      <td>-44.122565</td>\n      <td>-25.019629</td>\n      <td>1.217403</td>\n      <td>13.725729</td>\n      <td>13.692643</td>\n      <td>0.845632</td>\n      <td>0.192961</td>\n      <td>-3.546937</td>\n      <td>-196.018888</td>\n      <td>-249.173073</td>\n      <td>-4.620631</td>\n      <td>0.835012</td>\n      <td>40.622253</td>\n      <td>41.347563</td>\n    </tr>\n    <tr>\n      <th>3</th>\n      <td>0</td>\n      <td>3</td>\n      <td>1.293095</td>\n      <td>-0.230366</td>\n      <td>-0.215210</td>\n      <td>2.712986</td>\n      <td>-53.597843</td>\n      <td>-27.454013</td>\n      <td>1.209981</td>\n      <td>15.374021</td>\n      <td>15.314907</td>\n      <td>-0.575711</td>\n      <td>-1.762585</td>\n      <td>1.908626</td>\n      <td>316.513181</td>\n      <td>-473.763910</td>\n      <td>-121.719195</td>\n      <td>-0.371100</td>\n      <td>82.414636</td>\n      <td>81.113199</td>\n    </tr>\n    <tr>\n      <th>4</th>\n      <td>0</td>\n      <td>4</td>\n      <td>1.300887</td>\n      <td>-0.187757</td>\n      <td>-0.222523</td>\n      <td>4.286707</td>\n      <td>-57.906561</td>\n      <td>-27.961234</td>\n      <td>1.211254</td>\n      <td>16.074363</td>\n      <td>16.017964</td>\n      <td>0.389598</td>\n      <td>2.130453</td>\n      <td>-0.365665</td>\n      <td>78.686055</td>\n      <td>-215.435892</td>\n      <td>-25.361098</td>\n      <td>0.063656</td>\n      <td>35.017060</td>\n      <td>35.152822</td>\n    </tr>\n    <tr>\n      <th>...</th>\n      <td>...</td>\n      <td>...</td>\n      <td>...</td>\n      <td>...</td>\n      <td>...</td>\n      <td>...</td>\n      <td>...</td>\n      <td>...</td>\n      <td>...</td>\n      <td>...</td>\n      <td>...</td>\n      <td>...</td>\n      <td>...</td>\n      <td>...</td>\n      <td>...</td>\n      <td>...</td>\n      <td>...</td>\n      <td>...</td>\n      <td>...</td>\n      <td>...</td>\n    </tr>\n    <tr>\n      <th>1874995</th>\n      <td>3124</td>\n      <td>595</td>\n      <td>-0.712530</td>\n      <td>-0.658357</td>\n      <td>0.293707</td>\n      <td>-29.367857</td>\n      <td>-104.013664</td>\n      <td>-76.290437</td>\n      <td>1.009050</td>\n      <td>25.963234</td>\n      <td>25.897316</td>\n      <td>1.484646</td>\n      <td>0.303666</td>\n      <td>0.800069</td>\n      <td>-150.644663</td>\n      <td>-34.630282</td>\n      <td>-8.380088</td>\n      <td>-0.679712</td>\n      <td>8.387109</td>\n      <td>8.432977</td>\n    </tr>\n    <tr>\n      <th>1874996</th>\n      <td>3124</td>\n      <td>596</td>\n      <td>-0.683037</td>\n      <td>-0.658466</td>\n      <td>0.329223</td>\n      <td>-30.149089</td>\n      <td>-101.796809</td>\n      <td>-76.625087</td>\n      <td>1.002827</td>\n      <td>25.784692</td>\n      <td>25.722482</td>\n      <td>1.474659</td>\n      <td>-0.005442</td>\n      <td>1.775771</td>\n      <td>-39.061611</td>\n      <td>110.842743</td>\n      <td>-16.732496</td>\n      <td>-0.311171</td>\n      <td>-8.927089</td>\n      <td>-8.741727</td>\n    </tr>\n    <tr>\n      <th>1874997</th>\n      <td>3124</td>\n      <td>597</td>\n      <td>-0.664730</td>\n      <td>-0.666625</td>\n      <td>0.364114</td>\n      <td>-27.873095</td>\n      <td>-98.776072</td>\n      <td>-79.365125</td>\n      <td>1.006239</td>\n      <td>25.628060</td>\n      <td>25.572145</td>\n      <td>0.915321</td>\n      <td>-0.407957</td>\n      <td>1.744566</td>\n      <td>113.799702</td>\n      <td>151.036858</td>\n      <td>-137.001896</td>\n      <td>0.170620</td>\n      <td>-7.831611</td>\n      <td>-7.516832</td>\n    </tr>\n    <tr>\n      <th>1874998</th>\n      <td>3124</td>\n      <td>598</td>\n      <td>-0.630534</td>\n      <td>-0.682565</td>\n      <td>0.373696</td>\n      <td>-23.636550</td>\n      <td>-99.139495</td>\n      <td>-80.259478</td>\n      <td>1.001038</td>\n      <td>25.626266</td>\n      <td>25.573288</td>\n      <td>1.709833</td>\n      <td>-0.796984</td>\n      <td>0.479107</td>\n      <td>211.827245</td>\n      <td>-18.171144</td>\n      <td>-44.717652</td>\n      <td>-0.260074</td>\n      <td>-0.089713</td>\n      <td>0.057150</td>\n    </tr>\n    <tr>\n      <th>1874999</th>\n      <td>3124</td>\n      <td>599</td>\n      <td>-0.578351</td>\n      <td>-0.700235</td>\n      <td>0.384390</td>\n      <td>-17.917626</td>\n      <td>-100.181873</td>\n      <td>-80.676229</td>\n      <td>0.990773</td>\n      <td>25.645131</td>\n      <td>25.595348</td>\n      <td>2.609116</td>\n      <td>-0.883512</td>\n      <td>0.534668</td>\n      <td>285.946217</td>\n      <td>-52.118894</td>\n      <td>-20.837588</td>\n      <td>-0.513215</td>\n      <td>0.943240</td>\n      <td>1.102985</td>\n    </tr>\n  </tbody>\n</table>\n<p>1875000 rows × 20 columns</p>\n</div>"
     },
     "metadata": {},
     "execution_count": 12
    }
   ],
   "source": [
    "train=pd.concat(train_dt)\n",
    "train"
   ]
  },
  {
   "cell_type": "code",
   "execution_count": 13,
   "metadata": {},
   "outputs": [
    {
     "output_type": "stream",
     "name": "stderr",
     "text": [
      "100%|██████████| 3125/3125 [00:04<00:00, 637.25it/s]\n"
     ]
    }
   ],
   "source": [
    "fft=[]\n",
    "for i in tqdm(train['id'].unique()):\n",
    "    temp=train.loc[train['id']==i]\n",
    "    for i in train.columns[2:8]:\n",
    "        temp[i]=fourier_transform_one_signal(temp[i].values)\n",
    "    fft.append(temp)"
   ]
  },
  {
   "cell_type": "code",
   "execution_count": 14,
   "metadata": {},
   "outputs": [
    {
     "output_type": "execute_result",
     "data": {
      "text/plain": [
       "           id  time       acc_x       acc_y       acc_z         gy_x  \\\n",
       "0           0     0  558.797337  131.082711  222.252919  1119.161589   \n",
       "1           0     1    3.233175   15.689279   12.229014   221.599635   \n",
       "2           0     2    4.832535    8.199566    3.901211   357.200415   \n",
       "3           0     3    5.675383    5.330015    2.527445   340.433376   \n",
       "4           0     4    7.415275    7.980024    6.566908   128.188871   \n",
       "...       ...   ...         ...         ...         ...          ...   \n",
       "1874995  3124   595   11.743654    3.796333   12.513870   715.873677   \n",
       "1874996  3124   596  211.498089   82.888508   86.807874  5515.261695   \n",
       "1874997  3124   597   12.175349    6.200258    2.084554   343.695161   \n",
       "1874998  3124   598   19.116783    3.830800    6.938661   791.376179   \n",
       "1874999  3124   599   22.306532    4.721920   15.463388   357.639418   \n",
       "\n",
       "                 gy_y          gy_z  acc_Energy  gy_Energy  gy_acc_Energy  \\\n",
       "0         2015.703683    709.264425    1.146962  12.465436      12.427938   \n",
       "1          361.903330    477.080942    1.200703  12.913284      12.865692   \n",
       "2          430.568986    452.096143    1.217403  13.725729      13.692643   \n",
       "3          787.558320    467.307109    1.209981  15.374021      15.314907   \n",
       "4         1372.095224    715.824074    1.211254  16.074363      16.017964   \n",
       "...               ...           ...         ...        ...            ...   \n",
       "1874995   1124.494889    645.627066    1.009050  25.963234      25.897316   \n",
       "1874996  28917.564390  20218.747027    1.002827  25.784692      25.722482   \n",
       "1874997    464.375112     78.097163    1.006239  25.628060      25.572145   \n",
       "1874998   2724.373764   1131.590078    1.001038  25.626266      25.573288   \n",
       "1874999   2058.364675    977.868201    0.990773  25.645131      25.595348   \n",
       "\n",
       "         acc_x_dt  acc_y_dt  acc_z_dt     gy_x_dt     gy_y_dt     gy_z_dt  \\\n",
       "0        0.000000  0.000000  0.000000    0.000000    0.000000    0.000000   \n",
       "1        4.080495 -0.980114 -1.699854   44.735403 -429.504677  337.444793   \n",
       "2        0.845632  0.192961 -3.546937 -196.018888 -249.173073   -4.620631   \n",
       "3       -0.575711 -1.762585  1.908626  316.513181 -473.763910 -121.719195   \n",
       "4        0.389598  2.130453 -0.365665   78.686055 -215.435892  -25.361098   \n",
       "...           ...       ...       ...         ...         ...         ...   \n",
       "1874995  1.484646  0.303666  0.800069 -150.644663  -34.630282   -8.380088   \n",
       "1874996  1.474659 -0.005442  1.775771  -39.061611  110.842743  -16.732496   \n",
       "1874997  0.915321 -0.407957  1.744566  113.799702  151.036858 -137.001896   \n",
       "1874998  1.709833 -0.796984  0.479107  211.827245  -18.171144  -44.717652   \n",
       "1874999  2.609116 -0.883512  0.534668  285.946217  -52.118894  -20.837588   \n",
       "\n",
       "         acc_Energy_dt  gy_Energy_dt  gy_acc_Energy_dt  \n",
       "0             0.000000      0.000000          0.000000  \n",
       "1             2.687024     22.392358         21.887693  \n",
       "2             0.835012     40.622253         41.347563  \n",
       "3            -0.371100     82.414636         81.113199  \n",
       "4             0.063656     35.017060         35.152822  \n",
       "...                ...           ...               ...  \n",
       "1874995      -0.679712      8.387109          8.432977  \n",
       "1874996      -0.311171     -8.927089         -8.741727  \n",
       "1874997       0.170620     -7.831611         -7.516832  \n",
       "1874998      -0.260074     -0.089713          0.057150  \n",
       "1874999      -0.513215      0.943240          1.102985  \n",
       "\n",
       "[1875000 rows x 20 columns]"
      ],
      "text/html": "<div>\n<style scoped>\n    .dataframe tbody tr th:only-of-type {\n        vertical-align: middle;\n    }\n\n    .dataframe tbody tr th {\n        vertical-align: top;\n    }\n\n    .dataframe thead th {\n        text-align: right;\n    }\n</style>\n<table border=\"1\" class=\"dataframe\">\n  <thead>\n    <tr style=\"text-align: right;\">\n      <th></th>\n      <th>id</th>\n      <th>time</th>\n      <th>acc_x</th>\n      <th>acc_y</th>\n      <th>acc_z</th>\n      <th>gy_x</th>\n      <th>gy_y</th>\n      <th>gy_z</th>\n      <th>acc_Energy</th>\n      <th>gy_Energy</th>\n      <th>gy_acc_Energy</th>\n      <th>acc_x_dt</th>\n      <th>acc_y_dt</th>\n      <th>acc_z_dt</th>\n      <th>gy_x_dt</th>\n      <th>gy_y_dt</th>\n      <th>gy_z_dt</th>\n      <th>acc_Energy_dt</th>\n      <th>gy_Energy_dt</th>\n      <th>gy_acc_Energy_dt</th>\n    </tr>\n  </thead>\n  <tbody>\n    <tr>\n      <th>0</th>\n      <td>0</td>\n      <td>0</td>\n      <td>558.797337</td>\n      <td>131.082711</td>\n      <td>222.252919</td>\n      <td>1119.161589</td>\n      <td>2015.703683</td>\n      <td>709.264425</td>\n      <td>1.146962</td>\n      <td>12.465436</td>\n      <td>12.427938</td>\n      <td>0.000000</td>\n      <td>0.000000</td>\n      <td>0.000000</td>\n      <td>0.000000</td>\n      <td>0.000000</td>\n      <td>0.000000</td>\n      <td>0.000000</td>\n      <td>0.000000</td>\n      <td>0.000000</td>\n    </tr>\n    <tr>\n      <th>1</th>\n      <td>0</td>\n      <td>1</td>\n      <td>3.233175</td>\n      <td>15.689279</td>\n      <td>12.229014</td>\n      <td>221.599635</td>\n      <td>361.903330</td>\n      <td>477.080942</td>\n      <td>1.200703</td>\n      <td>12.913284</td>\n      <td>12.865692</td>\n      <td>4.080495</td>\n      <td>-0.980114</td>\n      <td>-1.699854</td>\n      <td>44.735403</td>\n      <td>-429.504677</td>\n      <td>337.444793</td>\n      <td>2.687024</td>\n      <td>22.392358</td>\n      <td>21.887693</td>\n    </tr>\n    <tr>\n      <th>2</th>\n      <td>0</td>\n      <td>2</td>\n      <td>4.832535</td>\n      <td>8.199566</td>\n      <td>3.901211</td>\n      <td>357.200415</td>\n      <td>430.568986</td>\n      <td>452.096143</td>\n      <td>1.217403</td>\n      <td>13.725729</td>\n      <td>13.692643</td>\n      <td>0.845632</td>\n      <td>0.192961</td>\n      <td>-3.546937</td>\n      <td>-196.018888</td>\n      <td>-249.173073</td>\n      <td>-4.620631</td>\n      <td>0.835012</td>\n      <td>40.622253</td>\n      <td>41.347563</td>\n    </tr>\n    <tr>\n      <th>3</th>\n      <td>0</td>\n      <td>3</td>\n      <td>5.675383</td>\n      <td>5.330015</td>\n      <td>2.527445</td>\n      <td>340.433376</td>\n      <td>787.558320</td>\n      <td>467.307109</td>\n      <td>1.209981</td>\n      <td>15.374021</td>\n      <td>15.314907</td>\n      <td>-0.575711</td>\n      <td>-1.762585</td>\n      <td>1.908626</td>\n      <td>316.513181</td>\n      <td>-473.763910</td>\n      <td>-121.719195</td>\n      <td>-0.371100</td>\n      <td>82.414636</td>\n      <td>81.113199</td>\n    </tr>\n    <tr>\n      <th>4</th>\n      <td>0</td>\n      <td>4</td>\n      <td>7.415275</td>\n      <td>7.980024</td>\n      <td>6.566908</td>\n      <td>128.188871</td>\n      <td>1372.095224</td>\n      <td>715.824074</td>\n      <td>1.211254</td>\n      <td>16.074363</td>\n      <td>16.017964</td>\n      <td>0.389598</td>\n      <td>2.130453</td>\n      <td>-0.365665</td>\n      <td>78.686055</td>\n      <td>-215.435892</td>\n      <td>-25.361098</td>\n      <td>0.063656</td>\n      <td>35.017060</td>\n      <td>35.152822</td>\n    </tr>\n    <tr>\n      <th>...</th>\n      <td>...</td>\n      <td>...</td>\n      <td>...</td>\n      <td>...</td>\n      <td>...</td>\n      <td>...</td>\n      <td>...</td>\n      <td>...</td>\n      <td>...</td>\n      <td>...</td>\n      <td>...</td>\n      <td>...</td>\n      <td>...</td>\n      <td>...</td>\n      <td>...</td>\n      <td>...</td>\n      <td>...</td>\n      <td>...</td>\n      <td>...</td>\n      <td>...</td>\n    </tr>\n    <tr>\n      <th>1874995</th>\n      <td>3124</td>\n      <td>595</td>\n      <td>11.743654</td>\n      <td>3.796333</td>\n      <td>12.513870</td>\n      <td>715.873677</td>\n      <td>1124.494889</td>\n      <td>645.627066</td>\n      <td>1.009050</td>\n      <td>25.963234</td>\n      <td>25.897316</td>\n      <td>1.484646</td>\n      <td>0.303666</td>\n      <td>0.800069</td>\n      <td>-150.644663</td>\n      <td>-34.630282</td>\n      <td>-8.380088</td>\n      <td>-0.679712</td>\n      <td>8.387109</td>\n      <td>8.432977</td>\n    </tr>\n    <tr>\n      <th>1874996</th>\n      <td>3124</td>\n      <td>596</td>\n      <td>211.498089</td>\n      <td>82.888508</td>\n      <td>86.807874</td>\n      <td>5515.261695</td>\n      <td>28917.564390</td>\n      <td>20218.747027</td>\n      <td>1.002827</td>\n      <td>25.784692</td>\n      <td>25.722482</td>\n      <td>1.474659</td>\n      <td>-0.005442</td>\n      <td>1.775771</td>\n      <td>-39.061611</td>\n      <td>110.842743</td>\n      <td>-16.732496</td>\n      <td>-0.311171</td>\n      <td>-8.927089</td>\n      <td>-8.741727</td>\n    </tr>\n    <tr>\n      <th>1874997</th>\n      <td>3124</td>\n      <td>597</td>\n      <td>12.175349</td>\n      <td>6.200258</td>\n      <td>2.084554</td>\n      <td>343.695161</td>\n      <td>464.375112</td>\n      <td>78.097163</td>\n      <td>1.006239</td>\n      <td>25.628060</td>\n      <td>25.572145</td>\n      <td>0.915321</td>\n      <td>-0.407957</td>\n      <td>1.744566</td>\n      <td>113.799702</td>\n      <td>151.036858</td>\n      <td>-137.001896</td>\n      <td>0.170620</td>\n      <td>-7.831611</td>\n      <td>-7.516832</td>\n    </tr>\n    <tr>\n      <th>1874998</th>\n      <td>3124</td>\n      <td>598</td>\n      <td>19.116783</td>\n      <td>3.830800</td>\n      <td>6.938661</td>\n      <td>791.376179</td>\n      <td>2724.373764</td>\n      <td>1131.590078</td>\n      <td>1.001038</td>\n      <td>25.626266</td>\n      <td>25.573288</td>\n      <td>1.709833</td>\n      <td>-0.796984</td>\n      <td>0.479107</td>\n      <td>211.827245</td>\n      <td>-18.171144</td>\n      <td>-44.717652</td>\n      <td>-0.260074</td>\n      <td>-0.089713</td>\n      <td>0.057150</td>\n    </tr>\n    <tr>\n      <th>1874999</th>\n      <td>3124</td>\n      <td>599</td>\n      <td>22.306532</td>\n      <td>4.721920</td>\n      <td>15.463388</td>\n      <td>357.639418</td>\n      <td>2058.364675</td>\n      <td>977.868201</td>\n      <td>0.990773</td>\n      <td>25.645131</td>\n      <td>25.595348</td>\n      <td>2.609116</td>\n      <td>-0.883512</td>\n      <td>0.534668</td>\n      <td>285.946217</td>\n      <td>-52.118894</td>\n      <td>-20.837588</td>\n      <td>-0.513215</td>\n      <td>0.943240</td>\n      <td>1.102985</td>\n    </tr>\n  </tbody>\n</table>\n<p>1875000 rows × 20 columns</p>\n</div>"
     },
     "metadata": {},
     "execution_count": 14
    }
   ],
   "source": [
    "fft_train=pd.concat(fft)\n",
    "fft_train"
   ]
  },
  {
   "cell_type": "code",
   "execution_count": 15,
   "metadata": {},
   "outputs": [
    {
     "output_type": "execute_result",
     "data": {
      "text/plain": [
       "(1875000, 8)"
      ]
     },
     "metadata": {},
     "execution_count": 15
    }
   ],
   "source": [
    "before_train = train.iloc[:, :8].values\n",
    "before_train.shape"
   ]
  },
  {
   "cell_type": "code",
   "execution_count": 16,
   "metadata": {},
   "outputs": [
    {
     "output_type": "execute_result",
     "data": {
      "text/plain": [
       "['id',\n",
       " 'time',\n",
       " 'before_acc_x',\n",
       " 'before_acc_y',\n",
       " 'before_acc_z',\n",
       " 'before_gy_x',\n",
       " 'before_gy_y',\n",
       " 'before_gy_z']"
      ]
     },
     "metadata": {},
     "execution_count": 16
    }
   ],
   "source": [
    "column_lst = ['id', 'time']\n",
    "for i in train.columns[2:8]:\n",
    "    column_lst.append('before_'+i)\n",
    "column_lst"
   ]
  },
  {
   "cell_type": "code",
   "execution_count": 17,
   "metadata": {},
   "outputs": [],
   "source": [
    "df = pd.DataFrame(before_train, columns=column_lst)\n",
    "before_train = df.astype({'id':'int64', 'time':'int64'})"
   ]
  },
  {
   "cell_type": "code",
   "execution_count": 18,
   "metadata": {
    "scrolled": true
   },
   "outputs": [],
   "source": [
    "df = pd.DataFrame()\n",
    "df = before_train.merge(fft_train, how='left', on=['id', 'time'])"
   ]
  },
  {
   "cell_type": "code",
   "execution_count": 19,
   "metadata": {},
   "outputs": [
    {
     "output_type": "execute_result",
     "data": {
      "text/plain": [
       "           id  time  before_acc_x  before_acc_y  before_acc_z  before_gy_x  \\\n",
       "0           0     0      1.206087     -0.179371     -0.148447    -0.591608   \n",
       "1           0     1      1.287696     -0.198974     -0.182444     0.303100   \n",
       "2           0     2      1.304609     -0.195114     -0.253382    -3.617278   \n",
       "3           0     3      1.293095     -0.230366     -0.215210     2.712986   \n",
       "4           0     4      1.300887     -0.187757     -0.222523     4.286707   \n",
       "...       ...   ...           ...           ...           ...          ...   \n",
       "1874995  3124   595     -0.712530     -0.658357      0.293707   -29.367857   \n",
       "1874996  3124   596     -0.683037     -0.658466      0.329223   -30.149089   \n",
       "1874997  3124   597     -0.664730     -0.666625      0.364114   -27.873095   \n",
       "1874998  3124   598     -0.630534     -0.682565      0.373696   -23.636550   \n",
       "1874999  3124   599     -0.578351     -0.700235      0.384390   -17.917626   \n",
       "\n",
       "         before_gy_y  before_gy_z       acc_x       acc_y       acc_z  \\\n",
       "0         -30.549010   -31.676112  558.797337  131.082711  222.252919   \n",
       "1         -39.139103   -24.927216    3.233175   15.689279   12.229014   \n",
       "2         -44.122565   -25.019629    4.832535    8.199566    3.901211   \n",
       "3         -53.597843   -27.454013    5.675383    5.330015    2.527445   \n",
       "4         -57.906561   -27.961234    7.415275    7.980024    6.566908   \n",
       "...              ...          ...         ...         ...         ...   \n",
       "1874995  -104.013664   -76.290437   11.743654    3.796333   12.513870   \n",
       "1874996  -101.796809   -76.625087  211.498089   82.888508   86.807874   \n",
       "1874997   -98.776072   -79.365125   12.175349    6.200258    2.084554   \n",
       "1874998   -99.139495   -80.259478   19.116783    3.830800    6.938661   \n",
       "1874999  -100.181873   -80.676229   22.306532    4.721920   15.463388   \n",
       "\n",
       "                gy_x          gy_y          gy_z  acc_Energy  gy_Energy  \\\n",
       "0        1119.161589   2015.703683    709.264425    1.146962  12.465436   \n",
       "1         221.599635    361.903330    477.080942    1.200703  12.913284   \n",
       "2         357.200415    430.568986    452.096143    1.217403  13.725729   \n",
       "3         340.433376    787.558320    467.307109    1.209981  15.374021   \n",
       "4         128.188871   1372.095224    715.824074    1.211254  16.074363   \n",
       "...              ...           ...           ...         ...        ...   \n",
       "1874995   715.873677   1124.494889    645.627066    1.009050  25.963234   \n",
       "1874996  5515.261695  28917.564390  20218.747027    1.002827  25.784692   \n",
       "1874997   343.695161    464.375112     78.097163    1.006239  25.628060   \n",
       "1874998   791.376179   2724.373764   1131.590078    1.001038  25.626266   \n",
       "1874999   357.639418   2058.364675    977.868201    0.990773  25.645131   \n",
       "\n",
       "         gy_acc_Energy  acc_x_dt  acc_y_dt  acc_z_dt     gy_x_dt     gy_y_dt  \\\n",
       "0            12.427938  0.000000  0.000000  0.000000    0.000000    0.000000   \n",
       "1            12.865692  4.080495 -0.980114 -1.699854   44.735403 -429.504677   \n",
       "2            13.692643  0.845632  0.192961 -3.546937 -196.018888 -249.173073   \n",
       "3            15.314907 -0.575711 -1.762585  1.908626  316.513181 -473.763910   \n",
       "4            16.017964  0.389598  2.130453 -0.365665   78.686055 -215.435892   \n",
       "...                ...       ...       ...       ...         ...         ...   \n",
       "1874995      25.897316  1.484646  0.303666  0.800069 -150.644663  -34.630282   \n",
       "1874996      25.722482  1.474659 -0.005442  1.775771  -39.061611  110.842743   \n",
       "1874997      25.572145  0.915321 -0.407957  1.744566  113.799702  151.036858   \n",
       "1874998      25.573288  1.709833 -0.796984  0.479107  211.827245  -18.171144   \n",
       "1874999      25.595348  2.609116 -0.883512  0.534668  285.946217  -52.118894   \n",
       "\n",
       "            gy_z_dt  acc_Energy_dt  gy_Energy_dt  gy_acc_Energy_dt  \n",
       "0          0.000000       0.000000      0.000000          0.000000  \n",
       "1        337.444793       2.687024     22.392358         21.887693  \n",
       "2         -4.620631       0.835012     40.622253         41.347563  \n",
       "3       -121.719195      -0.371100     82.414636         81.113199  \n",
       "4        -25.361098       0.063656     35.017060         35.152822  \n",
       "...             ...            ...           ...               ...  \n",
       "1874995   -8.380088      -0.679712      8.387109          8.432977  \n",
       "1874996  -16.732496      -0.311171     -8.927089         -8.741727  \n",
       "1874997 -137.001896       0.170620     -7.831611         -7.516832  \n",
       "1874998  -44.717652      -0.260074     -0.089713          0.057150  \n",
       "1874999  -20.837588      -0.513215      0.943240          1.102985  \n",
       "\n",
       "[1875000 rows x 26 columns]"
      ],
      "text/html": "<div>\n<style scoped>\n    .dataframe tbody tr th:only-of-type {\n        vertical-align: middle;\n    }\n\n    .dataframe tbody tr th {\n        vertical-align: top;\n    }\n\n    .dataframe thead th {\n        text-align: right;\n    }\n</style>\n<table border=\"1\" class=\"dataframe\">\n  <thead>\n    <tr style=\"text-align: right;\">\n      <th></th>\n      <th>id</th>\n      <th>time</th>\n      <th>before_acc_x</th>\n      <th>before_acc_y</th>\n      <th>before_acc_z</th>\n      <th>before_gy_x</th>\n      <th>before_gy_y</th>\n      <th>before_gy_z</th>\n      <th>acc_x</th>\n      <th>acc_y</th>\n      <th>acc_z</th>\n      <th>gy_x</th>\n      <th>gy_y</th>\n      <th>gy_z</th>\n      <th>acc_Energy</th>\n      <th>gy_Energy</th>\n      <th>gy_acc_Energy</th>\n      <th>acc_x_dt</th>\n      <th>acc_y_dt</th>\n      <th>acc_z_dt</th>\n      <th>gy_x_dt</th>\n      <th>gy_y_dt</th>\n      <th>gy_z_dt</th>\n      <th>acc_Energy_dt</th>\n      <th>gy_Energy_dt</th>\n      <th>gy_acc_Energy_dt</th>\n    </tr>\n  </thead>\n  <tbody>\n    <tr>\n      <th>0</th>\n      <td>0</td>\n      <td>0</td>\n      <td>1.206087</td>\n      <td>-0.179371</td>\n      <td>-0.148447</td>\n      <td>-0.591608</td>\n      <td>-30.549010</td>\n      <td>-31.676112</td>\n      <td>558.797337</td>\n      <td>131.082711</td>\n      <td>222.252919</td>\n      <td>1119.161589</td>\n      <td>2015.703683</td>\n      <td>709.264425</td>\n      <td>1.146962</td>\n      <td>12.465436</td>\n      <td>12.427938</td>\n      <td>0.000000</td>\n      <td>0.000000</td>\n      <td>0.000000</td>\n      <td>0.000000</td>\n      <td>0.000000</td>\n      <td>0.000000</td>\n      <td>0.000000</td>\n      <td>0.000000</td>\n      <td>0.000000</td>\n    </tr>\n    <tr>\n      <th>1</th>\n      <td>0</td>\n      <td>1</td>\n      <td>1.287696</td>\n      <td>-0.198974</td>\n      <td>-0.182444</td>\n      <td>0.303100</td>\n      <td>-39.139103</td>\n      <td>-24.927216</td>\n      <td>3.233175</td>\n      <td>15.689279</td>\n      <td>12.229014</td>\n      <td>221.599635</td>\n      <td>361.903330</td>\n      <td>477.080942</td>\n      <td>1.200703</td>\n      <td>12.913284</td>\n      <td>12.865692</td>\n      <td>4.080495</td>\n      <td>-0.980114</td>\n      <td>-1.699854</td>\n      <td>44.735403</td>\n      <td>-429.504677</td>\n      <td>337.444793</td>\n      <td>2.687024</td>\n      <td>22.392358</td>\n      <td>21.887693</td>\n    </tr>\n    <tr>\n      <th>2</th>\n      <td>0</td>\n      <td>2</td>\n      <td>1.304609</td>\n      <td>-0.195114</td>\n      <td>-0.253382</td>\n      <td>-3.617278</td>\n      <td>-44.122565</td>\n      <td>-25.019629</td>\n      <td>4.832535</td>\n      <td>8.199566</td>\n      <td>3.901211</td>\n      <td>357.200415</td>\n      <td>430.568986</td>\n      <td>452.096143</td>\n      <td>1.217403</td>\n      <td>13.725729</td>\n      <td>13.692643</td>\n      <td>0.845632</td>\n      <td>0.192961</td>\n      <td>-3.546937</td>\n      <td>-196.018888</td>\n      <td>-249.173073</td>\n      <td>-4.620631</td>\n      <td>0.835012</td>\n      <td>40.622253</td>\n      <td>41.347563</td>\n    </tr>\n    <tr>\n      <th>3</th>\n      <td>0</td>\n      <td>3</td>\n      <td>1.293095</td>\n      <td>-0.230366</td>\n      <td>-0.215210</td>\n      <td>2.712986</td>\n      <td>-53.597843</td>\n      <td>-27.454013</td>\n      <td>5.675383</td>\n      <td>5.330015</td>\n      <td>2.527445</td>\n      <td>340.433376</td>\n      <td>787.558320</td>\n      <td>467.307109</td>\n      <td>1.209981</td>\n      <td>15.374021</td>\n      <td>15.314907</td>\n      <td>-0.575711</td>\n      <td>-1.762585</td>\n      <td>1.908626</td>\n      <td>316.513181</td>\n      <td>-473.763910</td>\n      <td>-121.719195</td>\n      <td>-0.371100</td>\n      <td>82.414636</td>\n      <td>81.113199</td>\n    </tr>\n    <tr>\n      <th>4</th>\n      <td>0</td>\n      <td>4</td>\n      <td>1.300887</td>\n      <td>-0.187757</td>\n      <td>-0.222523</td>\n      <td>4.286707</td>\n      <td>-57.906561</td>\n      <td>-27.961234</td>\n      <td>7.415275</td>\n      <td>7.980024</td>\n      <td>6.566908</td>\n      <td>128.188871</td>\n      <td>1372.095224</td>\n      <td>715.824074</td>\n      <td>1.211254</td>\n      <td>16.074363</td>\n      <td>16.017964</td>\n      <td>0.389598</td>\n      <td>2.130453</td>\n      <td>-0.365665</td>\n      <td>78.686055</td>\n      <td>-215.435892</td>\n      <td>-25.361098</td>\n      <td>0.063656</td>\n      <td>35.017060</td>\n      <td>35.152822</td>\n    </tr>\n    <tr>\n      <th>...</th>\n      <td>...</td>\n      <td>...</td>\n      <td>...</td>\n      <td>...</td>\n      <td>...</td>\n      <td>...</td>\n      <td>...</td>\n      <td>...</td>\n      <td>...</td>\n      <td>...</td>\n      <td>...</td>\n      <td>...</td>\n      <td>...</td>\n      <td>...</td>\n      <td>...</td>\n      <td>...</td>\n      <td>...</td>\n      <td>...</td>\n      <td>...</td>\n      <td>...</td>\n      <td>...</td>\n      <td>...</td>\n      <td>...</td>\n      <td>...</td>\n      <td>...</td>\n      <td>...</td>\n    </tr>\n    <tr>\n      <th>1874995</th>\n      <td>3124</td>\n      <td>595</td>\n      <td>-0.712530</td>\n      <td>-0.658357</td>\n      <td>0.293707</td>\n      <td>-29.367857</td>\n      <td>-104.013664</td>\n      <td>-76.290437</td>\n      <td>11.743654</td>\n      <td>3.796333</td>\n      <td>12.513870</td>\n      <td>715.873677</td>\n      <td>1124.494889</td>\n      <td>645.627066</td>\n      <td>1.009050</td>\n      <td>25.963234</td>\n      <td>25.897316</td>\n      <td>1.484646</td>\n      <td>0.303666</td>\n      <td>0.800069</td>\n      <td>-150.644663</td>\n      <td>-34.630282</td>\n      <td>-8.380088</td>\n      <td>-0.679712</td>\n      <td>8.387109</td>\n      <td>8.432977</td>\n    </tr>\n    <tr>\n      <th>1874996</th>\n      <td>3124</td>\n      <td>596</td>\n      <td>-0.683037</td>\n      <td>-0.658466</td>\n      <td>0.329223</td>\n      <td>-30.149089</td>\n      <td>-101.796809</td>\n      <td>-76.625087</td>\n      <td>211.498089</td>\n      <td>82.888508</td>\n      <td>86.807874</td>\n      <td>5515.261695</td>\n      <td>28917.564390</td>\n      <td>20218.747027</td>\n      <td>1.002827</td>\n      <td>25.784692</td>\n      <td>25.722482</td>\n      <td>1.474659</td>\n      <td>-0.005442</td>\n      <td>1.775771</td>\n      <td>-39.061611</td>\n      <td>110.842743</td>\n      <td>-16.732496</td>\n      <td>-0.311171</td>\n      <td>-8.927089</td>\n      <td>-8.741727</td>\n    </tr>\n    <tr>\n      <th>1874997</th>\n      <td>3124</td>\n      <td>597</td>\n      <td>-0.664730</td>\n      <td>-0.666625</td>\n      <td>0.364114</td>\n      <td>-27.873095</td>\n      <td>-98.776072</td>\n      <td>-79.365125</td>\n      <td>12.175349</td>\n      <td>6.200258</td>\n      <td>2.084554</td>\n      <td>343.695161</td>\n      <td>464.375112</td>\n      <td>78.097163</td>\n      <td>1.006239</td>\n      <td>25.628060</td>\n      <td>25.572145</td>\n      <td>0.915321</td>\n      <td>-0.407957</td>\n      <td>1.744566</td>\n      <td>113.799702</td>\n      <td>151.036858</td>\n      <td>-137.001896</td>\n      <td>0.170620</td>\n      <td>-7.831611</td>\n      <td>-7.516832</td>\n    </tr>\n    <tr>\n      <th>1874998</th>\n      <td>3124</td>\n      <td>598</td>\n      <td>-0.630534</td>\n      <td>-0.682565</td>\n      <td>0.373696</td>\n      <td>-23.636550</td>\n      <td>-99.139495</td>\n      <td>-80.259478</td>\n      <td>19.116783</td>\n      <td>3.830800</td>\n      <td>6.938661</td>\n      <td>791.376179</td>\n      <td>2724.373764</td>\n      <td>1131.590078</td>\n      <td>1.001038</td>\n      <td>25.626266</td>\n      <td>25.573288</td>\n      <td>1.709833</td>\n      <td>-0.796984</td>\n      <td>0.479107</td>\n      <td>211.827245</td>\n      <td>-18.171144</td>\n      <td>-44.717652</td>\n      <td>-0.260074</td>\n      <td>-0.089713</td>\n      <td>0.057150</td>\n    </tr>\n    <tr>\n      <th>1874999</th>\n      <td>3124</td>\n      <td>599</td>\n      <td>-0.578351</td>\n      <td>-0.700235</td>\n      <td>0.384390</td>\n      <td>-17.917626</td>\n      <td>-100.181873</td>\n      <td>-80.676229</td>\n      <td>22.306532</td>\n      <td>4.721920</td>\n      <td>15.463388</td>\n      <td>357.639418</td>\n      <td>2058.364675</td>\n      <td>977.868201</td>\n      <td>0.990773</td>\n      <td>25.645131</td>\n      <td>25.595348</td>\n      <td>2.609116</td>\n      <td>-0.883512</td>\n      <td>0.534668</td>\n      <td>285.946217</td>\n      <td>-52.118894</td>\n      <td>-20.837588</td>\n      <td>-0.513215</td>\n      <td>0.943240</td>\n      <td>1.102985</td>\n    </tr>\n  </tbody>\n</table>\n<p>1875000 rows × 26 columns</p>\n</div>"
     },
     "metadata": {},
     "execution_count": 19
    }
   ],
   "source": [
    "df"
   ]
  },
  {
   "cell_type": "code",
   "execution_count": 20,
   "metadata": {},
   "outputs": [],
   "source": [
    "# from sklearn.preprocessing import StandardScaler,MinMaxScaler\n",
    "\n",
    "# scaler = StandardScaler()\n",
    "# scaler.fit(df.iloc[:, 2:])\n",
    "# scaled_data = scaler.transform(df.iloc[:, 2:])\n",
    "\n",
    "# df.iloc[:, 2:] = scaled_data"
   ]
  },
  {
   "cell_type": "code",
   "execution_count": 21,
   "metadata": {},
   "outputs": [],
   "source": [
    "df.to_csv(path + 'preprocessing_traindata.csv', index=False)"
   ]
  },
  {
   "cell_type": "code",
   "execution_count": null,
   "metadata": {},
   "outputs": [],
   "source": []
  }
 ],
 "metadata": {
  "kernelspec": {
   "name": "python385jvsc74a57bd0dca0ade3e726a953b501b15e8e990130d2b7799f14cfd9f4271676035ebe5511",
   "display_name": "Python 3.8.5 64-bit ('base': conda)"
  },
  "language_info": {
   "codemirror_mode": {
    "name": "ipython",
    "version": 3
   },
   "file_extension": ".py",
   "mimetype": "text/x-python",
   "name": "python",
   "nbconvert_exporter": "python",
   "pygments_lexer": "ipython3",
   "version": "3.8.5"
  },
  "metadata": {
   "interpreter": {
    "hash": "dca0ade3e726a953b501b15e8e990130d2b7799f14cfd9f4271676035ebe5511"
   }
  }
 },
 "nbformat": 4,
 "nbformat_minor": 4
}