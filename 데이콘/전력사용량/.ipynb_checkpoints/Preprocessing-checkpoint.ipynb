{
 "cells": [
  {
   "cell_type": "code",
   "execution_count": 11,
   "metadata": {},
   "outputs": [],
   "source": [
    "import math\n",
    "import numpy as np\n",
    "import pandas as pd\n",
    "import warnings\n",
    "warnings.filterwarnings('ignore')\n",
    "import matplotlib.pyplot as plt\n",
    "import seaborn as sns"
   ]
  },
  {
   "cell_type": "code",
   "execution_count": 3,
   "metadata": {},
   "outputs": [],
   "source": [
    "train = pd.read_csv('energy/train.csv', encoding='cp949')\n",
    "test = pd.read_csv('energy/test.csv', encoding='cp949')"
   ]
  },
  {
   "cell_type": "code",
   "execution_count": 4,
   "metadata": {},
   "outputs": [],
   "source": [
    "train[['num', '비전기냉방설비운영','태양광보유']]\n",
    "ice={}\n",
    "hot={}\n",
    "count=0\n",
    "for i in range(0, len(train), len(train)//60):\n",
    "    count +=1\n",
    "    ice[count]=train.loc[i,'비전기냉방설비운영']\n",
    "    hot[count]=train.loc[i,'태양광보유']\n",
    "    \n",
    "for i in range(len(test)):\n",
    "    test.loc[i, '비전기냉방설비운영']=ice[test['num'][i]]\n",
    "    test.loc[i, '태양광보유']=hot[test['num'][i]]"
   ]
  },
  {
   "cell_type": "code",
   "execution_count": 5,
   "metadata": {},
   "outputs": [],
   "source": [
    "def time(x):\n",
    "    return int(x[-2:])\n",
    "train['hour']=train['date_time'].apply(lambda x: time(x))\n",
    "test['hour']=test['date_time'].apply(lambda x: time(x))\n",
    "\n",
    "def weekday(x):\n",
    "    return pd.to_datetime(x[:10]).weekday()\n",
    "train['weekday']=train['date_time'].apply(lambda x :weekday(x))\n",
    "test['weekday']=test['date_time'].apply(lambda x :weekday(x))"
   ]
  },
  {
   "cell_type": "code",
   "execution_count": 6,
   "metadata": {},
   "outputs": [],
   "source": [
    "test.interpolate(method='values', inplace=True)"
   ]
  },
  {
   "cell_type": "code",
   "execution_count": 7,
   "metadata": {},
   "outputs": [],
   "source": [
    "train['date_time'] = pd.to_datetime(train['date_time'].apply(lambda x: str(x)+':00'))\n",
    "test['date_time'] = pd.to_datetime(test['date_time'].apply(lambda x: str(x)+':00'))"
   ]
  },
  {
   "cell_type": "code",
   "execution_count": 8,
   "metadata": {},
   "outputs": [],
   "source": [
    "#휴일여부\n",
    "\n",
    "def holiday(x):\n",
    "    if str(x.date()) == '2020-06-06':\n",
    "        return 1\n",
    "    elif str(x.date()) == '2020-08-15':\n",
    "        return 1\n",
    "    elif x.weekday() == 5 or x.weekday() == 6:\n",
    "        return 1\n",
    "    else: \n",
    "        return 0\n",
    "\n",
    "train['holiday'] = train['date_time'].apply(lambda x: holiday(x))\n",
    "test['holiday'] = test['date_time'].apply(lambda x: holiday(x))"
   ]
  },
  {
   "cell_type": "code",
   "execution_count": 9,
   "metadata": {},
   "outputs": [],
   "source": [
    "#체감온도, 불쾌지수\n",
    "\n",
    "def get_pow(series):\n",
    "    return math.pow(series, 0.15)\n",
    "\n",
    "train['perceived_temperature'] = 13.12 + 0.6215*train['기온(°C)'] - 11.37*train['풍속(m/s)'].apply(get_pow) + 0.3965*train['풍속(m/s)'].apply(get_pow)*train['기온(°C)']\n",
    "train['discomfort_index'] = 1.8*train['기온(°C)'] - 0.55*(1-train['습도(%)']/100)*(1.8*train['기온(°C)']-26) + 32\n",
    "\n",
    "test['perceived_temperature'] = 13.12 + 0.6215*test['기온(°C)'] - 11.37*test['풍속(m/s)'].apply(get_pow) + 0.3965*test['풍속(m/s)'].apply(get_pow)*test['기온(°C)']\n",
    "test['discomfort_index'] = 1.8*test['기온(°C)'] - 0.55*(1-test['습도(%)']/100)*(1.8*test['기온(°C)']-26) + 32"
   ]
  },
  {
   "cell_type": "code",
   "execution_count": 10,
   "metadata": {},
   "outputs": [],
   "source": [
    "train.to_csv('edit_train.csv', index=False)\n",
    "test.to_csv('edit_test.csv', index=False)"
   ]
  },
  {
   "cell_type": "code",
   "execution_count": null,
   "metadata": {},
   "outputs": [],
   "source": []
  },
  {
   "cell_type": "code",
   "execution_count": null,
   "metadata": {},
   "outputs": [],
   "source": []
  },
  {
   "cell_type": "code",
   "execution_count": null,
   "metadata": {},
   "outputs": [],
   "source": []
  },
  {
   "cell_type": "code",
   "execution_count": null,
   "metadata": {},
   "outputs": [],
   "source": []
  },
  {
   "cell_type": "code",
   "execution_count": null,
   "metadata": {},
   "outputs": [],
   "source": []
  },
  {
   "cell_type": "code",
   "execution_count": 7,
   "metadata": {},
   "outputs": [],
   "source": [
    "# cluster_df = train['전력사용량(kWh)'].values.reshape(60, -1)\n",
    "\n",
    "# inertia_arr = []\n",
    "# k_arr = range(2, 11)\n",
    "\n",
    "# for k in k_arr:\n",
    "#     kmeans = KMeans(n_clusters=k, init='k-means++', random_state=0)\n",
    "#     kmeans.fit(cluster_df)\n",
    "#     interia = kmeans.inertia_\n",
    "    \n",
    "#     print('k: {0}, inertia : {1:.4f}'.format(k, interia))\n",
    "#     inertia_arr.append(interia)\n",
    "\n",
    "# plt.plot(k_arr, inertia_arr)\n",
    "# plt.xlabel('k')\n",
    "# plt.ylabel('inertia')"
   ]
  },
  {
   "cell_type": "markdown",
   "metadata": {},
   "source": [
    "**2040 = 85 * 24**"
   ]
  },
  {
   "cell_type": "markdown",
   "metadata": {},
   "source": [
    "일자별 클러스터"
   ]
  },
  {
   "cell_type": "code",
   "execution_count": 14,
   "metadata": {},
   "outputs": [],
   "source": [
    "# #num_hour_cluster군집화, 건물별 insert\n",
    "\n",
    "# train_cluster_df = train['전력사용량(kWh)'].values.reshape(60, -1)\n",
    "\n",
    "# kmeans = KMeans(n_clusters=10, init='k-means++', random_state=0)\n",
    "# kmeans.fit(train_cluster_df)\n",
    "# clusters = kmeans.predict(train_cluster_df)\n",
    "\n",
    "# num_hour_df['num_hour_assignment'] = clusters\n",
    "# train = train.merge(num_hour_df, how='left', on='num')\n",
    "# test = test.merge(num_hour_df, how='left', on='num')"
   ]
  }
 ],
 "metadata": {
  "kernelspec": {
   "display_name": "Python 3",
   "language": "python",
   "name": "python3"
  },
  "language_info": {
   "codemirror_mode": {
    "name": "ipython",
    "version": 3
   },
   "file_extension": ".py",
   "mimetype": "text/x-python",
   "name": "python",
   "nbconvert_exporter": "python",
   "pygments_lexer": "ipython3",
   "version": "3.8.5"
  }
 },
 "nbformat": 4,
 "nbformat_minor": 4
}
