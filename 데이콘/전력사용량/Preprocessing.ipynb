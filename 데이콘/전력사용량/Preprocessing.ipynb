{
 "cells": [
  {
   "cell_type": "code",
   "execution_count": 195,
   "metadata": {},
   "outputs": [],
   "source": [
    "import math\n",
    "import numpy as np\n",
    "import pandas as pd\n",
    "import warnings\n",
    "warnings.filterwarnings('ignore')\n",
    "\n",
    "import datetime\n",
    "from datetime import timedelta\n",
    "\n",
    "import matplotlib.pyplot as plt\n",
    "import seaborn as sns"
   ]
  },
  {
   "cell_type": "code",
   "execution_count": 196,
   "metadata": {},
   "outputs": [],
   "source": [
    "train = pd.read_csv('energy/train.csv', encoding='cp949')\n",
    "test = pd.read_csv('energy/test.csv', encoding='cp949')"
   ]
  },
  {
   "cell_type": "code",
   "execution_count": 197,
   "metadata": {},
   "outputs": [],
   "source": [
    "train[['num', '비전기냉방설비운영','태양광보유']]\n",
    "ice={}\n",
    "hot={}\n",
    "count=0\n",
    "for i in range(0, len(train), len(train)//60):\n",
    "    count +=1\n",
    "    ice[count]=train.loc[i,'비전기냉방설비운영']\n",
    "    hot[count]=train.loc[i,'태양광보유']\n",
    "    \n",
    "for i in range(len(test)):\n",
    "    test.loc[i, '비전기냉방설비운영']=ice[test['num'][i]]\n",
    "    test.loc[i, '태양광보유']=hot[test['num'][i]]"
   ]
  },
  {
   "cell_type": "code",
   "execution_count": 198,
   "metadata": {},
   "outputs": [],
   "source": [
    "def time(x):\n",
    "    return int(x[-2:])\n",
    "train['hour']=train['date_time'].apply(lambda x: time(x))\n",
    "test['hour']=test['date_time'].apply(lambda x: time(x))\n",
    "\n",
    "def weekday(x):\n",
    "    return pd.to_datetime(x[:10]).weekday()\n",
    "train['weekday']=train['date_time'].apply(lambda x :weekday(x))\n",
    "test['weekday']=test['date_time'].apply(lambda x :weekday(x))"
   ]
  },
  {
   "cell_type": "code",
   "execution_count": 199,
   "metadata": {},
   "outputs": [],
   "source": [
    "test.interpolate(method='values', inplace=True)"
   ]
  },
  {
   "cell_type": "code",
   "execution_count": 200,
   "metadata": {},
   "outputs": [],
   "source": [
    "train['date_time'] = pd.to_datetime(train['date_time'].apply(lambda x: str(x)+':00'))\n",
    "test['date_time'] = pd.to_datetime(test['date_time'].apply(lambda x: str(x)+':00'))"
   ]
  },
  {
   "cell_type": "code",
   "execution_count": 201,
   "metadata": {},
   "outputs": [],
   "source": [
    "#휴일여부\n",
    "\n",
    "def holiday(x):\n",
    "    if str(x.date()) == '2020-06-06':\n",
    "        return 1\n",
    "    elif str(x.date()) == '2020-08-15':\n",
    "        return 1\n",
    "    elif x.weekday() == 5 or x.weekday() == 6:\n",
    "        return 1\n",
    "    else: \n",
    "        return 0\n",
    "\n",
    "train['holiday'] = train['date_time'].apply(lambda x: holiday(x))\n",
    "test['holiday'] = test['date_time'].apply(lambda x: holiday(x))"
   ]
  },
  {
   "cell_type": "code",
   "execution_count": 202,
   "metadata": {},
   "outputs": [],
   "source": [
    "#체감온도, 불쾌지수\n",
    "\n",
    "def get_pow(series):\n",
    "    return math.pow(series, 0.15)\n",
    "\n",
    "train['perceived_temperature'] = 13.12 + 0.6215*train['기온(°C)'] - 11.37*train['풍속(m/s)'].apply(get_pow) + 0.3965*train['풍속(m/s)'].apply(get_pow)*train['기온(°C)']\n",
    "train['discomfort_index'] = 1.8*train['기온(°C)'] - 0.55*(1-train['습도(%)']/100)*(1.8*train['기온(°C)']-26) + 32\n",
    "\n",
    "test['perceived_temperature'] = 13.12 + 0.6215*test['기온(°C)'] - 11.37*test['풍속(m/s)'].apply(get_pow) + 0.3965*test['풍속(m/s)'].apply(get_pow)*test['기온(°C)']\n",
    "test['discomfort_index'] = 1.8*test['기온(°C)'] - 0.55*(1-test['습도(%)']/100)*(1.8*test['기온(°C)']-26) + 32"
   ]
  },
  {
   "cell_type": "code",
   "execution_count": 203,
   "metadata": {},
   "outputs": [],
   "source": [
    "#강수량 encoding\n",
    "\n",
    "train.iloc[:, 6] = train.iloc[:, 6].apply(lambda x: 0 if x == 0 else 1)\n",
    "test.iloc[:, 5] = test.iloc[:, 5].apply(lambda x: 0 if x == 0 else 1)\n",
    "test = test.rename(columns={'강수량(mm, 6시간)':'강수량(mm)', '일조(hr, 3시간)':'일조(hr)'})"
   ]
  },
  {
   "cell_type": "code",
   "execution_count": 27,
   "metadata": {},
   "outputs": [],
   "source": [
    "# train.to_csv('edit_train.csv', index=False)\n",
    "# test.to_csv('edit_test.csv', index=False)"
   ]
  },
  {
   "cell_type": "code",
   "execution_count": 211,
   "metadata": {},
   "outputs": [],
   "source": [
    "concat_df = pd.concat([train, test], axis=0).sort_values(by=['num', 'date_time'])"
   ]
  },
  {
   "cell_type": "code",
   "execution_count": null,
   "metadata": {},
   "outputs": [],
   "source": [
    "def remove_date(x):\n",
    "    if str(x)[:]"
   ]
  },
  {
   "cell_type": "code",
   "execution_count": 228,
   "metadata": {
    "tags": []
   },
   "outputs": [
    {
     "output_type": "execute_result",
     "data": {
      "text/plain": [
       "       num           date_time  전력사용량(kWh)     기온(°C)   풍속(m/s)  습도(%)  \\\n",
       "0        1 2020-06-01 00:00:00    8179.056  17.600000  2.500000   92.0   \n",
       "1        1 2020-06-01 01:00:00    8135.640  17.700000  2.900000   91.0   \n",
       "2        1 2020-06-01 02:00:00    8107.128  17.500000  3.200000   91.0   \n",
       "3        1 2020-06-01 03:00:00    8048.808  17.100000  3.200000   91.0   \n",
       "4        1 2020-06-01 04:00:00    8043.624  17.000000  3.300000   92.0   \n",
       "...    ...                 ...         ...        ...       ...    ...   \n",
       "10075   60 2020-08-31 19:00:00         NaN  28.633333  3.566667   66.0   \n",
       "10076   60 2020-08-31 20:00:00         NaN  28.266667  3.833333   67.0   \n",
       "10077   60 2020-08-31 21:00:00         NaN  27.900000  4.100000   68.0   \n",
       "10078   60 2020-08-31 22:00:00         NaN  27.900000  4.100000   68.0   \n",
       "10079   60 2020-08-31 23:00:00         NaN  27.900000  4.100000   68.0   \n",
       "\n",
       "       강수량(mm)    일조(hr)  비전기냉방설비운영  태양광보유  hour  weekday  holiday  \\\n",
       "0            1  0.000000        0.0    0.0     0        0        0   \n",
       "1            1  0.000000        0.0    0.0     1        0        0   \n",
       "2            0  0.000000        0.0    0.0     2        0        0   \n",
       "3            0  0.000000        0.0    0.0     3        0        0   \n",
       "4            0  0.000000        0.0    0.0     4        0        0   \n",
       "...        ...       ...        ...    ...   ...      ...      ...   \n",
       "10075        0  0.533333        1.0    1.0    19        0        0   \n",
       "10076        0  0.266667        1.0    1.0    20        0        0   \n",
       "10077        0  0.000000        1.0    1.0    21        0        0   \n",
       "10078        0  0.000000        1.0    1.0    22        0        0   \n",
       "10079        0  0.000000        1.0    1.0    23        0        0   \n",
       "\n",
       "       perceived_temperature  discomfort_index  \n",
       "0                  19.019755          63.43008  \n",
       "1                  19.014988          63.56993  \n",
       "2                  18.720323          63.22775  \n",
       "3                  18.282891          62.54339  \n",
       "4                  18.148033          62.39760  \n",
       "...                      ...               ...  \n",
       "10075              30.895185          78.76402  \n",
       "10076              30.489231          78.36428  \n",
       "10077              30.079683          77.95728  \n",
       "10078              30.079683          77.95728  \n",
       "10079              30.079683          77.95728  \n",
       "\n",
       "[132480 rows x 15 columns]"
      ],
      "text/html": "<div>\n<style scoped>\n    .dataframe tbody tr th:only-of-type {\n        vertical-align: middle;\n    }\n\n    .dataframe tbody tr th {\n        vertical-align: top;\n    }\n\n    .dataframe thead th {\n        text-align: right;\n    }\n</style>\n<table border=\"1\" class=\"dataframe\">\n  <thead>\n    <tr style=\"text-align: right;\">\n      <th></th>\n      <th>num</th>\n      <th>date_time</th>\n      <th>전력사용량(kWh)</th>\n      <th>기온(°C)</th>\n      <th>풍속(m/s)</th>\n      <th>습도(%)</th>\n      <th>강수량(mm)</th>\n      <th>일조(hr)</th>\n      <th>비전기냉방설비운영</th>\n      <th>태양광보유</th>\n      <th>hour</th>\n      <th>weekday</th>\n      <th>holiday</th>\n      <th>perceived_temperature</th>\n      <th>discomfort_index</th>\n    </tr>\n  </thead>\n  <tbody>\n    <tr>\n      <th>0</th>\n      <td>1</td>\n      <td>2020-06-01 00:00:00</td>\n      <td>8179.056</td>\n      <td>17.600000</td>\n      <td>2.500000</td>\n      <td>92.0</td>\n      <td>1</td>\n      <td>0.000000</td>\n      <td>0.0</td>\n      <td>0.0</td>\n      <td>0</td>\n      <td>0</td>\n      <td>0</td>\n      <td>19.019755</td>\n      <td>63.43008</td>\n    </tr>\n    <tr>\n      <th>1</th>\n      <td>1</td>\n      <td>2020-06-01 01:00:00</td>\n      <td>8135.640</td>\n      <td>17.700000</td>\n      <td>2.900000</td>\n      <td>91.0</td>\n      <td>1</td>\n      <td>0.000000</td>\n      <td>0.0</td>\n      <td>0.0</td>\n      <td>1</td>\n      <td>0</td>\n      <td>0</td>\n      <td>19.014988</td>\n      <td>63.56993</td>\n    </tr>\n    <tr>\n      <th>2</th>\n      <td>1</td>\n      <td>2020-06-01 02:00:00</td>\n      <td>8107.128</td>\n      <td>17.500000</td>\n      <td>3.200000</td>\n      <td>91.0</td>\n      <td>0</td>\n      <td>0.000000</td>\n      <td>0.0</td>\n      <td>0.0</td>\n      <td>2</td>\n      <td>0</td>\n      <td>0</td>\n      <td>18.720323</td>\n      <td>63.22775</td>\n    </tr>\n    <tr>\n      <th>3</th>\n      <td>1</td>\n      <td>2020-06-01 03:00:00</td>\n      <td>8048.808</td>\n      <td>17.100000</td>\n      <td>3.200000</td>\n      <td>91.0</td>\n      <td>0</td>\n      <td>0.000000</td>\n      <td>0.0</td>\n      <td>0.0</td>\n      <td>3</td>\n      <td>0</td>\n      <td>0</td>\n      <td>18.282891</td>\n      <td>62.54339</td>\n    </tr>\n    <tr>\n      <th>4</th>\n      <td>1</td>\n      <td>2020-06-01 04:00:00</td>\n      <td>8043.624</td>\n      <td>17.000000</td>\n      <td>3.300000</td>\n      <td>92.0</td>\n      <td>0</td>\n      <td>0.000000</td>\n      <td>0.0</td>\n      <td>0.0</td>\n      <td>4</td>\n      <td>0</td>\n      <td>0</td>\n      <td>18.148033</td>\n      <td>62.39760</td>\n    </tr>\n    <tr>\n      <th>...</th>\n      <td>...</td>\n      <td>...</td>\n      <td>...</td>\n      <td>...</td>\n      <td>...</td>\n      <td>...</td>\n      <td>...</td>\n      <td>...</td>\n      <td>...</td>\n      <td>...</td>\n      <td>...</td>\n      <td>...</td>\n      <td>...</td>\n      <td>...</td>\n      <td>...</td>\n    </tr>\n    <tr>\n      <th>10075</th>\n      <td>60</td>\n      <td>2020-08-31 19:00:00</td>\n      <td>NaN</td>\n      <td>28.633333</td>\n      <td>3.566667</td>\n      <td>66.0</td>\n      <td>0</td>\n      <td>0.533333</td>\n      <td>1.0</td>\n      <td>1.0</td>\n      <td>19</td>\n      <td>0</td>\n      <td>0</td>\n      <td>30.895185</td>\n      <td>78.76402</td>\n    </tr>\n    <tr>\n      <th>10076</th>\n      <td>60</td>\n      <td>2020-08-31 20:00:00</td>\n      <td>NaN</td>\n      <td>28.266667</td>\n      <td>3.833333</td>\n      <td>67.0</td>\n      <td>0</td>\n      <td>0.266667</td>\n      <td>1.0</td>\n      <td>1.0</td>\n      <td>20</td>\n      <td>0</td>\n      <td>0</td>\n      <td>30.489231</td>\n      <td>78.36428</td>\n    </tr>\n    <tr>\n      <th>10077</th>\n      <td>60</td>\n      <td>2020-08-31 21:00:00</td>\n      <td>NaN</td>\n      <td>27.900000</td>\n      <td>4.100000</td>\n      <td>68.0</td>\n      <td>0</td>\n      <td>0.000000</td>\n      <td>1.0</td>\n      <td>1.0</td>\n      <td>21</td>\n      <td>0</td>\n      <td>0</td>\n      <td>30.079683</td>\n      <td>77.95728</td>\n    </tr>\n    <tr>\n      <th>10078</th>\n      <td>60</td>\n      <td>2020-08-31 22:00:00</td>\n      <td>NaN</td>\n      <td>27.900000</td>\n      <td>4.100000</td>\n      <td>68.0</td>\n      <td>0</td>\n      <td>0.000000</td>\n      <td>1.0</td>\n      <td>1.0</td>\n      <td>22</td>\n      <td>0</td>\n      <td>0</td>\n      <td>30.079683</td>\n      <td>77.95728</td>\n    </tr>\n    <tr>\n      <th>10079</th>\n      <td>60</td>\n      <td>2020-08-31 23:00:00</td>\n      <td>NaN</td>\n      <td>27.900000</td>\n      <td>4.100000</td>\n      <td>68.0</td>\n      <td>0</td>\n      <td>0.000000</td>\n      <td>1.0</td>\n      <td>1.0</td>\n      <td>23</td>\n      <td>0</td>\n      <td>0</td>\n      <td>30.079683</td>\n      <td>77.95728</td>\n    </tr>\n  </tbody>\n</table>\n<p>132480 rows × 15 columns</p>\n</div>"
     },
     "metadata": {},
     "execution_count": 228
    }
   ],
   "source": [
    "pd.concat([train, test], axis=0).sort_values(by=['num', 'date_time']).apply(lambda x: x)"
   ]
  },
  {
   "cell_type": "code",
   "execution_count": 144,
   "metadata": {},
   "outputs": [],
   "source": [
    "train_time = train['date_time'].apply(lambda x: x - datetime.timedelta(days=7))\n",
    "test_time = test['date_time'].apply(lambda x: x - datetime.timedelta(days=7))\n",
    "\n",
    "train_time = pd.DataFrame(train_time, columns=['date_time'])\n",
    "test_time = pd.DataFrame(test_time, columns=['date_time'])\n",
    "\n",
    "train_time['num'] = train['num']\n",
    "test_time['num'] = test['num']\n",
    "\n",
    "train_time['전력사용량(kWh)'] = train.iloc[:, 2]\n",
    "test_time['전력사용량(kWh)'] = test.iloc[:, 2]\n",
    "\n",
    "train_time['true_date_time'] = train['date_time']\n",
    "test_time['true_date_time'] = test['date_time']\n"
   ]
  },
  {
   "cell_type": "code",
   "execution_count": 146,
   "metadata": {},
   "outputs": [
    {
     "output_type": "execute_result",
     "data": {
      "text/plain": [
       "               date_time  num  전력사용량(kWh)      true_date_time\n",
       "2195 2020-05-31 11:00:00    2    1067.256 2020-06-07 11:00:00\n",
       "2196 2020-05-31 12:00:00    2    1066.932 2020-06-07 12:00:00\n",
       "2197 2020-05-31 13:00:00    2    1078.920 2020-06-07 13:00:00\n",
       "2198 2020-05-31 14:00:00    2    1073.736 2020-06-07 14:00:00\n",
       "2199 2020-05-31 15:00:00    2    1068.876 2020-06-07 15:00:00\n",
       "2200 2020-05-31 16:00:00    2    1068.876 2020-06-07 16:00:00\n",
       "2201 2020-05-31 17:00:00    2    1071.792 2020-06-07 17:00:00\n",
       "2202 2020-05-31 18:00:00    2    1054.296 2020-06-07 18:00:00\n",
       "2203 2020-05-31 19:00:00    2    1035.180 2020-06-07 19:00:00\n",
       "2204 2020-05-31 20:00:00    2    1021.896 2020-06-07 20:00:00\n",
       "2205 2020-05-31 21:00:00    2    1012.824 2020-06-07 21:00:00\n",
       "2206 2020-05-31 22:00:00    2     987.876 2020-06-07 22:00:00\n",
       "2207 2020-05-31 23:00:00    2     980.100 2020-06-07 23:00:00\n",
       "2208 2020-06-01 00:00:00    2     974.592 2020-06-08 00:00:00\n",
       "2209 2020-06-01 01:00:00    2     969.732 2020-06-08 01:00:00\n",
       "2210 2020-06-01 02:00:00    2     968.112 2020-06-08 02:00:00\n",
       "2211 2020-06-01 03:00:00    2     963.900 2020-06-08 03:00:00\n",
       "2212 2020-06-01 04:00:00    2     960.984 2020-06-08 04:00:00\n",
       "2213 2020-06-01 05:00:00    2     972.000 2020-06-08 05:00:00\n",
       "2214 2020-06-01 06:00:00    2    1195.560 2020-06-08 06:00:00\n",
       "2215 2020-06-01 07:00:00    2    1306.368 2020-06-08 07:00:00\n",
       "2216 2020-06-01 08:00:00    2    1495.260 2020-06-08 08:00:00\n",
       "2217 2020-06-01 09:00:00    2    1614.168 2020-06-08 09:00:00\n",
       "2218 2020-06-01 10:00:00    2    1730.160 2020-06-08 10:00:00\n",
       "2219 2020-06-01 11:00:00    2    1735.668 2020-06-08 11:00:00"
      ],
      "text/html": "<div>\n<style scoped>\n    .dataframe tbody tr th:only-of-type {\n        vertical-align: middle;\n    }\n\n    .dataframe tbody tr th {\n        vertical-align: top;\n    }\n\n    .dataframe thead th {\n        text-align: right;\n    }\n</style>\n<table border=\"1\" class=\"dataframe\">\n  <thead>\n    <tr style=\"text-align: right;\">\n      <th></th>\n      <th>date_time</th>\n      <th>num</th>\n      <th>전력사용량(kWh)</th>\n      <th>true_date_time</th>\n    </tr>\n  </thead>\n  <tbody>\n    <tr>\n      <th>2195</th>\n      <td>2020-05-31 11:00:00</td>\n      <td>2</td>\n      <td>1067.256</td>\n      <td>2020-06-07 11:00:00</td>\n    </tr>\n    <tr>\n      <th>2196</th>\n      <td>2020-05-31 12:00:00</td>\n      <td>2</td>\n      <td>1066.932</td>\n      <td>2020-06-07 12:00:00</td>\n    </tr>\n    <tr>\n      <th>2197</th>\n      <td>2020-05-31 13:00:00</td>\n      <td>2</td>\n      <td>1078.920</td>\n      <td>2020-06-07 13:00:00</td>\n    </tr>\n    <tr>\n      <th>2198</th>\n      <td>2020-05-31 14:00:00</td>\n      <td>2</td>\n      <td>1073.736</td>\n      <td>2020-06-07 14:00:00</td>\n    </tr>\n    <tr>\n      <th>2199</th>\n      <td>2020-05-31 15:00:00</td>\n      <td>2</td>\n      <td>1068.876</td>\n      <td>2020-06-07 15:00:00</td>\n    </tr>\n    <tr>\n      <th>2200</th>\n      <td>2020-05-31 16:00:00</td>\n      <td>2</td>\n      <td>1068.876</td>\n      <td>2020-06-07 16:00:00</td>\n    </tr>\n    <tr>\n      <th>2201</th>\n      <td>2020-05-31 17:00:00</td>\n      <td>2</td>\n      <td>1071.792</td>\n      <td>2020-06-07 17:00:00</td>\n    </tr>\n    <tr>\n      <th>2202</th>\n      <td>2020-05-31 18:00:00</td>\n      <td>2</td>\n      <td>1054.296</td>\n      <td>2020-06-07 18:00:00</td>\n    </tr>\n    <tr>\n      <th>2203</th>\n      <td>2020-05-31 19:00:00</td>\n      <td>2</td>\n      <td>1035.180</td>\n      <td>2020-06-07 19:00:00</td>\n    </tr>\n    <tr>\n      <th>2204</th>\n      <td>2020-05-31 20:00:00</td>\n      <td>2</td>\n      <td>1021.896</td>\n      <td>2020-06-07 20:00:00</td>\n    </tr>\n    <tr>\n      <th>2205</th>\n      <td>2020-05-31 21:00:00</td>\n      <td>2</td>\n      <td>1012.824</td>\n      <td>2020-06-07 21:00:00</td>\n    </tr>\n    <tr>\n      <th>2206</th>\n      <td>2020-05-31 22:00:00</td>\n      <td>2</td>\n      <td>987.876</td>\n      <td>2020-06-07 22:00:00</td>\n    </tr>\n    <tr>\n      <th>2207</th>\n      <td>2020-05-31 23:00:00</td>\n      <td>2</td>\n      <td>980.100</td>\n      <td>2020-06-07 23:00:00</td>\n    </tr>\n    <tr>\n      <th>2208</th>\n      <td>2020-06-01 00:00:00</td>\n      <td>2</td>\n      <td>974.592</td>\n      <td>2020-06-08 00:00:00</td>\n    </tr>\n    <tr>\n      <th>2209</th>\n      <td>2020-06-01 01:00:00</td>\n      <td>2</td>\n      <td>969.732</td>\n      <td>2020-06-08 01:00:00</td>\n    </tr>\n    <tr>\n      <th>2210</th>\n      <td>2020-06-01 02:00:00</td>\n      <td>2</td>\n      <td>968.112</td>\n      <td>2020-06-08 02:00:00</td>\n    </tr>\n    <tr>\n      <th>2211</th>\n      <td>2020-06-01 03:00:00</td>\n      <td>2</td>\n      <td>963.900</td>\n      <td>2020-06-08 03:00:00</td>\n    </tr>\n    <tr>\n      <th>2212</th>\n      <td>2020-06-01 04:00:00</td>\n      <td>2</td>\n      <td>960.984</td>\n      <td>2020-06-08 04:00:00</td>\n    </tr>\n    <tr>\n      <th>2213</th>\n      <td>2020-06-01 05:00:00</td>\n      <td>2</td>\n      <td>972.000</td>\n      <td>2020-06-08 05:00:00</td>\n    </tr>\n    <tr>\n      <th>2214</th>\n      <td>2020-06-01 06:00:00</td>\n      <td>2</td>\n      <td>1195.560</td>\n      <td>2020-06-08 06:00:00</td>\n    </tr>\n    <tr>\n      <th>2215</th>\n      <td>2020-06-01 07:00:00</td>\n      <td>2</td>\n      <td>1306.368</td>\n      <td>2020-06-08 07:00:00</td>\n    </tr>\n    <tr>\n      <th>2216</th>\n      <td>2020-06-01 08:00:00</td>\n      <td>2</td>\n      <td>1495.260</td>\n      <td>2020-06-08 08:00:00</td>\n    </tr>\n    <tr>\n      <th>2217</th>\n      <td>2020-06-01 09:00:00</td>\n      <td>2</td>\n      <td>1614.168</td>\n      <td>2020-06-08 09:00:00</td>\n    </tr>\n    <tr>\n      <th>2218</th>\n      <td>2020-06-01 10:00:00</td>\n      <td>2</td>\n      <td>1730.160</td>\n      <td>2020-06-08 10:00:00</td>\n    </tr>\n    <tr>\n      <th>2219</th>\n      <td>2020-06-01 11:00:00</td>\n      <td>2</td>\n      <td>1735.668</td>\n      <td>2020-06-08 11:00:00</td>\n    </tr>\n  </tbody>\n</table>\n</div>"
     },
     "metadata": {},
     "execution_count": 146
    }
   ],
   "source": [
    "train_time[train_time['num'] == 2].iloc[155:180, :]"
   ]
  },
  {
   "cell_type": "code",
   "execution_count": 147,
   "metadata": {},
   "outputs": [
    {
     "output_type": "execute_result",
     "data": {
      "text/plain": [
       "      num           date_time  전력사용량(kWh)\n",
       "2040    2 2020-06-01 00:00:00     977.184\n",
       "2041    2 2020-06-01 01:00:00     966.168\n",
       "2042    2 2020-06-01 02:00:00     972.972\n",
       "2043    2 2020-06-01 03:00:00     965.844\n",
       "2044    2 2020-06-01 04:00:00     971.676\n",
       "2045    2 2020-06-01 05:00:00     972.648\n",
       "2046    2 2020-06-01 06:00:00    1041.336\n",
       "2047    2 2020-06-01 07:00:00    1187.136\n",
       "2048    2 2020-06-01 08:00:00    1394.820\n",
       "2049    2 2020-06-01 09:00:00    1533.168\n",
       "2050    2 2020-06-01 10:00:00    1500.444\n",
       "2051    2 2020-06-01 11:00:00    1506.600\n",
       "2052    2 2020-06-01 12:00:00    1566.864\n",
       "2053    2 2020-06-01 13:00:00    1575.936\n",
       "2054    2 2020-06-01 14:00:00    1573.020\n",
       "2055    2 2020-06-01 15:00:00    1551.312\n",
       "2056    2 2020-06-01 16:00:00    1536.408\n",
       "2057    2 2020-06-01 17:00:00    1512.756\n",
       "2058    2 2020-06-01 18:00:00    1336.500\n",
       "2059    2 2020-06-01 19:00:00    1216.296\n",
       "2060    2 2020-06-01 20:00:00    1119.744\n",
       "2061    2 2020-06-01 21:00:00    1068.876\n",
       "2062    2 2020-06-01 22:00:00    1039.068\n",
       "2063    2 2020-06-01 23:00:00    1008.612\n",
       "2064    2 2020-06-02 00:00:00     992.088\n",
       "2065    2 2020-06-02 01:00:00     961.956\n",
       "2066    2 2020-06-02 02:00:00     969.084\n",
       "2067    2 2020-06-02 03:00:00     959.688\n",
       "2068    2 2020-06-02 04:00:00     956.448\n",
       "2069    2 2020-06-02 05:00:00     960.012"
      ],
      "text/html": "<div>\n<style scoped>\n    .dataframe tbody tr th:only-of-type {\n        vertical-align: middle;\n    }\n\n    .dataframe tbody tr th {\n        vertical-align: top;\n    }\n\n    .dataframe thead th {\n        text-align: right;\n    }\n</style>\n<table border=\"1\" class=\"dataframe\">\n  <thead>\n    <tr style=\"text-align: right;\">\n      <th></th>\n      <th>num</th>\n      <th>date_time</th>\n      <th>전력사용량(kWh)</th>\n    </tr>\n  </thead>\n  <tbody>\n    <tr>\n      <th>2040</th>\n      <td>2</td>\n      <td>2020-06-01 00:00:00</td>\n      <td>977.184</td>\n    </tr>\n    <tr>\n      <th>2041</th>\n      <td>2</td>\n      <td>2020-06-01 01:00:00</td>\n      <td>966.168</td>\n    </tr>\n    <tr>\n      <th>2042</th>\n      <td>2</td>\n      <td>2020-06-01 02:00:00</td>\n      <td>972.972</td>\n    </tr>\n    <tr>\n      <th>2043</th>\n      <td>2</td>\n      <td>2020-06-01 03:00:00</td>\n      <td>965.844</td>\n    </tr>\n    <tr>\n      <th>2044</th>\n      <td>2</td>\n      <td>2020-06-01 04:00:00</td>\n      <td>971.676</td>\n    </tr>\n    <tr>\n      <th>2045</th>\n      <td>2</td>\n      <td>2020-06-01 05:00:00</td>\n      <td>972.648</td>\n    </tr>\n    <tr>\n      <th>2046</th>\n      <td>2</td>\n      <td>2020-06-01 06:00:00</td>\n      <td>1041.336</td>\n    </tr>\n    <tr>\n      <th>2047</th>\n      <td>2</td>\n      <td>2020-06-01 07:00:00</td>\n      <td>1187.136</td>\n    </tr>\n    <tr>\n      <th>2048</th>\n      <td>2</td>\n      <td>2020-06-01 08:00:00</td>\n      <td>1394.820</td>\n    </tr>\n    <tr>\n      <th>2049</th>\n      <td>2</td>\n      <td>2020-06-01 09:00:00</td>\n      <td>1533.168</td>\n    </tr>\n    <tr>\n      <th>2050</th>\n      <td>2</td>\n      <td>2020-06-01 10:00:00</td>\n      <td>1500.444</td>\n    </tr>\n    <tr>\n      <th>2051</th>\n      <td>2</td>\n      <td>2020-06-01 11:00:00</td>\n      <td>1506.600</td>\n    </tr>\n    <tr>\n      <th>2052</th>\n      <td>2</td>\n      <td>2020-06-01 12:00:00</td>\n      <td>1566.864</td>\n    </tr>\n    <tr>\n      <th>2053</th>\n      <td>2</td>\n      <td>2020-06-01 13:00:00</td>\n      <td>1575.936</td>\n    </tr>\n    <tr>\n      <th>2054</th>\n      <td>2</td>\n      <td>2020-06-01 14:00:00</td>\n      <td>1573.020</td>\n    </tr>\n    <tr>\n      <th>2055</th>\n      <td>2</td>\n      <td>2020-06-01 15:00:00</td>\n      <td>1551.312</td>\n    </tr>\n    <tr>\n      <th>2056</th>\n      <td>2</td>\n      <td>2020-06-01 16:00:00</td>\n      <td>1536.408</td>\n    </tr>\n    <tr>\n      <th>2057</th>\n      <td>2</td>\n      <td>2020-06-01 17:00:00</td>\n      <td>1512.756</td>\n    </tr>\n    <tr>\n      <th>2058</th>\n      <td>2</td>\n      <td>2020-06-01 18:00:00</td>\n      <td>1336.500</td>\n    </tr>\n    <tr>\n      <th>2059</th>\n      <td>2</td>\n      <td>2020-06-01 19:00:00</td>\n      <td>1216.296</td>\n    </tr>\n    <tr>\n      <th>2060</th>\n      <td>2</td>\n      <td>2020-06-01 20:00:00</td>\n      <td>1119.744</td>\n    </tr>\n    <tr>\n      <th>2061</th>\n      <td>2</td>\n      <td>2020-06-01 21:00:00</td>\n      <td>1068.876</td>\n    </tr>\n    <tr>\n      <th>2062</th>\n      <td>2</td>\n      <td>2020-06-01 22:00:00</td>\n      <td>1039.068</td>\n    </tr>\n    <tr>\n      <th>2063</th>\n      <td>2</td>\n      <td>2020-06-01 23:00:00</td>\n      <td>1008.612</td>\n    </tr>\n    <tr>\n      <th>2064</th>\n      <td>2</td>\n      <td>2020-06-02 00:00:00</td>\n      <td>992.088</td>\n    </tr>\n    <tr>\n      <th>2065</th>\n      <td>2</td>\n      <td>2020-06-02 01:00:00</td>\n      <td>961.956</td>\n    </tr>\n    <tr>\n      <th>2066</th>\n      <td>2</td>\n      <td>2020-06-02 02:00:00</td>\n      <td>969.084</td>\n    </tr>\n    <tr>\n      <th>2067</th>\n      <td>2</td>\n      <td>2020-06-02 03:00:00</td>\n      <td>959.688</td>\n    </tr>\n    <tr>\n      <th>2068</th>\n      <td>2</td>\n      <td>2020-06-02 04:00:00</td>\n      <td>956.448</td>\n    </tr>\n    <tr>\n      <th>2069</th>\n      <td>2</td>\n      <td>2020-06-02 05:00:00</td>\n      <td>960.012</td>\n    </tr>\n  </tbody>\n</table>\n</div>"
     },
     "metadata": {},
     "execution_count": 147
    }
   ],
   "source": [
    "train[train['num'] == 2].iloc[:30, :3]"
   ]
  },
  {
   "cell_type": "code",
   "execution_count": 83,
   "metadata": {},
   "outputs": [
    {
     "output_type": "execute_result",
     "data": {
      "text/plain": [
       "                 date_time  num  전력사용량(kWh)  기온(°C)  풍속(m/s)  습도(%)  강수량(mm)  \\\n",
       "0      2020-06-01 00:00:00    1    8179.056    17.6      2.5   92.0        1   \n",
       "1      2020-06-01 01:00:00    1    8135.640    17.7      2.9   91.0        1   \n",
       "2      2020-06-01 02:00:00    1    8107.128    17.5      3.2   91.0        0   \n",
       "3      2020-06-01 03:00:00    1    8048.808    17.1      3.2   91.0        0   \n",
       "4      2020-06-01 04:00:00    1    8043.624    17.0      3.3   92.0        0   \n",
       "...                    ...  ...         ...     ...      ...    ...      ...   \n",
       "112315 2020-08-17 19:00:00   60    4261.248    28.0      1.2   81.0        0   \n",
       "112316 2020-08-17 20:00:00   60    4202.064    26.8      2.1   86.0        0   \n",
       "112317 2020-08-17 21:00:00   60    4036.608    26.0      2.1   92.0        0   \n",
       "112318 2020-08-17 22:00:00   60    3850.416    25.8      1.0   87.0        0   \n",
       "112319 2020-08-17 23:00:00   60    3297.888    25.6      1.3   84.0        0   \n",
       "\n",
       "        일조(hr)  비전기냉방설비운영  태양광보유  hour  weekday  holiday  \\\n",
       "0          0.0        0.0    0.0     0        0        0   \n",
       "1          0.0        0.0    0.0     1        0        0   \n",
       "2          0.0        0.0    0.0     2        0        0   \n",
       "3          0.0        0.0    0.0     3        0        0   \n",
       "4          0.0        0.0    0.0     4        0        0   \n",
       "...        ...        ...    ...   ...      ...      ...   \n",
       "112315     0.9        1.0    1.0    19        0        0   \n",
       "112316     0.0        1.0    1.0    20        0        0   \n",
       "112317     0.0        1.0    1.0    21        0        0   \n",
       "112318     0.0        1.0    1.0    22        0        0   \n",
       "112319     0.0        1.0    1.0    23        0        0   \n",
       "\n",
       "        perceived_temperature  discomfort_index  \n",
       "0                   19.019755          63.43008  \n",
       "1                   19.014988          63.56993  \n",
       "2                   18.720323          63.22775  \n",
       "3                   18.282891          62.54339  \n",
       "4                   18.148033          62.39760  \n",
       "...                       ...               ...  \n",
       "112315              30.246570          79.85020  \n",
       "112316              28.944840          78.52752  \n",
       "112317              28.093099          77.88480  \n",
       "112318              28.014400          76.97854  \n",
       "112319              27.761846          76.31296  \n",
       "\n",
       "[112320 rows x 15 columns]"
      ],
      "text/html": "<div>\n<style scoped>\n    .dataframe tbody tr th:only-of-type {\n        vertical-align: middle;\n    }\n\n    .dataframe tbody tr th {\n        vertical-align: top;\n    }\n\n    .dataframe thead th {\n        text-align: right;\n    }\n</style>\n<table border=\"1\" class=\"dataframe\">\n  <thead>\n    <tr style=\"text-align: right;\">\n      <th></th>\n      <th>date_time</th>\n      <th>num</th>\n      <th>전력사용량(kWh)</th>\n      <th>기온(°C)</th>\n      <th>풍속(m/s)</th>\n      <th>습도(%)</th>\n      <th>강수량(mm)</th>\n      <th>일조(hr)</th>\n      <th>비전기냉방설비운영</th>\n      <th>태양광보유</th>\n      <th>hour</th>\n      <th>weekday</th>\n      <th>holiday</th>\n      <th>perceived_temperature</th>\n      <th>discomfort_index</th>\n    </tr>\n  </thead>\n  <tbody>\n    <tr>\n      <th>0</th>\n      <td>2020-06-01 00:00:00</td>\n      <td>1</td>\n      <td>8179.056</td>\n      <td>17.6</td>\n      <td>2.5</td>\n      <td>92.0</td>\n      <td>1</td>\n      <td>0.0</td>\n      <td>0.0</td>\n      <td>0.0</td>\n      <td>0</td>\n      <td>0</td>\n      <td>0</td>\n      <td>19.019755</td>\n      <td>63.43008</td>\n    </tr>\n    <tr>\n      <th>1</th>\n      <td>2020-06-01 01:00:00</td>\n      <td>1</td>\n      <td>8135.640</td>\n      <td>17.7</td>\n      <td>2.9</td>\n      <td>91.0</td>\n      <td>1</td>\n      <td>0.0</td>\n      <td>0.0</td>\n      <td>0.0</td>\n      <td>1</td>\n      <td>0</td>\n      <td>0</td>\n      <td>19.014988</td>\n      <td>63.56993</td>\n    </tr>\n    <tr>\n      <th>2</th>\n      <td>2020-06-01 02:00:00</td>\n      <td>1</td>\n      <td>8107.128</td>\n      <td>17.5</td>\n      <td>3.2</td>\n      <td>91.0</td>\n      <td>0</td>\n      <td>0.0</td>\n      <td>0.0</td>\n      <td>0.0</td>\n      <td>2</td>\n      <td>0</td>\n      <td>0</td>\n      <td>18.720323</td>\n      <td>63.22775</td>\n    </tr>\n    <tr>\n      <th>3</th>\n      <td>2020-06-01 03:00:00</td>\n      <td>1</td>\n      <td>8048.808</td>\n      <td>17.1</td>\n      <td>3.2</td>\n      <td>91.0</td>\n      <td>0</td>\n      <td>0.0</td>\n      <td>0.0</td>\n      <td>0.0</td>\n      <td>3</td>\n      <td>0</td>\n      <td>0</td>\n      <td>18.282891</td>\n      <td>62.54339</td>\n    </tr>\n    <tr>\n      <th>4</th>\n      <td>2020-06-01 04:00:00</td>\n      <td>1</td>\n      <td>8043.624</td>\n      <td>17.0</td>\n      <td>3.3</td>\n      <td>92.0</td>\n      <td>0</td>\n      <td>0.0</td>\n      <td>0.0</td>\n      <td>0.0</td>\n      <td>4</td>\n      <td>0</td>\n      <td>0</td>\n      <td>18.148033</td>\n      <td>62.39760</td>\n    </tr>\n    <tr>\n      <th>...</th>\n      <td>...</td>\n      <td>...</td>\n      <td>...</td>\n      <td>...</td>\n      <td>...</td>\n      <td>...</td>\n      <td>...</td>\n      <td>...</td>\n      <td>...</td>\n      <td>...</td>\n      <td>...</td>\n      <td>...</td>\n      <td>...</td>\n      <td>...</td>\n      <td>...</td>\n    </tr>\n    <tr>\n      <th>112315</th>\n      <td>2020-08-17 19:00:00</td>\n      <td>60</td>\n      <td>4261.248</td>\n      <td>28.0</td>\n      <td>1.2</td>\n      <td>81.0</td>\n      <td>0</td>\n      <td>0.9</td>\n      <td>1.0</td>\n      <td>1.0</td>\n      <td>19</td>\n      <td>0</td>\n      <td>0</td>\n      <td>30.246570</td>\n      <td>79.85020</td>\n    </tr>\n    <tr>\n      <th>112316</th>\n      <td>2020-08-17 20:00:00</td>\n      <td>60</td>\n      <td>4202.064</td>\n      <td>26.8</td>\n      <td>2.1</td>\n      <td>86.0</td>\n      <td>0</td>\n      <td>0.0</td>\n      <td>1.0</td>\n      <td>1.0</td>\n      <td>20</td>\n      <td>0</td>\n      <td>0</td>\n      <td>28.944840</td>\n      <td>78.52752</td>\n    </tr>\n    <tr>\n      <th>112317</th>\n      <td>2020-08-17 21:00:00</td>\n      <td>60</td>\n      <td>4036.608</td>\n      <td>26.0</td>\n      <td>2.1</td>\n      <td>92.0</td>\n      <td>0</td>\n      <td>0.0</td>\n      <td>1.0</td>\n      <td>1.0</td>\n      <td>21</td>\n      <td>0</td>\n      <td>0</td>\n      <td>28.093099</td>\n      <td>77.88480</td>\n    </tr>\n    <tr>\n      <th>112318</th>\n      <td>2020-08-17 22:00:00</td>\n      <td>60</td>\n      <td>3850.416</td>\n      <td>25.8</td>\n      <td>1.0</td>\n      <td>87.0</td>\n      <td>0</td>\n      <td>0.0</td>\n      <td>1.0</td>\n      <td>1.0</td>\n      <td>22</td>\n      <td>0</td>\n      <td>0</td>\n      <td>28.014400</td>\n      <td>76.97854</td>\n    </tr>\n    <tr>\n      <th>112319</th>\n      <td>2020-08-17 23:00:00</td>\n      <td>60</td>\n      <td>3297.888</td>\n      <td>25.6</td>\n      <td>1.3</td>\n      <td>84.0</td>\n      <td>0</td>\n      <td>0.0</td>\n      <td>1.0</td>\n      <td>1.0</td>\n      <td>23</td>\n      <td>0</td>\n      <td>0</td>\n      <td>27.761846</td>\n      <td>76.31296</td>\n    </tr>\n  </tbody>\n</table>\n<p>112320 rows × 15 columns</p>\n</div>"
     },
     "metadata": {},
     "execution_count": 83
    }
   ],
   "source": [
    "train_time.merge(train, how='inner', on=['num', 'date_time'])"
   ]
  },
  {
   "cell_type": "code",
   "execution_count": 61,
   "metadata": {},
   "outputs": [
    {
     "output_type": "execute_result",
     "data": {
      "text/plain": [
       "0       2020-08-18 00:00:00\n",
       "1       2020-08-18 01:00:00\n",
       "2       2020-08-18 02:00:00\n",
       "3       2020-08-18 03:00:00\n",
       "4       2020-08-18 04:00:00\n",
       "                ...        \n",
       "10075   2020-08-24 19:00:00\n",
       "10076   2020-08-24 20:00:00\n",
       "10077   2020-08-24 21:00:00\n",
       "10078   2020-08-24 22:00:00\n",
       "10079   2020-08-24 23:00:00\n",
       "Name: date_time, Length: 10080, dtype: datetime64[ns]"
      ]
     },
     "metadata": {},
     "execution_count": 61
    }
   ],
   "source": [
    "test_time"
   ]
  },
  {
   "cell_type": "code",
   "execution_count": null,
   "metadata": {},
   "outputs": [],
   "source": []
  },
  {
   "cell_type": "code",
   "execution_count": null,
   "metadata": {},
   "outputs": [],
   "source": []
  },
  {
   "cell_type": "code",
   "execution_count": null,
   "metadata": {},
   "outputs": [],
   "source": []
  },
  {
   "cell_type": "code",
   "execution_count": null,
   "metadata": {},
   "outputs": [],
   "source": []
  },
  {
   "cell_type": "code",
   "execution_count": 7,
   "metadata": {},
   "outputs": [],
   "source": [
    "# cluster_df = train['전력사용량(kWh)'].values.reshape(60, -1)\n",
    "\n",
    "# inertia_arr = []\n",
    "# k_arr = range(2, 11)\n",
    "\n",
    "# for k in k_arr:\n",
    "#     kmeans = KMeans(n_clusters=k, init='k-means++', random_state=0)\n",
    "#     kmeans.fit(cluster_df)\n",
    "#     interia = kmeans.inertia_\n",
    "    \n",
    "#     print('k: {0}, inertia : {1:.4f}'.format(k, interia))\n",
    "#     inertia_arr.append(interia)\n",
    "\n",
    "# plt.plot(k_arr, inertia_arr)\n",
    "# plt.xlabel('k')\n",
    "# plt.ylabel('inertia')"
   ]
  },
  {
   "cell_type": "markdown",
   "metadata": {},
   "source": [
    "**2040 = 85 * 24**"
   ]
  },
  {
   "cell_type": "markdown",
   "metadata": {},
   "source": [
    "일자별 클러스터"
   ]
  },
  {
   "cell_type": "code",
   "execution_count": 14,
   "metadata": {},
   "outputs": [],
   "source": [
    "# #num_hour_cluster군집화, 건물별 insert\n",
    "\n",
    "# train_cluster_df = train['전력사용량(kWh)'].values.reshape(60, -1)\n",
    "\n",
    "# kmeans = KMeans(n_clusters=10, init='k-means++', random_state=0)\n",
    "# kmeans.fit(train_cluster_df)\n",
    "# clusters = kmeans.predict(train_cluster_df)\n",
    "\n",
    "# num_hour_df['num_hour_assignment'] = clusters\n",
    "# train = train.merge(num_hour_df, how='left', on='num')\n",
    "# test = test.merge(num_hour_df, how='left', on='num')"
   ]
  }
 ],
 "metadata": {
  "kernelspec": {
   "name": "python385jvsc74a57bd0dca0ade3e726a953b501b15e8e990130d2b7799f14cfd9f4271676035ebe5511",
   "display_name": "Python 3.8.5 64-bit ('base': conda)"
  },
  "language_info": {
   "codemirror_mode": {
    "name": "ipython",
    "version": 3
   },
   "file_extension": ".py",
   "mimetype": "text/x-python",
   "name": "python",
   "nbconvert_exporter": "python",
   "pygments_lexer": "ipython3",
   "version": "3.8.5"
  },
  "metadata": {
   "interpreter": {
    "hash": "dca0ade3e726a953b501b15e8e990130d2b7799f14cfd9f4271676035ebe5511"
   }
  }
 },
 "nbformat": 4,
 "nbformat_minor": 4
}