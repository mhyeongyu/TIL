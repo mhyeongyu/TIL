{
 "cells": [
  {
   "cell_type": "code",
   "execution_count": 1,
   "metadata": {},
   "outputs": [],
   "source": [
    "import math\n",
    "import numpy as np\n",
    "import pandas as pd\n",
    "import warnings\n",
    "warnings.filterwarnings('ignore')\n",
    "import matplotlib.pyplot as plt\n",
    "import seaborn as sns\n",
    "\n",
    "from sklearn.cluster import KMeans"
   ]
  },
  {
   "cell_type": "code",
   "execution_count": 2,
   "metadata": {},
   "outputs": [],
   "source": [
    "train=pd.read_csv('energy/train.csv', encoding='cp949')\n",
    "test=pd.read_csv('energy/test.csv', encoding='cp949')\n",
    "submission=pd.read_csv('energy/sample_submission.csv', encoding='cp949')"
   ]
  },
  {
   "cell_type": "code",
   "execution_count": 3,
   "metadata": {},
   "outputs": [],
   "source": [
    "train[['num', '비전기냉방설비운영','태양광보유']]\n",
    "ice={}\n",
    "hot={}\n",
    "count=0\n",
    "for i in range(0, len(train), len(train)//60):\n",
    "    count +=1\n",
    "    ice[count]=train.loc[i,'비전기냉방설비운영']\n",
    "    hot[count]=train.loc[i,'태양광보유']\n",
    "    \n",
    "for i in range(len(test)):\n",
    "    test.loc[i, '비전기냉방설비운영']=ice[test['num'][i]]\n",
    "    test.loc[i, '태양광보유']=hot[test['num'][i]]"
   ]
  },
  {
   "cell_type": "code",
   "execution_count": 4,
   "metadata": {},
   "outputs": [],
   "source": [
    "def time(x):\n",
    "    return int(x[-2:])\n",
    "train['hour']=train['date_time'].apply(lambda x: time(x))\n",
    "test['hour']=test['date_time'].apply(lambda x: time(x))\n",
    "\n",
    "def weekday(x):\n",
    "    return pd.to_datetime(x[:10]).weekday()\n",
    "train['weekday']=train['date_time'].apply(lambda x :weekday(x))\n",
    "test['weekday']=test['date_time'].apply(lambda x :weekday(x))"
   ]
  },
  {
   "cell_type": "code",
   "execution_count": 5,
   "metadata": {},
   "outputs": [],
   "source": [
    "test.interpolate(method='values', inplace=True)"
   ]
  },
  {
   "cell_type": "code",
   "execution_count": 6,
   "metadata": {},
   "outputs": [],
   "source": [
    "train['date_time'] = pd.to_datetime(train['date_time'].apply(lambda x: str(x)+':00'))\n",
    "test['date_time'] = pd.to_datetime(test['date_time'].apply(lambda x: str(x)+':00'))"
   ]
  },
  {
   "cell_type": "code",
   "execution_count": 7,
   "metadata": {},
   "outputs": [
    {
     "name": "stdout",
     "output_type": "stream",
     "text": [
      "k: 2, inertia : 141731596052.6865\n",
      "k: 3, inertia : 93263968980.8303\n",
      "k: 4, inertia : 67366933376.6103\n",
      "k: 5, inertia : 56459648679.0319\n",
      "k: 6, inertia : 47063655777.2855\n",
      "k: 7, inertia : 40041384909.0536\n",
      "k: 8, inertia : 32744351078.3215\n",
      "k: 9, inertia : 27965201748.6183\n",
      "k: 10, inertia : 24313672662.1185\n"
     ]
    },
    {
     "data": {
      "text/plain": [
       "Text(0, 0.5, 'inertia')"
      ]
     },
     "execution_count": 7,
     "metadata": {},
     "output_type": "execute_result"
    },
    {
     "data": {
      "image/png": "[encoded data removed]",
      "text/plain": [
       "<Figure size 432x288 with 1 Axes>"
      ]
     },
     "metadata": {
      "needs_background": "light"
     },
     "output_type": "display_data"
    }
   ],
   "source": [
    "cluster_df = train['전력사용량(kWh)'].values.reshape(60, -1)\n",
    "\n",
    "inertia_arr = []\n",
    "k_arr = range(2, 11)\n",
    "\n",
    "for k in k_arr:\n",
    "    kmeans = KMeans(n_clusters=k, init='k-means++', random_state=0)\n",
    "    kmeans.fit(cluster_df)\n",
    "    interia = kmeans.inertia_\n",
    "    \n",
    "    print('k: {0}, inertia : {1:.4f}'.format(k, interia))\n",
    "    inertia_arr.append(interia)\n",
    "\n",
    "plt.plot(k_arr, inertia_arr)\n",
    "plt.xlabel('k')\n",
    "plt.ylabel('inertia')"
   ]
  },
  {
   "cell_type": "code",
   "execution_count": 8,
   "metadata": {},
   "outputs": [
    {
     "data": {
      "text/html": [
       "<div>\n",
       "<style scoped>\n",
       "    .dataframe tbody tr th:only-of-type {\n",
       "        vertical-align: middle;\n",
       "    }\n",
       "\n",
       "    .dataframe tbody tr th {\n",
       "        vertical-align: top;\n",
       "    }\n",
       "\n",
       "    .dataframe thead th {\n",
       "        text-align: right;\n",
       "    }\n",
       "</style>\n",
       "<table border=\"1\" class=\"dataframe\">\n",
       "  <thead>\n",
       "    <tr style=\"text-align: right;\">\n",
       "      <th></th>\n",
       "      <th>num</th>\n",
       "      <th>전력사용량(kWh)</th>\n",
       "    </tr>\n",
       "  </thead>\n",
       "  <tbody>\n",
       "    <tr>\n",
       "      <th>0</th>\n",
       "      <td>1</td>\n",
       "      <td>8179.056</td>\n",
       "    </tr>\n",
       "    <tr>\n",
       "      <th>1</th>\n",
       "      <td>1</td>\n",
       "      <td>8135.640</td>\n",
       "    </tr>\n",
       "    <tr>\n",
       "      <th>2</th>\n",
       "      <td>1</td>\n",
       "      <td>8107.128</td>\n",
       "    </tr>\n",
       "    <tr>\n",
       "      <th>3</th>\n",
       "      <td>1</td>\n",
       "      <td>8048.808</td>\n",
       "    </tr>\n",
       "    <tr>\n",
       "      <th>4</th>\n",
       "      <td>1</td>\n",
       "      <td>8043.624</td>\n",
       "    </tr>\n",
       "    <tr>\n",
       "      <th>...</th>\n",
       "      <td>...</td>\n",
       "      <td>...</td>\n",
       "    </tr>\n",
       "    <tr>\n",
       "      <th>122395</th>\n",
       "      <td>60</td>\n",
       "      <td>4114.368</td>\n",
       "    </tr>\n",
       "    <tr>\n",
       "      <th>122396</th>\n",
       "      <td>60</td>\n",
       "      <td>3975.696</td>\n",
       "    </tr>\n",
       "    <tr>\n",
       "      <th>122397</th>\n",
       "      <td>60</td>\n",
       "      <td>3572.208</td>\n",
       "    </tr>\n",
       "    <tr>\n",
       "      <th>122398</th>\n",
       "      <td>60</td>\n",
       "      <td>3299.184</td>\n",
       "    </tr>\n",
       "    <tr>\n",
       "      <th>122399</th>\n",
       "      <td>60</td>\n",
       "      <td>3204.576</td>\n",
       "    </tr>\n",
       "  </tbody>\n",
       "</table>\n",
       "<p>122400 rows × 2 columns</p>\n",
       "</div>"
      ],
      "text/plain": [
       "        num  전력사용량(kWh)\n",
       "0         1    8179.056\n",
       "1         1    8135.640\n",
       "2         1    8107.128\n",
       "3         1    8048.808\n",
       "4         1    8043.624\n",
       "...     ...         ...\n",
       "122395   60    4114.368\n",
       "122396   60    3975.696\n",
       "122397   60    3572.208\n",
       "122398   60    3299.184\n",
       "122399   60    3204.576\n",
       "\n",
       "[122400 rows x 2 columns]"
      ]
     },
     "execution_count": 8,
     "metadata": {},
     "output_type": "execute_result"
    }
   ],
   "source": [
    "cluster_df = train.iloc[:, :3].drop('date_time', axis=1)\n",
    "cluster_df"
   ]
  },
  {
   "cell_type": "markdown",
   "metadata": {},
   "source": [
    "**2040 = 85 * 24**"
   ]
  },
  {
   "cell_type": "markdown",
   "metadata": {},
   "source": [
    "일자별 클러스터"
   ]
  },
  {
   "cell_type": "code",
   "execution_count": 9,
   "metadata": {
    "scrolled": true
   },
   "outputs": [],
   "source": [
    "hour_df = pd.DataFrame(train.hour.unique(), columns=['hour'])\n",
    "num_df = pd.DataFrame(train.num.unique(), columns=['num'])\n",
    "num_hour_df = pd.DataFrame(train.num.unique(), columns=['num'])"
   ]
  },
  {
   "cell_type": "code",
   "execution_count": 10,
   "metadata": {},
   "outputs": [],
   "source": [
    "#feature = time, 시간별 insert\n",
    "\n",
    "hour_cluster = pd.DataFrame(np.array(train.groupby(['date_time']).mean().iloc[:,1]).reshape(-1, 24).T)\n",
    "\n",
    "kmeans = KMeans(n_clusters=10, init='k-means++', random_state=0)\n",
    "kmeans.fit(hour_cluster)\n",
    "clusters = kmeans.predict(hour_cluster)\n",
    "\n",
    "hour_df['hour_assignment'] = clusters\n",
    "train = train.merge(hour_df, how='left', on='hour')\n",
    "test = test.merge(hour_df, how='left', on='hour')"
   ]
  },
  {
   "cell_type": "code",
   "execution_count": 11,
   "metadata": {
    "scrolled": false
   },
   "outputs": [],
   "source": [
    "#feature = num, 건물별 insert\n",
    "\n",
    "num_cluster = pd.DataFrame(np.array(cluster_df.iloc[:, 1]).reshape(-1, 2040), index=range(1, 61))\n",
    "\n",
    "kmeans = KMeans(n_clusters=10, init='k-means++', random_state=0)\n",
    "kmeans.fit(num_cluster)\n",
    "clusters = kmeans.predict(num_cluster)\n",
    "clusters\n",
    "\n",
    "num_df['num_assignment'] = clusters\n",
    "train = train.merge(num_df, how='left', on='num')\n",
    "test = test.merge(num_df, how='left', on='num')"
   ]
  },
  {
   "cell_type": "code",
   "execution_count": 12,
   "metadata": {},
   "outputs": [],
   "source": [
    "# #num_hour_cluster군집화, 건물별 insert\n",
    "\n",
    "# train_cluster_df = train['전력사용량(kWh)'].values.reshape(60, -1)\n",
    "\n",
    "# kmeans = KMeans(n_clusters=10, init='k-means++', random_state=0)\n",
    "# kmeans.fit(train_cluster_df)\n",
    "# clusters = kmeans.predict(train_cluster_df)\n",
    "\n",
    "# num_hour_df['num_hour_assignment'] = clusters\n",
    "# train = train.merge(num_hour_df, how='left', on='num')\n",
    "# test = test.merge(num_hour_df, how='left', on='num')"
   ]
  },
  {
   "cell_type": "code",
   "execution_count": 13,
   "metadata": {},
   "outputs": [],
   "source": [
    "#휴일여부\n",
    "\n",
    "def holiday(x):\n",
    "    if str(x.date()) == '2020-06-06':\n",
    "        return 1\n",
    "    elif str(x.date()) == '2020-08-15':\n",
    "        return 1\n",
    "    elif x.weekday() == 5 or x.weekday() == 6:\n",
    "        return 1\n",
    "    else: \n",
    "        return 0\n",
    "\n",
    "train['holiday'] = train['date_time'].apply(lambda x: holiday(x))\n",
    "test['holiday'] = test['date_time'].apply(lambda x: holiday(x))"
   ]
  },
  {
   "cell_type": "code",
   "execution_count": 14,
   "metadata": {},
   "outputs": [],
   "source": [
    "#체감온도, 불쾌지수\n",
    "\n",
    "def get_pow(series):\n",
    "    return math.pow(series, 0.15)\n",
    "\n",
    "train['perceived_temperature'] = 13.12 + 0.6215*train['기온(°C)'] - 11.37*train['풍속(m/s)'].apply(get_pow) + 0.3965*train['풍속(m/s)'].apply(get_pow)*train['기온(°C)']\n",
    "train['discomfort_index'] = 1.8*train['기온(°C)'] - 0.55*(1-train['습도(%)']/100)*(1.8*train['기온(°C)']-26) + 32\n",
    "\n",
    "test['perceived_temperature'] = 13.12 + 0.6215*test['기온(°C)'] - 11.37*test['풍속(m/s)'].apply(get_pow) + 0.3965*test['풍속(m/s)'].apply(get_pow)*test['기온(°C)']\n",
    "test['discomfort_index'] = 1.8*test['기온(°C)'] - 0.55*(1-test['습도(%)']/100)*(1.8*test['기온(°C)']-26) + 32"
   ]
  },
  {
   "cell_type": "code",
   "execution_count": 15,
   "metadata": {},
   "outputs": [
    {
     "data": {
      "text/html": [
       "<div>\n",
       "<style scoped>\n",
       "    .dataframe tbody tr th:only-of-type {\n",
       "        vertical-align: middle;\n",
       "    }\n",
       "\n",
       "    .dataframe tbody tr th {\n",
       "        vertical-align: top;\n",
       "    }\n",
       "\n",
       "    .dataframe thead th {\n",
       "        text-align: right;\n",
       "    }\n",
       "</style>\n",
       "<table border=\"1\" class=\"dataframe\">\n",
       "  <thead>\n",
       "    <tr style=\"text-align: right;\">\n",
       "      <th></th>\n",
       "      <th>num</th>\n",
       "      <th>date_time</th>\n",
       "      <th>전력사용량(kWh)</th>\n",
       "      <th>기온(°C)</th>\n",
       "      <th>풍속(m/s)</th>\n",
       "      <th>습도(%)</th>\n",
       "      <th>강수량(mm)</th>\n",
       "      <th>일조(hr)</th>\n",
       "      <th>비전기냉방설비운영</th>\n",
       "      <th>태양광보유</th>\n",
       "      <th>hour</th>\n",
       "      <th>weekday</th>\n",
       "      <th>hour_assignment</th>\n",
       "      <th>num_assignment</th>\n",
       "      <th>holiday</th>\n",
       "      <th>perceived_temperature</th>\n",
       "      <th>discomfort_index</th>\n",
       "    </tr>\n",
       "  </thead>\n",
       "  <tbody>\n",
       "    <tr>\n",
       "      <th>0</th>\n",
       "      <td>1</td>\n",
       "      <td>2020-06-01 00:00:00</td>\n",
       "      <td>8179.056</td>\n",
       "      <td>17.6</td>\n",
       "      <td>2.5</td>\n",
       "      <td>92.0</td>\n",
       "      <td>0.8</td>\n",
       "      <td>0.0</td>\n",
       "      <td>0.0</td>\n",
       "      <td>0.0</td>\n",
       "      <td>0</td>\n",
       "      <td>0</td>\n",
       "      <td>1</td>\n",
       "      <td>1</td>\n",
       "      <td>0</td>\n",
       "      <td>19.019755</td>\n",
       "      <td>63.43008</td>\n",
       "    </tr>\n",
       "    <tr>\n",
       "      <th>1</th>\n",
       "      <td>1</td>\n",
       "      <td>2020-06-01 01:00:00</td>\n",
       "      <td>8135.640</td>\n",
       "      <td>17.7</td>\n",
       "      <td>2.9</td>\n",
       "      <td>91.0</td>\n",
       "      <td>0.3</td>\n",
       "      <td>0.0</td>\n",
       "      <td>0.0</td>\n",
       "      <td>0.0</td>\n",
       "      <td>1</td>\n",
       "      <td>0</td>\n",
       "      <td>3</td>\n",
       "      <td>1</td>\n",
       "      <td>0</td>\n",
       "      <td>19.014988</td>\n",
       "      <td>63.56993</td>\n",
       "    </tr>\n",
       "    <tr>\n",
       "      <th>2</th>\n",
       "      <td>1</td>\n",
       "      <td>2020-06-01 02:00:00</td>\n",
       "      <td>8107.128</td>\n",
       "      <td>17.5</td>\n",
       "      <td>3.2</td>\n",
       "      <td>91.0</td>\n",
       "      <td>0.0</td>\n",
       "      <td>0.0</td>\n",
       "      <td>0.0</td>\n",
       "      <td>0.0</td>\n",
       "      <td>2</td>\n",
       "      <td>0</td>\n",
       "      <td>3</td>\n",
       "      <td>1</td>\n",
       "      <td>0</td>\n",
       "      <td>18.720323</td>\n",
       "      <td>63.22775</td>\n",
       "    </tr>\n",
       "    <tr>\n",
       "      <th>3</th>\n",
       "      <td>1</td>\n",
       "      <td>2020-06-01 03:00:00</td>\n",
       "      <td>8048.808</td>\n",
       "      <td>17.1</td>\n",
       "      <td>3.2</td>\n",
       "      <td>91.0</td>\n",
       "      <td>0.0</td>\n",
       "      <td>0.0</td>\n",
       "      <td>0.0</td>\n",
       "      <td>0.0</td>\n",
       "      <td>3</td>\n",
       "      <td>0</td>\n",
       "      <td>3</td>\n",
       "      <td>1</td>\n",
       "      <td>0</td>\n",
       "      <td>18.282891</td>\n",
       "      <td>62.54339</td>\n",
       "    </tr>\n",
       "    <tr>\n",
       "      <th>4</th>\n",
       "      <td>1</td>\n",
       "      <td>2020-06-01 04:00:00</td>\n",
       "      <td>8043.624</td>\n",
       "      <td>17.0</td>\n",
       "      <td>3.3</td>\n",
       "      <td>92.0</td>\n",
       "      <td>0.0</td>\n",
       "      <td>0.0</td>\n",
       "      <td>0.0</td>\n",
       "      <td>0.0</td>\n",
       "      <td>4</td>\n",
       "      <td>0</td>\n",
       "      <td>3</td>\n",
       "      <td>1</td>\n",
       "      <td>0</td>\n",
       "      <td>18.148033</td>\n",
       "      <td>62.39760</td>\n",
       "    </tr>\n",
       "  </tbody>\n",
       "</table>\n",
       "</div>"
      ],
      "text/plain": [
       "   num           date_time  전력사용량(kWh)  기온(°C)  풍속(m/s)  습도(%)  강수량(mm)  \\\n",
       "0    1 2020-06-01 00:00:00    8179.056    17.6      2.5   92.0      0.8   \n",
       "1    1 2020-06-01 01:00:00    8135.640    17.7      2.9   91.0      0.3   \n",
       "2    1 2020-06-01 02:00:00    8107.128    17.5      3.2   91.0      0.0   \n",
       "3    1 2020-06-01 03:00:00    8048.808    17.1      3.2   91.0      0.0   \n",
       "4    1 2020-06-01 04:00:00    8043.624    17.0      3.3   92.0      0.0   \n",
       "\n",
       "   일조(hr)  비전기냉방설비운영  태양광보유  hour  weekday  hour_assignment  num_assignment  \\\n",
       "0     0.0        0.0    0.0     0        0                1               1   \n",
       "1     0.0        0.0    0.0     1        0                3               1   \n",
       "2     0.0        0.0    0.0     2        0                3               1   \n",
       "3     0.0        0.0    0.0     3        0                3               1   \n",
       "4     0.0        0.0    0.0     4        0                3               1   \n",
       "\n",
       "   holiday  perceived_temperature  discomfort_index  \n",
       "0        0              19.019755          63.43008  \n",
       "1        0              19.014988          63.56993  \n",
       "2        0              18.720323          63.22775  \n",
       "3        0              18.282891          62.54339  \n",
       "4        0              18.148033          62.39760  "
      ]
     },
     "execution_count": 15,
     "metadata": {},
     "output_type": "execute_result"
    }
   ],
   "source": [
    "train.head()"
   ]
  },
  {
   "cell_type": "code",
   "execution_count": 16,
   "metadata": {},
   "outputs": [
    {
     "data": {
      "text/html": [
       "<div>\n",
       "<style scoped>\n",
       "    .dataframe tbody tr th:only-of-type {\n",
       "        vertical-align: middle;\n",
       "    }\n",
       "\n",
       "    .dataframe tbody tr th {\n",
       "        vertical-align: top;\n",
       "    }\n",
       "\n",
       "    .dataframe thead th {\n",
       "        text-align: right;\n",
       "    }\n",
       "</style>\n",
       "<table border=\"1\" class=\"dataframe\">\n",
       "  <thead>\n",
       "    <tr style=\"text-align: right;\">\n",
       "      <th></th>\n",
       "      <th>num</th>\n",
       "      <th>date_time</th>\n",
       "      <th>기온(°C)</th>\n",
       "      <th>풍속(m/s)</th>\n",
       "      <th>습도(%)</th>\n",
       "      <th>강수량(mm, 6시간)</th>\n",
       "      <th>일조(hr, 3시간)</th>\n",
       "      <th>비전기냉방설비운영</th>\n",
       "      <th>태양광보유</th>\n",
       "      <th>hour</th>\n",
       "      <th>weekday</th>\n",
       "      <th>hour_assignment</th>\n",
       "      <th>num_assignment</th>\n",
       "      <th>holiday</th>\n",
       "      <th>perceived_temperature</th>\n",
       "      <th>discomfort_index</th>\n",
       "    </tr>\n",
       "  </thead>\n",
       "  <tbody>\n",
       "    <tr>\n",
       "      <th>0</th>\n",
       "      <td>1</td>\n",
       "      <td>2020-08-25 00:00:00</td>\n",
       "      <td>27.800000</td>\n",
       "      <td>1.500000</td>\n",
       "      <td>74.000000</td>\n",
       "      <td>0.0</td>\n",
       "      <td>0.0</td>\n",
       "      <td>0.0</td>\n",
       "      <td>0.0</td>\n",
       "      <td>0</td>\n",
       "      <td>1</td>\n",
       "      <td>1</td>\n",
       "      <td>1</td>\n",
       "      <td>0</td>\n",
       "      <td>30.028622</td>\n",
       "      <td>78.602280</td>\n",
       "    </tr>\n",
       "    <tr>\n",
       "      <th>1</th>\n",
       "      <td>1</td>\n",
       "      <td>2020-08-25 01:00:00</td>\n",
       "      <td>27.633333</td>\n",
       "      <td>1.366667</td>\n",
       "      <td>75.333333</td>\n",
       "      <td>0.0</td>\n",
       "      <td>0.0</td>\n",
       "      <td>0.0</td>\n",
       "      <td>0.0</td>\n",
       "      <td>1</td>\n",
       "      <td>1</td>\n",
       "      <td>3</td>\n",
       "      <td>1</td>\n",
       "      <td>0</td>\n",
       "      <td>29.860903</td>\n",
       "      <td>78.519273</td>\n",
       "    </tr>\n",
       "    <tr>\n",
       "      <th>2</th>\n",
       "      <td>1</td>\n",
       "      <td>2020-08-25 02:00:00</td>\n",
       "      <td>27.466667</td>\n",
       "      <td>1.233333</td>\n",
       "      <td>76.666667</td>\n",
       "      <td>0.0</td>\n",
       "      <td>0.0</td>\n",
       "      <td>0.0</td>\n",
       "      <td>0.0</td>\n",
       "      <td>2</td>\n",
       "      <td>1</td>\n",
       "      <td>3</td>\n",
       "      <td>1</td>\n",
       "      <td>0</td>\n",
       "      <td>29.695744</td>\n",
       "      <td>78.431867</td>\n",
       "    </tr>\n",
       "    <tr>\n",
       "      <th>3</th>\n",
       "      <td>1</td>\n",
       "      <td>2020-08-25 03:00:00</td>\n",
       "      <td>27.300000</td>\n",
       "      <td>1.100000</td>\n",
       "      <td>78.000000</td>\n",
       "      <td>0.0</td>\n",
       "      <td>0.0</td>\n",
       "      <td>0.0</td>\n",
       "      <td>0.0</td>\n",
       "      <td>3</td>\n",
       "      <td>1</td>\n",
       "      <td>3</td>\n",
       "      <td>1</td>\n",
       "      <td>0</td>\n",
       "      <td>29.533545</td>\n",
       "      <td>78.340060</td>\n",
       "    </tr>\n",
       "    <tr>\n",
       "      <th>4</th>\n",
       "      <td>1</td>\n",
       "      <td>2020-08-25 04:00:00</td>\n",
       "      <td>26.900000</td>\n",
       "      <td>1.166667</td>\n",
       "      <td>79.666667</td>\n",
       "      <td>0.0</td>\n",
       "      <td>0.0</td>\n",
       "      <td>0.0</td>\n",
       "      <td>0.0</td>\n",
       "      <td>4</td>\n",
       "      <td>1</td>\n",
       "      <td>3</td>\n",
       "      <td>1</td>\n",
       "      <td>0</td>\n",
       "      <td>29.117729</td>\n",
       "      <td>77.912697</td>\n",
       "    </tr>\n",
       "  </tbody>\n",
       "</table>\n",
       "</div>"
      ],
      "text/plain": [
       "   num           date_time     기온(°C)   풍속(m/s)      습도(%)  강수량(mm, 6시간)  \\\n",
       "0    1 2020-08-25 00:00:00  27.800000  1.500000  74.000000           0.0   \n",
       "1    1 2020-08-25 01:00:00  27.633333  1.366667  75.333333           0.0   \n",
       "2    1 2020-08-25 02:00:00  27.466667  1.233333  76.666667           0.0   \n",
       "3    1 2020-08-25 03:00:00  27.300000  1.100000  78.000000           0.0   \n",
       "4    1 2020-08-25 04:00:00  26.900000  1.166667  79.666667           0.0   \n",
       "\n",
       "   일조(hr, 3시간)  비전기냉방설비운영  태양광보유  hour  weekday  hour_assignment  \\\n",
       "0          0.0        0.0    0.0     0        1                1   \n",
       "1          0.0        0.0    0.0     1        1                3   \n",
       "2          0.0        0.0    0.0     2        1                3   \n",
       "3          0.0        0.0    0.0     3        1                3   \n",
       "4          0.0        0.0    0.0     4        1                3   \n",
       "\n",
       "   num_assignment  holiday  perceived_temperature  discomfort_index  \n",
       "0               1        0              30.028622         78.602280  \n",
       "1               1        0              29.860903         78.519273  \n",
       "2               1        0              29.695744         78.431867  \n",
       "3               1        0              29.533545         78.340060  \n",
       "4               1        0              29.117729         77.912697  "
      ]
     },
     "execution_count": 16,
     "metadata": {},
     "output_type": "execute_result"
    }
   ],
   "source": [
    "test.head()"
   ]
  },
  {
   "cell_type": "code",
   "execution_count": 17,
   "metadata": {},
   "outputs": [],
   "source": [
    "train.to_csv('edit_train.csv', index=False)\n",
    "test.to_csv('edit_test.csv', index=False)"
   ]
  },
  {
   "cell_type": "code",
   "execution_count": 18,
   "metadata": {},
   "outputs": [
    {
     "data": {
      "text/plain": [
       "<AxesSubplot:xlabel='전력사용량(kWh)', ylabel='Density'>"
      ]
     },
     "execution_count": 18,
     "metadata": {},
     "output_type": "execute_result"
    },
    {
     "data": {
      "image/png": "[encoded data removed]",
      "text/plain": [
       "<Figure size 432x288 with 1 Axes>"
      ]
     },
     "metadata": {
      "needs_background": "light"
     },
     "output_type": "display_data"
    }
   ],
   "source": [
    "sns.distplot(train.iloc[:, 2])"
   ]
  },
  {
   "cell_type": "code",
   "execution_count": null,
   "metadata": {},
   "outputs": [],
   "source": []
  }
 ],
 "metadata": {
  "kernelspec": {
   "display_name": "Python 3",
   "language": "python",
   "name": "python3"
  },
  "language_info": {
   "codemirror_mode": {
    "name": "ipython",
    "version": 3
   },
   "file_extension": ".py",
   "mimetype": "text/x-python",
   "name": "python",
   "nbconvert_exporter": "python",
   "pygments_lexer": "ipython3",
   "version": "3.8.5"
  }
 },
 "nbformat": 4,
 "nbformat_minor": 4
}
