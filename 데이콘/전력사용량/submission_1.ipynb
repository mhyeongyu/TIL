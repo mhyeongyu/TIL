{
 "cells": [
  {
   "cell_type": "code",
   "execution_count": 1,
   "id": "a163be01",
   "metadata": {
    "id": "a163be01"
   },
   "outputs": [],
   "source": [
    "import math\n",
    "import warnings\n",
    "warnings.filterwarnings('ignore')\n",
    "import numpy as np\n",
    "import pandas as pd\n",
    "import seaborn as sns\n",
    "import matplotlib.pyplot as plt\n",
    "import plotly.express as px\n",
    "import plotly.figure_factory as ff\n",
    "\n",
    "from sklearn.model_selection import train_test_split\n",
    "from sklearn.decomposition import PCA\n",
    "from sklearn.cluster import KMeans\n",
    "from sklearn.preprocessing import MinMaxScaler, StandardScaler, RobustScaler\n",
    "from sklearn.model_selection import StratifiedKFold\n",
    "\n",
    "from sklearn.svm import SVR\n",
    "from sklearn.linear_model import ElasticNet, Lasso, Ridge\n",
    "from sklearn.neighbors import KNeighborsRegressor\n",
    "from sklearn.ensemble import RandomForestRegressor\n",
    "from lightgbm import LGBMRegressor\n",
    "from sklearn.metrics import silhouette_score, silhouette_samples, mean_squared_error, mean_absolute_error, r2_score"
   ]
  },
  {
   "cell_type": "code",
   "execution_count": 2,
   "id": "4f250df3",
   "metadata": {
    "id": "4f250df3"
   },
   "outputs": [],
   "source": [
    "# path = '/content/content/MyDrive/[ML DL] data/[Dacon]전력사용량 예측 AI 경진대회/'\n",
    "path = ''\n",
    "\n",
    "# train = pd.read_csv(path + 'Train_for_model.csv', encoding='utf-8')\n",
    "# train['date_time'] = pd.to_datetime(train['date_time'])\n",
    "# test = pd.read_csv(path + 'Test_for_model.csv', encoding='utf-8')\n",
    "# test['date_time'] = pd.to_datetime(test['date_time'])\n",
    "\n",
    "train = pd.read_csv(path + 'train.csv', encoding='cp949')\n",
    "train['date_time'] = pd.to_datetime(train['date_time'])\n",
    "test = pd.read_csv(path + 'test.csv', encoding='cp949')\n",
    "test['date_time'] = pd.to_datetime(test['date_time'])\n",
    "\n",
    "\n",
    "test = test.interpolate()"
   ]
  },
  {
   "cell_type": "code",
   "execution_count": 3,
   "id": "1fae13aa",
   "metadata": {},
   "outputs": [],
   "source": [
    "train_col_name = ['num', 'date_time', 'y', 'temp', 'wind', 'humidity', 'rain', 'sun', 'cold_system', 'sun_system']\n",
    "test_col_name = ['num', 'date_time', 'temp', 'wind', 'humidity', 'rain', 'sun', 'cold_system', 'sun_system']\n",
    "\n",
    "train = pd.DataFrame(train.values, columns=train_col_name)\n",
    "test = pd.DataFrame(test.values, columns=test_col_name)"
   ]
  },
  {
   "cell_type": "markdown",
   "id": "198cdfd4",
   "metadata": {},
   "source": [
    "## Preprocessing"
   ]
  },
  {
   "cell_type": "code",
   "execution_count": 4,
   "id": "a572b644",
   "metadata": {},
   "outputs": [],
   "source": [
    "train[['num', 'cold_system','sun_system']]\n",
    "ice={}\n",
    "hot={}\n",
    "count=0\n",
    "for i in range(0, len(train), len(train)//60):\n",
    "    count +=1\n",
    "    ice[count]=train.loc[i,'cold_system']\n",
    "    hot[count]=train.loc[i,'sun_system']\n",
    "\n",
    "for i in range(len(test)):\n",
    "    test.loc[i, 'cold_system']=ice[test['num'][i]]\n",
    "    test.loc[i, 'sun_system']=hot[test['num'][i]]"
   ]
  },
  {
   "cell_type": "code",
   "execution_count": 5,
   "id": "acd8e92f",
   "metadata": {},
   "outputs": [],
   "source": [
    "def get_pow(series):\n",
    "    return math.pow(series, 0.15)\n",
    "\n",
    "def holiday(x):\n",
    "    if x.weekday() == 5 or x.weekday() == 6:\n",
    "        return 1\n",
    "    elif str(x.date()) == '2020-08-17':\n",
    "        return 1\n",
    "    else: \n",
    "        return 0\n",
    "\n",
    "def preprocessing(df):\n",
    "    df['weekday'] = df.date_time.apply(lambda x: x.weekday())\n",
    "    df['hour'] = df.date_time.apply(lambda x: int(str(x.time())[:2]))\n",
    "    df['holiday'] = df['date_time'].apply(lambda x: holiday(x))\n",
    "    df['perceived_temperature'] = 13.12 + 0.6215*df['temp'] - 11.37*df['wind'].apply(get_pow) + 0.3965*df['wind'].apply(get_pow)*df['temp']\n",
    "    df['discomfort_index'] = 1.8*df['temp'] - 0.55*(1-df['humidity']/100)*(1.8*df['temp']-26) + 32\n",
    "#     df['monday'] = df['weekday'].apply(lambda x: 1 if x == 0 else 0)\n",
    "    df.loc[:, 'rain'] = df.loc[:, 'rain'].apply(lambda x: 0 if x == 0 else 1)\n",
    "    return df"
   ]
  },
  {
   "cell_type": "code",
   "execution_count": 6,
   "id": "caf19a79",
   "metadata": {},
   "outputs": [],
   "source": [
    "train = preprocessing(train)\n",
    "test = preprocessing(test)"
   ]
  },
  {
   "cell_type": "markdown",
   "id": "1eb7ca38",
   "metadata": {},
   "source": [
    "## Clustering"
   ]
  },
  {
   "cell_type": "code",
   "execution_count": 7,
   "id": "68fcc65b",
   "metadata": {},
   "outputs": [],
   "source": [
    "# def cluster_evaluate(cluster_df, n_cluster):\n",
    "#     dic = {}\n",
    "#     inertia_arr = []\n",
    "    \n",
    "#     scaler = StandardScaler()\n",
    "#     result = scaler.fit_transform(cluster_df)\n",
    "#     data_scaled = pd.DataFrame(result)\n",
    "    \n",
    "#     pca = PCA(n_components=2)\n",
    "#     result = pca.fit_transform(data_scaled)\n",
    "#     df = pd.DataFrame(result, columns=[\"x\", \"y\"])\n",
    "    \n",
    "#     print(f'\\nPCA explain: {np.sum(pca.explained_variance_ratio_):.4f}\\n')\n",
    "    \n",
    "#     scaler = StandardScaler()\n",
    "#     result = scaler.fit_transform(df)\n",
    "    \n",
    "#     markers = ['o', 's', '^', 'P']\n",
    "#     fig, axs = plt.subplots(figsize=(15,4), ncols=4)\n",
    "\n",
    "#     for ax, i in enumerate(n_cluster):\n",
    "#         df = pd.DataFrame(result, columns=[\"x\", \"y\"])\n",
    "        \n",
    "#         kmeans = KMeans(n_clusters=i, init='k-means++', random_state=0)\n",
    "#         kmeans.fit(result)\n",
    "        \n",
    "#         interia = kmeans.inertia_\n",
    "#         inertia_arr.append(interia)\n",
    "        \n",
    "#         pred_cluster = kmeans.predict(result)\n",
    "#         df['cluster_label'] = pred_cluster\n",
    "\n",
    "#         score_samples = silhouette_samples(result, df['cluster_label'])\n",
    "#         df['silhouette_coeff'] = score_samples\n",
    "\n",
    "#         mean_score = silhouette_score(result, df['cluster_label'])\n",
    "        \n",
    "#         cluster_unique = df['cluster_label'].unique()\n",
    "#         axs[ax].set_title('n_cluster: {}\\nSilhouette: {:.4f}'.format(i, mean_score))\n",
    "        \n",
    "#         for j in cluster_unique:\n",
    "#             cluster_target = df[df['cluster_label'] == j]\n",
    "#             axs[ax].scatter(cluster_target['x'], cluster_target['y'],\n",
    "#                             marker=markers[ax])\n",
    "        \n",
    "#         dic['kmeans'+str(i)] = df\n",
    "#     plt.figure(figsize=(10, 5))\n",
    "#     plt.plot(n_cluster, inertia_arr)\n",
    "#     plt.title('Elbow Method')\n",
    "#     plt.xlabel('k')\n",
    "#     plt.ylabel('inertia')\n",
    "    \n",
    "#     plt.show()\n",
    "    \n",
    "#     return dic"
   ]
  },
  {
   "cell_type": "code",
   "execution_count": 8,
   "id": "2d928d5e",
   "metadata": {
    "scrolled": false
   },
   "outputs": [],
   "source": [
    "# train_37 = train[train['num'] == 37]\n",
    "# y = train_37['y'].reset_index(drop=True)\n",
    "\n",
    "# knn_n_cluster = [3, 4, 5, 6]\n",
    "# hour_y = np.array(y).reshape(-1, 24).T\n",
    "\n",
    "# cluster_dic = cluster_evaluate(hour_y, knn_n_cluster)"
   ]
  },
  {
   "cell_type": "code",
   "execution_count": 9,
   "id": "67c7f3e7",
   "metadata": {},
   "outputs": [],
   "source": [
    "# cluster_num = cluster_dic['kmeans5']['cluster_label']\n",
    "\n",
    "# hour_df = pd.DataFrame(train.hour.unique(), columns=['hour'])\n",
    "# hour_df['cluster'] = cluster_num"
   ]
  },
  {
   "cell_type": "code",
   "execution_count": 10,
   "id": "532c9f6b",
   "metadata": {},
   "outputs": [],
   "source": [
    "# train = train.merge(hour_df, how='left', on='hour')\n",
    "# test = test.merge(hour_df, how='left', on='hour')"
   ]
  },
  {
   "cell_type": "code",
   "execution_count": 11,
   "id": "7da26c57",
   "metadata": {},
   "outputs": [],
   "source": [
    "# #군집별 가중치 부여\n",
    "\n",
    "# lst = []\n",
    "# p_lst = []\n",
    "\n",
    "# for i in range(5):\n",
    "#     m = train[(train['num'] == 37) & (train['cluster'] == i)]['y'].mean()\n",
    "#     lst.append(m)\n",
    "\n",
    "# for i in range(5):\n",
    "#     p = train[(train['num'] == 37) & (train['cluster'] == i)]['y'].mean() / np.sum(lst)\n",
    "#     p_lst.append(p)\n",
    "\n",
    "# train['cluster_weight'] = train.cluster.apply(lambda x: p_lst[x])\n",
    "# test['cluster_weight'] = test.cluster.apply(lambda x: p_lst[x])"
   ]
  },
  {
   "cell_type": "markdown",
   "id": "7375512b",
   "metadata": {},
   "source": [
    "## Train Test Split"
   ]
  },
  {
   "cell_type": "code",
   "execution_count": 12,
   "id": "a81fe831",
   "metadata": {},
   "outputs": [],
   "source": [
    "# def train_test_split(df):\n",
    "#     train_37 = df[df['num'] == 37]\n",
    "#     y = train_37['y'].reset_index(drop=True)\n",
    "#     X = train_37.drop(['date_time', 'y', 'num', 'cold_system', 'sun_system'], axis = 1).reset_index(drop=True)\n",
    "#     y = y.astype('float32')\n",
    "    \n",
    "#     return X, y"
   ]
  },
  {
   "cell_type": "code",
   "execution_count": 13,
   "id": "123661ef",
   "metadata": {},
   "outputs": [],
   "source": [
    "def feature_label_split(df):\n",
    "    y = df['y']\n",
    "    X = df.drop(['date_time', 'y'], axis = 1).reset_index(drop=True)\n",
    "    y = y.astype('float32')\n",
    "    \n",
    "    X_train, X_test, y_train, y_test = train_test_split(X, y, test_size=0.2, stratify=X['num'], random_state=37)\n",
    "    \n",
    "    return X_train, X_test, y_train, y_test"
   ]
  },
  {
   "cell_type": "code",
   "execution_count": 14,
   "id": "db7df5f9",
   "metadata": {},
   "outputs": [],
   "source": [
    "X_train, X_test, y_train, y_test = feature_label_split(train)"
   ]
  },
  {
   "cell_type": "code",
   "execution_count": 15,
   "id": "0bf0002a",
   "metadata": {},
   "outputs": [],
   "source": [
    "test = test.drop('date_time', axis=1)"
   ]
  },
  {
   "cell_type": "code",
   "execution_count": 16,
   "id": "79edc390",
   "metadata": {},
   "outputs": [],
   "source": [
    "def data_scaler(train_data, test_data, test):\n",
    "    scaler = StandardScaler()\n",
    "    scaler.fit(train_data.drop('num', axis=1))\n",
    "    X = scaler.transform(train_data.drop('num', axis=1))\n",
    "    X_test = scaler.transform(test_data.drop('num', axis=1))\n",
    "    scaled_test = scaler.transform(test.drop('num', axis=1))\n",
    "    \n",
    "    col_name = ['temp', 'wind', 'humidity', 'rain', 'sun', 'cold_system', 'sun_system', 'weekday', 'hour', 'holiday',\n",
    "                'perceived_temperature', 'discomfort_index']\n",
    "    \n",
    "    X = pd.DataFrame(X, columns=col_name)\n",
    "    X_test = pd.DataFrame(X_test, columns=col_name)\n",
    "    scaled_test = pd.DataFrame(scaled_test, columns=col_name)\n",
    "    \n",
    "\n",
    "    num_train = pd.DataFrame(train_data.num.values, columns=['num'])\n",
    "    num_test = pd.DataFrame(test_data.num.values, columns=['num'])\n",
    "    num_t = pd.DataFrame(test.num.values, columns=['num'])\n",
    "    \n",
    "    \n",
    "    num_train = num_train.astype('int')\n",
    "    num_test = num_test.astype('int')\n",
    "    num_t = num_t.astype('int')\n",
    "    \n",
    "    X = pd.concat([X, num_train], axis=1)\n",
    "    X_test = pd.concat([X_test, num_test], axis=1)\n",
    "    test = pd.concat([scaled_test, num_t], axis=1)\n",
    "\n",
    "    return X, X_test, test"
   ]
  },
  {
   "cell_type": "code",
   "execution_count": 17,
   "id": "9bef7030",
   "metadata": {},
   "outputs": [],
   "source": [
    "X_train, X_test, test = data_scaler(X_train, X_test, test)\n",
    "\n",
    "y_train = y_train.reset_index(drop=True)\n",
    "y_test = y_test.reset_index(drop=True)"
   ]
  },
  {
   "cell_type": "code",
   "execution_count": 18,
   "id": "88db862d",
   "metadata": {},
   "outputs": [],
   "source": [
    "def SMAPE(true, pred):\n",
    "    return np.mean((np.abs(true-pred))/(np.abs(true) + np.abs(pred)))*200"
   ]
  },
  {
   "cell_type": "markdown",
   "id": "1046f7d7",
   "metadata": {},
   "source": [
    "## Modeling"
   ]
  },
  {
   "cell_type": "code",
   "execution_count": 19,
   "id": "93dae2b4",
   "metadata": {},
   "outputs": [],
   "source": [
    "def evaluate(X_train, y_train, X_test, model, n_fold):\n",
    "    n_splits = n_fold\n",
    "    sfk = StratifiedKFold(n_splits = n_splits, random_state=37)\n",
    "    models = {}\n",
    "    \n",
    "    y_pred = np.zeros(len(X_test))\n",
    "    fold = 1\n",
    "\n",
    "    for tr_idx, val_idx in sfk.split(X_train, X_train['num']):\n",
    "        print('======== {}fold ========'.format(fold))\n",
    "        feature_train = X_train.iloc[tr_idx, :]\n",
    "        label_train = y_train[tr_idx]\n",
    "\n",
    "        feature_val = X_train.iloc[val_idx, :]\n",
    "        label_val = y_train[val_idx]\n",
    "        \n",
    "        model.fit(feature_train, label_train)\n",
    "        pred = model.predict(X_test)\n",
    "        \n",
    "        y_pred += pred / n_splits\n",
    "        \n",
    "        models[fold] = model\n",
    "        \n",
    "        print(f'''\\nMSE: {mean_squared_error(pred, y_test):.4f}\n",
    "MAE: {mean_absolute_error(pred, y_test):.4f}\n",
    "RMSE: {np.sqrt(mean_squared_error(pred, y_test)):.4f}\n",
    "SMAPE: {SMAPE(np.array(y_test), pred):.4f}\\n''')\n",
    "\n",
    "        fold += 1\n",
    "    plt.figure(figsize=(15,5))\n",
    "    plt.plot(y_test, 'k' ,label='True')\n",
    "    plt.plot(y_pred, '--g' ,label='Pred')\n",
    "    plt.title(f'\\nSMAPE: {SMAPE(np.array(y_test), pred):.4f}\\nR2_score: {r2_score(pred, y_test):.4f}\\n')\n",
    "    plt.legend()\n",
    "    plt.show()\n",
    "    \n",
    "    return models"
   ]
  },
  {
   "cell_type": "code",
   "execution_count": 20,
   "id": "9a6e8e07",
   "metadata": {
    "scrolled": true
   },
   "outputs": [
    {
     "name": "stdout",
     "output_type": "stream",
     "text": [
      "======== 1fold ========\n",
      "\n",
      "MSE: 34496.2749\n",
      "MAE: 94.7234\n",
      "RMSE: 185.7317\n",
      "SMAPE: 4.8299\n",
      "\n",
      "======== 2fold ========\n",
      "\n",
      "MSE: 33636.5494\n",
      "MAE: 94.1243\n",
      "RMSE: 183.4027\n",
      "SMAPE: 4.8091\n",
      "\n",
      "======== 3fold ========\n",
      "\n",
      "MSE: 33721.0863\n",
      "MAE: 94.0413\n",
      "RMSE: 183.6330\n",
      "SMAPE: 4.7985\n",
      "\n",
      "======== 4fold ========\n",
      "\n",
      "MSE: 33464.5686\n",
      "MAE: 94.3722\n",
      "RMSE: 182.9332\n",
      "SMAPE: 4.8335\n",
      "\n",
      "======== 5fold ========\n",
      "\n",
      "MSE: 33374.4198\n",
      "MAE: 93.9584\n",
      "RMSE: 182.6867\n",
      "SMAPE: 4.8010\n",
      "\n",
      "======== 6fold ========\n",
      "\n",
      "MSE: 33560.2059\n",
      "MAE: 94.4435\n",
      "RMSE: 183.1944\n",
      "SMAPE: 4.8253\n",
      "\n",
      "======== 7fold ========\n",
      "\n",
      "MSE: 33841.5125\n",
      "MAE: 94.5787\n",
      "RMSE: 183.9606\n",
      "SMAPE: 4.8344\n",
      "\n",
      "======== 8fold ========\n",
      "\n",
      "MSE: 33102.0476\n",
      "MAE: 93.9585\n",
      "RMSE: 181.9397\n",
      "SMAPE: 4.7931\n",
      "\n",
      "======== 9fold ========\n",
      "\n",
      "MSE: 34049.7253\n",
      "MAE: 94.1930\n",
      "RMSE: 184.5257\n",
      "SMAPE: 4.8091\n",
      "\n",
      "======== 10fold ========\n",
      "\n",
      "MSE: 33561.8907\n",
      "MAE: 94.3928\n",
      "RMSE: 183.1990\n",
      "SMAPE: 4.8129\n",
      "\n"
     ]
    },
    {
     "data": {
      "image/png": "[encoded data removed]",
      "text/plain": [
       "<Figure size 1080x360 with 1 Axes>"
      ]
     },
     "metadata": {
      "needs_background": "light"
     },
     "output_type": "display_data"
    }
   ],
   "source": [
    "model = RandomForestRegressor(random_state=37)\n",
    "result_models = evaluate(X_train, y_train, X_test, model, 10)"
   ]
  },
  {
   "cell_type": "code",
   "execution_count": 25,
   "id": "72055741",
   "metadata": {
    "scrolled": true
   },
   "outputs": [
    {
     "data": {
      "text/plain": [
       "RandomForestRegressor(bootstrap=True, ccp_alpha=0.0, criterion='mse',\n",
       "                      max_depth=None, max_features='auto', max_leaf_nodes=None,\n",
       "                      max_samples=None, min_impurity_decrease=0.0,\n",
       "                      min_impurity_split=None, min_samples_leaf=1,\n",
       "                      min_samples_split=2, min_weight_fraction_leaf=0.0,\n",
       "                      n_estimators=100, n_jobs=None, oob_score=False,\n",
       "                      random_state=37, verbose=0, warm_start=False)"
      ]
     },
     "execution_count": 25,
     "metadata": {},
     "output_type": "execute_result"
    }
   ],
   "source": [
    "result_models[1]"
   ]
  },
  {
   "cell_type": "code",
   "execution_count": 26,
   "id": "0021700f",
   "metadata": {},
   "outputs": [
    {
     "data": {
      "text/html": [
       "<div>\n",
       "<style scoped>\n",
       "    .dataframe tbody tr th:only-of-type {\n",
       "        vertical-align: middle;\n",
       "    }\n",
       "\n",
       "    .dataframe tbody tr th {\n",
       "        vertical-align: top;\n",
       "    }\n",
       "\n",
       "    .dataframe thead th {\n",
       "        text-align: right;\n",
       "    }\n",
       "</style>\n",
       "<table border=\"1\" class=\"dataframe\">\n",
       "  <thead>\n",
       "    <tr style=\"text-align: right;\">\n",
       "      <th></th>\n",
       "      <th>num_date_time</th>\n",
       "      <th>answer</th>\n",
       "    </tr>\n",
       "  </thead>\n",
       "  <tbody>\n",
       "    <tr>\n",
       "      <th>0</th>\n",
       "      <td>1 2020-08-25 00</td>\n",
       "      <td>8662.749082</td>\n",
       "    </tr>\n",
       "    <tr>\n",
       "      <th>1</th>\n",
       "      <td>1 2020-08-25 01</td>\n",
       "      <td>8657.668818</td>\n",
       "    </tr>\n",
       "    <tr>\n",
       "      <th>2</th>\n",
       "      <td>1 2020-08-25 02</td>\n",
       "      <td>8654.752832</td>\n",
       "    </tr>\n",
       "    <tr>\n",
       "      <th>3</th>\n",
       "      <td>1 2020-08-25 03</td>\n",
       "      <td>8640.412568</td>\n",
       "    </tr>\n",
       "    <tr>\n",
       "      <th>4</th>\n",
       "      <td>1 2020-08-25 04</td>\n",
       "      <td>8608.148643</td>\n",
       "    </tr>\n",
       "    <tr>\n",
       "      <th>...</th>\n",
       "      <td>...</td>\n",
       "      <td>...</td>\n",
       "    </tr>\n",
       "    <tr>\n",
       "      <th>10075</th>\n",
       "      <td>60 2020-08-31 19</td>\n",
       "      <td>4089.394111</td>\n",
       "    </tr>\n",
       "    <tr>\n",
       "      <th>10076</th>\n",
       "      <td>60 2020-08-31 20</td>\n",
       "      <td>3766.452473</td>\n",
       "    </tr>\n",
       "    <tr>\n",
       "      <th>10077</th>\n",
       "      <td>60 2020-08-31 21</td>\n",
       "      <td>3691.116016</td>\n",
       "    </tr>\n",
       "    <tr>\n",
       "      <th>10078</th>\n",
       "      <td>60 2020-08-31 22</td>\n",
       "      <td>3576.022585</td>\n",
       "    </tr>\n",
       "    <tr>\n",
       "      <th>10079</th>\n",
       "      <td>60 2020-08-31 23</td>\n",
       "      <td>3241.490356</td>\n",
       "    </tr>\n",
       "  </tbody>\n",
       "</table>\n",
       "<p>10080 rows × 2 columns</p>\n",
       "</div>"
      ],
      "text/plain": [
       "          num_date_time       answer\n",
       "0       1 2020-08-25 00  8662.749082\n",
       "1       1 2020-08-25 01  8657.668818\n",
       "2       1 2020-08-25 02  8654.752832\n",
       "3       1 2020-08-25 03  8640.412568\n",
       "4       1 2020-08-25 04  8608.148643\n",
       "...                 ...          ...\n",
       "10075  60 2020-08-31 19  4089.394111\n",
       "10076  60 2020-08-31 20  3766.452473\n",
       "10077  60 2020-08-31 21  3691.116016\n",
       "10078  60 2020-08-31 22  3576.022585\n",
       "10079  60 2020-08-31 23  3241.490356\n",
       "\n",
       "[10080 rows x 2 columns]"
      ]
     },
     "execution_count": 26,
     "metadata": {},
     "output_type": "execute_result"
    }
   ],
   "source": [
    "submission=pd.read_csv('sample_submission.csv')\n",
    "\n",
    "for i in range(1, 11):\n",
    "    submission['answer'] += result_models[i].predict(test)/10\n",
    "\n",
    "submission"
   ]
  },
  {
   "cell_type": "code",
   "execution_count": 27,
   "id": "de59fdfb",
   "metadata": {},
   "outputs": [],
   "source": [
    "submission.to_csv('rf_submission.csv', index=False)"
   ]
  },
  {
   "cell_type": "code",
   "execution_count": 22,
   "id": "74Ki7OMms0c7",
   "metadata": {
    "colab": {
     "base_uri": "https://localhost:8080/"
    },
    "id": "74Ki7OMms0c7",
    "outputId": "e230d53c-276d-4bae-efda-59d011f6052d"
   },
   "outputs": [],
   "source": [
    "# n_splits = 10\n",
    "# sfk = StratifiedKFold(n_splits = n_splits, random_state=37)\n",
    "\n",
    "# y_pred = np.zeros(len(X_test))\n",
    "# fold = 1\n",
    "\n",
    "# for tr_idx, val_idx in sfk.split(X, X['num']):\n",
    "#     print('======== {}fold ========'.format(fold))\n",
    "#     X_train = X.iloc[tr_idx, :]\n",
    "#     y_train = y[tr_idx]\n",
    "\n",
    "#     X_val = X.iloc[val_idx, :]\n",
    "#     y_val = y[val_idx]\n",
    "    \n",
    "#     lgbm = LGBMRegressor(n_estimators = 10000, learning_rate= 0.01,objective = 'mse', random_state=37)\n",
    "#     lgbm.fit(X_train, y_train, eval_set=[(X_val, y_val)], eval_metric= 'rmse', early_stopping_rounds=30, verbose=500)\n",
    "#     y_pred += lgbm.predict(X_test) / n_splits\n",
    "#     pred = lgbm.predict(X_test)\n",
    "    \n",
    "#     print(f'\\nSMAPE: {SMAPE(y_true, pred):.4f}\\n')\n",
    "    \n",
    "#     fold += 1\n",
    "\n",
    "# plt.figure(figsize=(15,5))\n",
    "# plt.plot(y_true, 'k' ,label='True')\n",
    "# plt.plot(y_pred, '--g' ,label='Pred')\n",
    "# plt.title(f'\\nSMAPE: {SMAPE(y_true, y_pred):.4f}\\nR2_score: {r2_score(y_true, y_pred):.4f}\\n')\n",
    "# plt.legend()\n",
    "# plt.show()"
   ]
  }
 ],
 "metadata": {
  "colab": {
   "collapsed_sections": [],
   "name": "[베이스라인]_K-fold와 lgbm을 사용한 베이스라인.ipynb",
   "provenance": []
  },
  "kernelspec": {
   "display_name": "azureml_py36_tensorflow",
   "language": "python",
   "name": "conda-env-azureml_py36_tensorflow-py"
  },
  "language_info": {
   "codemirror_mode": {
    "name": "ipython",
    "version": 3
   },
   "file_extension": ".py",
   "mimetype": "text/x-python",
   "name": "python",
   "nbconvert_exporter": "python",
   "pygments_lexer": "ipython3",
   "version": "3.6.12"
  }
 },
 "nbformat": 4,
 "nbformat_minor": 5
}
