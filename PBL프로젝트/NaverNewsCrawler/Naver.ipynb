{
 "metadata": {
  "language_info": {
   "codemirror_mode": {
    "name": "ipython",
    "version": 3
   },
   "file_extension": ".py",
   "mimetype": "text/x-python",
   "name": "python",
   "nbconvert_exporter": "python",
   "pygments_lexer": "ipython3",
   "version": "3.8.5"
  },
  "orig_nbformat": 4,
  "kernelspec": {
   "name": "python3",
   "display_name": "Python 3.8.5 64-bit ('base': conda)"
  },
  "interpreter": {
   "hash": "183bbf6827d058c2a2fb0f4acdc0420849dda2b4380af0e437e38c64d798d8b7"
  }
 },
 "nbformat": 4,
 "nbformat_minor": 2,
 "cells": [
  {
   "cell_type": "code",
   "execution_count": 1,
   "source": [
    "from korea_news_crawler.articlecrawler import ArticleCrawler\r\n",
    "\r\n",
    "Crawler = ArticleCrawler()\r\n",
    "Crawler.set_category('금융')\r\n",
    "Crawler.set_date_range(2021, 7, 2021, 7)\r\n",
    "Crawler.start()"
   ],
   "outputs": [
    {
     "output_type": "stream",
     "name": "stdout",
     "text": [
      "{'start_year': 2021, 'start_month': 7, 'end_year': 2021, 'end_month': 7}\n"
     ]
    }
   ],
   "metadata": {}
  },
  {
   "cell_type": "code",
   "execution_count": 2,
   "source": [
    "Crawler = ArticleCrawler()\r\n",
    "Crawler.set_category('증권')\r\n",
    "Crawler.set_date_range(2021, 7, 2021, 7)\r\n",
    "Crawler.start()"
   ],
   "outputs": [
    {
     "output_type": "stream",
     "name": "stdout",
     "text": [
      "{'start_year': 2021, 'start_month': 7, 'end_year': 2021, 'end_month': 7}\n"
     ]
    }
   ],
   "metadata": {}
  },
  {
   "cell_type": "code",
   "execution_count": 3,
   "source": [
    "Crawler = ArticleCrawler()\r\n",
    "Crawler.set_category('산업_재계')\r\n",
    "Crawler.set_date_range(2021, 7, 2021, 7)\r\n",
    "Crawler.start()"
   ],
   "outputs": [
    {
     "output_type": "stream",
     "name": "stdout",
     "text": [
      "{'start_year': 2021, 'start_month': 7, 'end_year': 2021, 'end_month': 7}\n"
     ]
    }
   ],
   "metadata": {}
  },
  {
   "cell_type": "code",
   "execution_count": 4,
   "source": [
    "Crawler = ArticleCrawler()\r\n",
    "Crawler.set_category('중기_벤처')\r\n",
    "Crawler.set_date_range(2021, 7, 2021, 7)\r\n",
    "Crawler.start()"
   ],
   "outputs": [
    {
     "output_type": "stream",
     "name": "stdout",
     "text": [
      "{'start_year': 2021, 'start_month': 7, 'end_year': 2021, 'end_month': 7}\n"
     ]
    }
   ],
   "metadata": {}
  },
  {
   "cell_type": "code",
   "execution_count": 5,
   "source": [
    "Crawler = ArticleCrawler()\r\n",
    "Crawler.set_category('부동산')\r\n",
    "Crawler.set_date_range(2021, 7, 2021, 7)\r\n",
    "Crawler.start()"
   ],
   "outputs": [
    {
     "output_type": "stream",
     "name": "stdout",
     "text": [
      "{'start_year': 2021, 'start_month': 7, 'end_year': 2021, 'end_month': 7}\n"
     ]
    }
   ],
   "metadata": {}
  },
  {
   "cell_type": "code",
   "execution_count": 6,
   "source": [
    "Crawler = ArticleCrawler()\r\n",
    "Crawler.set_category('글로벌경제')\r\n",
    "Crawler.set_date_range(2021, 7, 2021, 7)\r\n",
    "Crawler.start()"
   ],
   "outputs": [
    {
     "output_type": "stream",
     "name": "stdout",
     "text": [
      "{'start_year': 2021, 'start_month': 7, 'end_year': 2021, 'end_month': 7}\n"
     ]
    }
   ],
   "metadata": {}
  },
  {
   "cell_type": "code",
   "execution_count": 7,
   "source": [
    "Crawler = ArticleCrawler()\r\n",
    "Crawler.set_category('생활경제')\r\n",
    "Crawler.set_date_range(2021, 7, 2021, 7)\r\n",
    "Crawler.start()"
   ],
   "outputs": [
    {
     "output_type": "stream",
     "name": "stdout",
     "text": [
      "{'start_year': 2021, 'start_month': 7, 'end_year': 2021, 'end_month': 7}\n"
     ]
    }
   ],
   "metadata": {}
  },
  {
   "cell_type": "code",
   "execution_count": 8,
   "source": [
    "Crawler = ArticleCrawler()\r\n",
    "Crawler.set_category('경제 일반')\r\n",
    "Crawler.set_date_range(2021, 7, 2021, 7)\r\n",
    "Crawler.start()"
   ],
   "outputs": [
    {
     "output_type": "stream",
     "name": "stdout",
     "text": [
      "{'start_year': 2021, 'start_month': 7, 'end_year': 2021, 'end_month': 7}\n"
     ]
    }
   ],
   "metadata": {}
  },
  {
   "cell_type": "code",
   "execution_count": null,
   "source": [],
   "outputs": [],
   "metadata": {}
  }
 ]
}