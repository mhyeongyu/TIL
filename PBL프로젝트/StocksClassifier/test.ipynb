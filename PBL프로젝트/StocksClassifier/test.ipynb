{
 "cells": [
  {
   "cell_type": "code",
   "execution_count": 1,
   "metadata": {},
   "outputs": [
    {
     "name": "stderr",
     "output_type": "stream",
     "text": [
      "  0%|          | 0/6 [00:00<?, ?it/s]"
     ]
    },
    {
     "name": "stdout",
     "output_type": "stream",
     "text": [
      "Start 삼성전자 Modeling!!\n",
      "TODAY: 2021-08-22\n",
      "(6000, 6)\n",
      "Preprocessing Done!!\n",
      "StockSign Done!!\n",
      "005930_5_Modeling Finish!!\n",
      "Preprocessing Done!!\n",
      "StockSign Done!!\n",
      "005930_20_Modeling Finish!!\n",
      "Preprocessing Done!!\n",
      "StockSign Done!!\n",
      "005930_60_Modeling Finish!!\n",
      "Preprocessing Done!!\n",
      "StockSign Done!!\n",
      "005930_120_Modeling Finish!!\n",
      "Preprocessing Done!!\n",
      "StockSign Done!!\n",
      "005930_5_Modeling Finish!!\n",
      "Preprocessing Done!!\n",
      "StockSign Done!!\n",
      "005930_20_Modeling Finish!!\n",
      "Preprocessing Done!!\n",
      "StockSign Done!!\n",
      "005930_60_Modeling Finish!!\n",
      "Preprocessing Done!!\n",
      "StockSign Done!!\n"
     ]
    },
    {
     "name": "stderr",
     "output_type": "stream",
     "text": [
      " 17%|█▋        | 1/6 [25:22<2:06:52, 1522.42s/it]"
     ]
    },
    {
     "name": "stdout",
     "output_type": "stream",
     "text": [
      "005930_120_Modeling Finish!!\n",
      "Start SK하이닉스 Modeling!!\n",
      "TODAY: 2021-08-22\n",
      "(6000, 6)\n",
      "Preprocessing Done!!\n",
      "StockSign Done!!\n",
      "000660_5_Modeling Finish!!\n",
      "Preprocessing Done!!\n",
      "StockSign Done!!\n",
      "000660_20_Modeling Finish!!\n",
      "Preprocessing Done!!\n",
      "StockSign Done!!\n",
      "000660_60_Modeling Finish!!\n",
      "Preprocessing Done!!\n",
      "StockSign Done!!\n",
      "000660_120_Modeling Finish!!\n",
      "Preprocessing Done!!\n",
      "StockSign Done!!\n",
      "000660_5_Modeling Finish!!\n",
      "Preprocessing Done!!\n",
      "StockSign Done!!\n",
      "000660_20_Modeling Finish!!\n",
      "Preprocessing Done!!\n",
      "StockSign Done!!\n",
      "000660_60_Modeling Finish!!\n",
      "Preprocessing Done!!\n",
      "StockSign Done!!\n"
     ]
    },
    {
     "name": "stderr",
     "output_type": "stream",
     "text": [
      " 33%|███▎      | 2/6 [46:19<1:36:11, 1442.85s/it]"
     ]
    },
    {
     "name": "stdout",
     "output_type": "stream",
     "text": [
      "000660_120_Modeling Finish!!\n",
      "Start LG화학 Modeling!!\n",
      "TODAY: 2021-08-22\n",
      "(5026, 6)\n",
      "Preprocessing Done!!\n",
      "StockSign Done!!\n",
      "051910_5_Modeling Finish!!\n",
      "Preprocessing Done!!\n",
      "StockSign Done!!\n",
      "051910_20_Modeling Finish!!\n",
      "Preprocessing Done!!\n",
      "StockSign Done!!\n",
      "051910_60_Modeling Finish!!\n",
      "Preprocessing Done!!\n",
      "StockSign Done!!\n",
      "051910_120_Modeling Finish!!\n",
      "Preprocessing Done!!\n",
      "StockSign Done!!\n",
      "051910_5_Modeling Finish!!\n",
      "Preprocessing Done!!\n",
      "StockSign Done!!\n",
      "051910_20_Modeling Finish!!\n",
      "Preprocessing Done!!\n",
      "StockSign Done!!\n",
      "051910_60_Modeling Finish!!\n",
      "Preprocessing Done!!\n",
      "StockSign Done!!\n"
     ]
    },
    {
     "name": "stderr",
     "output_type": "stream",
     "text": [
      " 50%|█████     | 3/6 [1:05:17<1:07:33, 1351.28s/it]"
     ]
    },
    {
     "name": "stdout",
     "output_type": "stream",
     "text": [
      "051910_120_Modeling Finish!!\n",
      "Start 카카오 Modeling!!\n",
      "TODAY: 2021-08-22\n",
      "(5377, 6)\n",
      "Preprocessing Done!!\n",
      "StockSign Done!!\n",
      "035720_5_Modeling Finish!!\n",
      "Preprocessing Done!!\n",
      "StockSign Done!!\n",
      "035720_20_Modeling Finish!!\n",
      "Preprocessing Done!!\n",
      "StockSign Done!!\n",
      "035720_60_Modeling Finish!!\n",
      "Preprocessing Done!!\n",
      "StockSign Done!!\n",
      "035720_120_Modeling Finish!!\n",
      "Preprocessing Done!!\n",
      "StockSign Done!!\n",
      "035720_5_Modeling Finish!!\n",
      "Preprocessing Done!!\n",
      "StockSign Done!!\n",
      "035720_20_Modeling Finish!!\n",
      "Preprocessing Done!!\n",
      "StockSign Done!!\n",
      "035720_60_Modeling Finish!!\n",
      "Preprocessing Done!!\n",
      "StockSign Done!!\n"
     ]
    },
    {
     "name": "stderr",
     "output_type": "stream",
     "text": [
      " 67%|██████▋   | 4/6 [1:27:40<44:57, 1348.78s/it]  "
     ]
    },
    {
     "name": "stdout",
     "output_type": "stream",
     "text": [
      "035720_120_Modeling Finish!!\n",
      "Start NAVER Modeling!!\n",
      "TODAY: 2021-08-22\n",
      "(4655, 6)\n",
      "Preprocessing Done!!\n",
      "StockSign Done!!\n",
      "035420_5_Modeling Finish!!\n",
      "Preprocessing Done!!\n",
      "StockSign Done!!\n",
      "035420_20_Modeling Finish!!\n",
      "Preprocessing Done!!\n",
      "StockSign Done!!\n",
      "035420_60_Modeling Finish!!\n",
      "Preprocessing Done!!\n",
      "StockSign Done!!\n",
      "035420_120_Modeling Finish!!\n",
      "Preprocessing Done!!\n",
      "StockSign Done!!\n",
      "035420_5_Modeling Finish!!\n",
      "Preprocessing Done!!\n",
      "StockSign Done!!\n",
      "035420_20_Modeling Finish!!\n",
      "Preprocessing Done!!\n",
      "StockSign Done!!\n",
      "035420_60_Modeling Finish!!\n",
      "Preprocessing Done!!\n",
      "StockSign Done!!\n"
     ]
    },
    {
     "name": "stderr",
     "output_type": "stream",
     "text": [
      " 83%|████████▎ | 5/6 [1:42:48<20:16, 1216.77s/it]"
     ]
    },
    {
     "name": "stdout",
     "output_type": "stream",
     "text": [
      "035420_120_Modeling Finish!!\n",
      "Start 현대차 Modeling!!\n",
      "TODAY: 2021-08-22\n",
      "(6000, 6)\n",
      "Preprocessing Done!!\n",
      "StockSign Done!!\n",
      "005380_5_Modeling Finish!!\n",
      "Preprocessing Done!!\n",
      "StockSign Done!!\n",
      "005380_20_Modeling Finish!!\n",
      "Preprocessing Done!!\n",
      "StockSign Done!!\n",
      "005380_60_Modeling Finish!!\n",
      "Preprocessing Done!!\n",
      "StockSign Done!!\n",
      "005380_120_Modeling Finish!!\n",
      "Preprocessing Done!!\n",
      "StockSign Done!!\n",
      "005380_5_Modeling Finish!!\n",
      "Preprocessing Done!!\n",
      "StockSign Done!!\n",
      "005380_20_Modeling Finish!!\n",
      "Preprocessing Done!!\n",
      "StockSign Done!!\n",
      "005380_60_Modeling Finish!!\n",
      "Preprocessing Done!!\n",
      "StockSign Done!!\n"
     ]
    },
    {
     "name": "stderr",
     "output_type": "stream",
     "text": [
      "100%|██████████| 6/6 [2:03:21<00:00, 1233.51s/it]"
     ]
    },
    {
     "name": "stdout",
     "output_type": "stream",
     "text": [
      "005380_120_Modeling Finish!!\n",
      "Finish!!!!!\n"
     ]
    },
    {
     "name": "stderr",
     "output_type": "stream",
     "text": [
      "\n"
     ]
    }
   ],
   "source": [
    "from tqdm import tqdm\n",
    "import pandas as pd\n",
    "import Classifier as cls\n",
    "\n",
    "names_lst = ['삼성전자', 'SK하이닉스', 'LG화학', '카카오', 'NAVER', '현대차']\n",
    "days_lst = [5, 20, 60, 120]\n",
    "\n",
    "stock_code = pd.read_csv('./KOSPI_200.csv', dtype={'종목코드': str, '종목명': str})[['종목명', '종목코드']]\n",
    "\n",
    "rf_result_df = pd.DataFrame(columns=['NAME', 'DAY', 'ACC', 'n_estimators', 'max_depth', 'min_samples_split', 'min_samples_leaf'])\n",
    "xgb_result_df = pd.DataFrame(columns=['NAME', 'DAY', 'ACC', 'n_estimators', 'eta', 'min_child_weight', 'max_depth', 'colsample_bytree', 'subsample'])\n",
    "\n",
    "for name in tqdm(names_lst):\n",
    "    print(f'Start {name} Modeling!!')\n",
    "    data, code = cls.load_stocks_data(f'{name}', stock_code)\n",
    "\n",
    "    for day in days_lst:\n",
    "        \n",
    "        stocks = cls.Stocks(data)\n",
    "        stocks.preprocessing()\n",
    "        sign_data = stocks.stocksign(stocks.data, day)\n",
    "        para = stocks.modelings(sign_data, code, day)\n",
    "\n",
    "        rf_result_df = rf_result_df.append({'NAME':name,\n",
    "                                            'DAY':day,\n",
    "                                            'ACC':para[0]['ACC'],\n",
    "                                            'n_estimators':para[0]['n_estimators'],\n",
    "                                            'max_depth':para[0]['max_depth'],\n",
    "                                            'min_samples_split':para[0]['min_samples_split'],\n",
    "                                            'min_samples_leaf':para[0]['min_samples_leaf']}, ignore_index=True)\n",
    "\n",
    "    for day in days_lst:\n",
    "        \n",
    "        stocks = cls.Stocks(data)\n",
    "        stocks.preprocessing()\n",
    "        sign_data = stocks.stocksign(stocks.data, day)\n",
    "        parameter = stocks.modeling(sign_data, code, day)\n",
    "        \n",
    "        xgb_result_df = xgb_result_df.append({'NAME':name,\n",
    "                              'DAY':day,\n",
    "                              'ACC':parameter[0]['ACC'],\n",
    "                              'n_estimators':parameter[0]['n_estimators'],\n",
    "                              'eta':parameter[0]['eta'],\n",
    "                              'min_child_weight':parameter[0]['min_child_weight'],\n",
    "                              'max_depth':parameter[0]['max_depth'],\n",
    "                              'colsample_bytree':parameter[0]['colsample_bytree'],\n",
    "                              'subsample':parameter[0]['subsample']}, ignore_index=True)\n",
    "\n",
    "print('Finish!!!!!')"
   ]
  },
  {
   "cell_type": "code",
   "execution_count": 4,
   "metadata": {},
   "outputs": [],
   "source": [
    "rf_result_df.to_csv('rf_result.csv', index=False)"
   ]
  },
  {
   "cell_type": "code",
   "execution_count": 5,
   "metadata": {},
   "outputs": [],
   "source": [
    "xgb_result_df.to_csv('xgb_result.csv', index=False)"
   ]
  },
  {
   "cell_type": "code",
   "execution_count": null,
   "metadata": {},
   "outputs": [],
   "source": []
  }
 ],
 "metadata": {
  "kernelspec": {
   "display_name": "Python 3.8.5 64-bit ('base': conda)",
   "name": "python385jvsc74a57bd0dca0ade3e726a953b501b15e8e990130d2b7799f14cfd9f4271676035ebe5511"
  },
  "language_info": {
   "codemirror_mode": {
    "name": "ipython",
    "version": 3
   },
   "file_extension": ".py",
   "mimetype": "text/x-python",
   "name": "python",
   "nbconvert_exporter": "python",
   "pygments_lexer": "ipython3",
   "version": "3.8.5"
  },
  "metadata": {
   "interpreter": {
    "hash": "dca0ade3e726a953b501b15e8e990130d2b7799f14cfd9f4271676035ebe5511"
   }
  },
  "orig_nbformat": 2
 },
 "nbformat": 4,
 "nbformat_minor": 2
}