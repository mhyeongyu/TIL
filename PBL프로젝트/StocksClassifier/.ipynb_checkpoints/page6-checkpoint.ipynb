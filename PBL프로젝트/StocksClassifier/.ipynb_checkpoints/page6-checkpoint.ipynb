{
 "cells": [
  {
   "cell_type": "code",
   "execution_count": null,
   "metadata": {},
   "outputs": [],
   "source": [
    "from tqdm import tqdm\n",
    "import pandas as pd\n",
    "import Classifier as cls"
   ]
  },
  {
   "cell_type": "code",
   "execution_count": null,
   "metadata": {},
   "outputs": [],
   "source": [
    "name = '삼성전자'\n",
    "day = 20\n",
    "sizes = [0.3, 0.2, 0.1, 0.05]\n",
    "\n",
    "stock_code = pd.read_csv('./KOSPI_200.csv', dtype={'종목코드': str, '종목명': str})[['종목명', '종목코드']]\n",
    "xgb_result_df = pd.DataFrame(columns=['NAME', 'SIZE', 'ACC', 'n_estimators', 'eta', 'min_child_weight', 'max_depth', 'colsample_bytree', 'subsample'])\n",
    "\n",
    "print(f'Start {name} Modeling!!')\n",
    "data, code = cls.load_stocks_data(f'{name}', stock_code)\n",
    "\n",
    "for size in sizes:\n",
    "    stocks = cls.Stocks(data)\n",
    "    stocks.preprocessing()\n",
    "    sign_data = stocks.stocksign(stocks.data, day)\n",
    "    parameter = stocks.modeling(sign_data, code, day, size)\n",
    "\n",
    "    xgb_result_df = xgb_result_df.append({'NAME':name,\n",
    "                                          'SIZE':size,\n",
    "                                          'ACC':parameter[0]['ACC'],\n",
    "                                          'n_estimators':parameter[0]['n_estimators'],\n",
    "                                          'eta':parameter[0]['eta'],\n",
    "                                          'min_child_weight':parameter[0]['min_child_weight'],\n",
    "                                          'max_depth':parameter[0]['max_depth'],\n",
    "                                          'colsample_bytree':parameter[0]['colsample_bytree'],\n",
    "                                          'subsample':parameter[0]['subsample']}, ignore_index=True)\n",
    "\n",
    "print('Finish!!!!!')"
   ]
  }
 ],
 "metadata": {
  "kernelspec": {
   "display_name": "Python 3.8.5 64-bit ('base': conda)",
   "language": "python",
   "name": "python385jvsc74a57bd0dca0ade3e726a953b501b15e8e990130d2b7799f14cfd9f4271676035ebe5511"
  },
  "language_info": {
   "codemirror_mode": {
    "name": "ipython",
    "version": 3
   },
   "file_extension": ".py",
   "mimetype": "text/x-python",
   "name": "python",
   "nbconvert_exporter": "python",
   "pygments_lexer": "ipython3",
   "version": "3.8.5"
  }
 },
 "nbformat": 4,
 "nbformat_minor": 4
}
