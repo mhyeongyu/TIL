{
 "cells": [
  {
   "cell_type": "code",
   "execution_count": 1,
   "metadata": {},
   "outputs": [],
   "source": [
    "from tqdm import tqdm\n",
    "import pandas as pd\n",
    "import numpy as np\n",
    "import Classifier as cls"
   ]
  },
  {
   "cell_type": "code",
   "execution_count": null,
   "metadata": {},
   "outputs": [],
   "source": [
    "# names_lst = ['삼성전자', 'SK하이닉스', 'LG화학', '카카오', 'NAVER', '현대차']\n",
    "# days_lst = [5, 20, 60, 120]\n",
    "\n",
    "names_lst = ['삼성전자']\n",
    "days_lst = [20]\n",
    "\n",
    "stock_code = pd.read_csv('./KOSPI_200.csv', dtype={'종목코드': str, '종목명': str})[['종목명', '종목코드']]\n",
    "\n",
    "rf_result_df = pd.DataFrame(columns=['NAME', 'DAY', 'ACC', 'n_estimators', 'max_depth', 'min_samples_split', 'min_samples_leaf'])\n",
    "xgb_result_df = pd.DataFrame(columns=['NAME', 'DAY', 'ACC', 'n_estimators', 'eta', 'min_child_weight', 'max_depth', 'colsample_bytree', 'subsample'])\n",
    "\n",
    "for name in tqdm(names_lst):\n",
    "    print(f'Start {name} Modeling!!')\n",
    "    data, code = cls.load_stocks_data(f'{name}', stock_code)\n",
    "\n",
    "    for day in days_lst:\n",
    "        \n",
    "        stocks = cls.Stocks(data)\n",
    "        stocks.preprocessing()\n",
    "        sign_data = stocks.stocksign(stocks.data, day)\n",
    "        para = stocks.modelings(sign_data, code, day)\n",
    "\n",
    "        rf_result_df = rf_result_df.append({'NAME':name,\n",
    "                                            'DAY':day,\n",
    "                                            'ACC':para[0]['ACC'],\n",
    "                                            'n_estimators':para[0]['n_estimators'],\n",
    "                                            'max_depth':para[0]['max_depth'],\n",
    "                                            'min_samples_split':para[0]['min_samples_split'],\n",
    "                                            'min_samples_leaf':para[0]['min_samples_leaf']}, ignore_index=True)\n",
    "\n",
    "    for day in days_lst:\n",
    "        \n",
    "        stocks = cls.Stocks(data)\n",
    "        stocks.preprocessing()\n",
    "        sign_data = stocks.stocksign(stocks.data, day)\n",
    "        parameter = stocks.modeling(sign_data, code, day)\n",
    "        \n",
    "        xgb_result_df = xgb_result_df.append({'NAME':name,\n",
    "                              'DAY':day,\n",
    "                              'ACC':parameter[0]['ACC'],\n",
    "                              'n_estimators':parameter[0]['n_estimators'],\n",
    "                              'eta':parameter[0]['eta'],\n",
    "                              'min_child_weight':parameter[0]['min_child_weight'],\n",
    "                              'max_depth':parameter[0]['max_depth'],\n",
    "                              'colsample_bytree':parameter[0]['colsample_bytree'],\n",
    "                              'subsample':parameter[0]['subsample']}, ignore_index=True)\n",
    "\n",
    "print('Finish!!!!!')"
   ]
  },
  {
   "cell_type": "code",
   "execution_count": 18,
   "metadata": {},
   "outputs": [
    {
     "data": {
      "text/plain": [
       "array([[0.80897036, 0.19102964],\n",
       "       [0.29002709, 0.70997291]])"
      ]
     },
     "execution_count": 18,
     "metadata": {},
     "output_type": "execute_result"
    }
   ],
   "source": [
    "(prob + prob_a) /2"
   ]
  },
  {
   "cell_type": "code",
   "execution_count": 16,
   "metadata": {},
   "outputs": [
    {
     "data": {
      "text/plain": [
       "array([0, 1])"
      ]
     },
     "execution_count": 16,
     "metadata": {},
     "output_type": "execute_result"
    }
   ],
   "source": [
    "np.argmax(((prob + prob_a) /2), axis=1)"
   ]
  },
  {
   "cell_type": "code",
   "execution_count": 11,
   "metadata": {},
   "outputs": [
    {
     "data": {
      "text/plain": [
       "array([[0.8656444 , 0.1343556 ],\n",
       "       [0.11820249, 0.88179751]])"
      ]
     },
     "execution_count": 11,
     "metadata": {},
     "output_type": "execute_result"
    }
   ],
   "source": [
    "prob"
   ]
  },
  {
   "cell_type": "code",
   "execution_count": 12,
   "metadata": {},
   "outputs": [
    {
     "data": {
      "text/plain": [
       "array([[0.75229633, 0.24770367],\n",
       "       [0.46185168, 0.53814832]])"
      ]
     },
     "execution_count": 12,
     "metadata": {},
     "output_type": "execute_result"
    }
   ],
   "source": [
    "prob_a"
   ]
  },
  {
   "cell_type": "code",
   "execution_count": 20,
   "metadata": {},
   "outputs": [],
   "source": [
    "stock_code = pd.read_csv('./KOSPI_200.csv', dtype={'종목코드': str, '종목명': str})[['종목명', '종목코드']]"
   ]
  },
  {
   "cell_type": "code",
   "execution_count": 25,
   "metadata": {},
   "outputs": [
    {
     "data": {
      "text/plain": [
       "['BGF리테일',\n",
       " 'BNK금융지주',\n",
       " 'CJ',\n",
       " 'CJ CGV',\n",
       " 'CJ대한통운',\n",
       " 'CJ제일제당',\n",
       " 'DB손해보험',\n",
       " 'DB하이텍',\n",
       " 'DL',\n",
       " 'DL이앤씨',\n",
       " 'F&F홀딩스',\n",
       " 'GKL',\n",
       " 'GS',\n",
       " 'GS건설',\n",
       " 'GS리테일',\n",
       " 'HDC현대산업개발',\n",
       " 'HMM',\n",
       " 'JW중외제약',\n",
       " 'KB금융',\n",
       " 'KCC',\n",
       " 'KG동부제철',\n",
       " 'KT',\n",
       " 'KT&G',\n",
       " 'LG',\n",
       " 'LG디스플레이',\n",
       " 'LG생활건강',\n",
       " 'LG유플러스',\n",
       " 'LG이노텍',\n",
       " 'LG전자',\n",
       " 'LG화학',\n",
       " 'LIG넥스원',\n",
       " 'LS',\n",
       " 'LS ELECTRIC',\n",
       " 'LX인터내셔널',\n",
       " 'LX하우시스',\n",
       " 'LX홀딩스',\n",
       " 'NAVER',\n",
       " 'NH투자증권',\n",
       " 'OCI',\n",
       " 'POSCO',\n",
       " 'S-Oil',\n",
       " 'SK',\n",
       " 'SKC',\n",
       " 'SK네트웍스',\n",
       " 'SK디스커버리',\n",
       " 'SK바이오사이언스',\n",
       " 'SK바이오팜',\n",
       " 'SK아이이테크놀로지',\n",
       " 'SK이노베이션',\n",
       " 'SK케미칼',\n",
       " 'SK텔레콤',\n",
       " 'SK하이닉스',\n",
       " 'SNT모티브',\n",
       " '강원랜드',\n",
       " '고려아연',\n",
       " '금호석유',\n",
       " '금호타이어',\n",
       " '기아',\n",
       " '기업은행',\n",
       " '넥센타이어',\n",
       " '넷마블',\n",
       " '녹십자',\n",
       " '녹십자홀딩스',\n",
       " '농심',\n",
       " '대상',\n",
       " '대우건설',\n",
       " '대우조선해양',\n",
       " '대웅',\n",
       " '대웅제약',\n",
       " '대한유화',\n",
       " '대한전선',\n",
       " '대한항공',\n",
       " '더블유게임즈',\n",
       " '동국제강',\n",
       " '동서',\n",
       " '동원F&B',\n",
       " '동원산업',\n",
       " '동원시스템즈',\n",
       " '두산',\n",
       " '두산밥캣',\n",
       " '두산인프라코어',\n",
       " '두산중공업',\n",
       " '두산퓨얼셀',\n",
       " '락앤락',\n",
       " '롯데관광개발',\n",
       " '롯데쇼핑',\n",
       " '롯데정밀화학',\n",
       " '롯데지주',\n",
       " '롯데칠성',\n",
       " '롯데케미칼',\n",
       " '롯데하이마트',\n",
       " '만도',\n",
       " '메리츠증권',\n",
       " '미래에셋증권',\n",
       " '보령제약',\n",
       " '부광약품',\n",
       " '삼성SDI',\n",
       " '삼성물산',\n",
       " '삼성바이오로직스',\n",
       " '삼성생명',\n",
       " '삼성에스디에스',\n",
       " '삼성엔지니어링',\n",
       " '삼성전기',\n",
       " '삼성전자',\n",
       " '삼성중공업',\n",
       " '삼성증권',\n",
       " '삼성카드',\n",
       " '삼성화재',\n",
       " '삼양식품',\n",
       " '삼양홀딩스',\n",
       " '세방전지',\n",
       " '셀트리온',\n",
       " '신세계',\n",
       " '신세계인터내셔날',\n",
       " '신풍제약',\n",
       " '신한지주',\n",
       " '쌍용C&E',\n",
       " '씨에스윈드',\n",
       " '아모레G',\n",
       " '아모레퍼시픽',\n",
       " '아시아나항공',\n",
       " '아이에스동서',\n",
       " '에스원',\n",
       " '엔씨소프트',\n",
       " '영원무역',\n",
       " '영진약품',\n",
       " '영풍',\n",
       " '오뚜기',\n",
       " '오리온',\n",
       " '오리온홀딩스',\n",
       " '우리금융지주',\n",
       " '유한양행',\n",
       " '이노션',\n",
       " '이마트',\n",
       " '일양약품',\n",
       " '일진머티리얼즈',\n",
       " '제일기획',\n",
       " '종근당',\n",
       " '지누스',\n",
       " '카카오',\n",
       " '코스맥스',\n",
       " '코오롱인더',\n",
       " '코웨이',\n",
       " '쿠쿠홀딩스',\n",
       " '쿠쿠홈시스',\n",
       " '키움증권',\n",
       " '태광산업',\n",
       " '팬오션',\n",
       " '포스코인터내셔널',\n",
       " '포스코케미칼',\n",
       " '풍산',\n",
       " '하나금융지주',\n",
       " '하이브',\n",
       " '하이트진로',\n",
       " '한국가스공사',\n",
       " '한국금융지주',\n",
       " '한국앤컴퍼니',\n",
       " '한국전력',\n",
       " '한국조선해양',\n",
       " '한국콜마',\n",
       " '한국타이어앤테크놀로지',\n",
       " '한국항공우주',\n",
       " '한미사이언스',\n",
       " '한미약품',\n",
       " '한샘',\n",
       " '한섬',\n",
       " '한세실업',\n",
       " '한솔케미칼',\n",
       " '한온시스템',\n",
       " '한올바이오파마',\n",
       " '한전KPS',\n",
       " '한전기술',\n",
       " '한진칼',\n",
       " '한화',\n",
       " '한화생명',\n",
       " '한화솔루션',\n",
       " '한화시스템',\n",
       " '한화에어로스페이스',\n",
       " '현대건설',\n",
       " '현대그린푸드',\n",
       " '현대글로비스',\n",
       " '현대로템',\n",
       " '현대모비스',\n",
       " '현대미포조선',\n",
       " '현대백화점',\n",
       " '현대엘리베이',\n",
       " '현대위아',\n",
       " '현대제철',\n",
       " '현대중공업지주',\n",
       " '현대차',\n",
       " '현대해상',\n",
       " '현대홈쇼핑',\n",
       " '호텔신라',\n",
       " '화승엔터프라이즈',\n",
       " '효성',\n",
       " '효성첨단소재',\n",
       " '효성티앤씨',\n",
       " '후성',\n",
       " '휠라홀딩스',\n",
       " '휴켐스']"
      ]
     },
     "execution_count": 25,
     "metadata": {},
     "output_type": "execute_result"
    }
   ],
   "source": []
  },
  {
   "cell_type": "code",
   "execution_count": null,
   "metadata": {},
   "outputs": [],
   "source": []
  }
 ],
 "metadata": {
  "kernelspec": {
   "display_name": "Python 3.8.5 64-bit ('base': conda)",
   "language": "python",
   "name": "python385jvsc74a57bd0dca0ade3e726a953b501b15e8e990130d2b7799f14cfd9f4271676035ebe5511"
  },
  "language_info": {
   "codemirror_mode": {
    "name": "ipython",
    "version": 3
   },
   "file_extension": ".py",
   "mimetype": "text/x-python",
   "name": "python",
   "nbconvert_exporter": "python",
   "pygments_lexer": "ipython3",
   "version": "3.8.5"
  }
 },
 "nbformat": 4,
 "nbformat_minor": 4
}
