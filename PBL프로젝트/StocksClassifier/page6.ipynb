{
 "cells": [
  {
   "cell_type": "code",
   "execution_count": 1,
   "metadata": {},
   "outputs": [],
   "source": [
    "from tqdm import tqdm\n",
    "import pandas as pd\n",
    "import Classifier as cls"
   ]
  },
  {
   "cell_type": "code",
   "execution_count": 23,
   "metadata": {},
   "outputs": [
    {
     "name": "stdout",
     "output_type": "stream",
     "text": [
      "Start SK하이닉스 Modeling!!\n",
      "TODAY: 2021-08-22\n",
      "(6000, 6)\n",
      "Preprocessing Done!!\n",
      "StockSign Done!!\n",
      "000660_60_Modeling Finish!!\n",
      "Preprocessing Done!!\n",
      "StockSign Done!!\n",
      "000660_60_Modeling Finish!!\n",
      "Preprocessing Done!!\n",
      "StockSign Done!!\n",
      "000660_60_Modeling Finish!!\n",
      "Preprocessing Done!!\n",
      "StockSign Done!!\n",
      "000660_60_Modeling Finish!!\n",
      "Finish!!!!!\n"
     ]
    }
   ],
   "source": [
    "name = 'SK하이닉스'\n",
    "day = 60\n",
    "sizes = [0.3, 0.2, 0.1, 0.05]\n",
    "\n",
    "stock_code = pd.read_csv('./KOSPI_200.csv', dtype={'종목코드': str, '종목명': str})[['종목명', '종목코드']]\n",
    "xgb_result_df = pd.DataFrame(columns=['NAME', 'SIZE', 'ACC', 'n_estimators', 'eta', 'min_child_weight', 'max_depth', 'colsample_bytree', 'subsample'])\n",
    "\n",
    "print(f'Start {name} Modeling!!')\n",
    "data, code = cls.load_stocks_data(f'{name}', stock_code)\n",
    "\n",
    "for size in sizes:\n",
    "    stocks = cls.Stocks(data)\n",
    "    stocks.preprocessing()\n",
    "    sign_data = stocks.stocksign(stocks.data, day)\n",
    "    parameter = stocks.modeling(sign_data, code, day, size)\n",
    "\n",
    "    xgb_result_df = xgb_result_df.append({'NAME':name,\n",
    "                                          'SIZE':size,\n",
    "                                          'ACC':parameter[0]['ACC'],\n",
    "                                          'n_estimators':parameter[0]['n_estimators'],\n",
    "                                          'eta':parameter[0]['eta'],\n",
    "                                          'min_child_weight':parameter[0]['min_child_weight'],\n",
    "                                          'max_depth':parameter[0]['max_depth'],\n",
    "                                          'colsample_bytree':parameter[0]['colsample_bytree'],\n",
    "                                          'subsample':parameter[0]['subsample']}, ignore_index=True)\n",
    "\n",
    "print('Finish!!!!!')"
   ]
  },
  {
   "cell_type": "code",
   "execution_count": 24,
   "metadata": {},
   "outputs": [
    {
     "data": {
      "text/html": [
       "<div>\n",
       "<style scoped>\n",
       "    .dataframe tbody tr th:only-of-type {\n",
       "        vertical-align: middle;\n",
       "    }\n",
       "\n",
       "    .dataframe tbody tr th {\n",
       "        vertical-align: top;\n",
       "    }\n",
       "\n",
       "    .dataframe thead th {\n",
       "        text-align: right;\n",
       "    }\n",
       "</style>\n",
       "<table border=\"1\" class=\"dataframe\">\n",
       "  <thead>\n",
       "    <tr style=\"text-align: right;\">\n",
       "      <th></th>\n",
       "      <th>NAME</th>\n",
       "      <th>SIZE</th>\n",
       "      <th>ACC</th>\n",
       "      <th>n_estimators</th>\n",
       "      <th>eta</th>\n",
       "      <th>min_child_weight</th>\n",
       "      <th>max_depth</th>\n",
       "      <th>colsample_bytree</th>\n",
       "      <th>subsample</th>\n",
       "    </tr>\n",
       "  </thead>\n",
       "  <tbody>\n",
       "    <tr>\n",
       "      <th>0</th>\n",
       "      <td>SK하이닉스</td>\n",
       "      <td>0.30</td>\n",
       "      <td>0.69</td>\n",
       "      <td>1000.00</td>\n",
       "      <td>0.30</td>\n",
       "      <td>2.00</td>\n",
       "      <td>5.00</td>\n",
       "      <td>0.80</td>\n",
       "      <td>0.80</td>\n",
       "    </tr>\n",
       "    <tr>\n",
       "      <th>1</th>\n",
       "      <td>SK하이닉스</td>\n",
       "      <td>0.20</td>\n",
       "      <td>0.56</td>\n",
       "      <td>1000.00</td>\n",
       "      <td>0.30</td>\n",
       "      <td>1.00</td>\n",
       "      <td>3.00</td>\n",
       "      <td>0.80</td>\n",
       "      <td>0.80</td>\n",
       "    </tr>\n",
       "    <tr>\n",
       "      <th>2</th>\n",
       "      <td>SK하이닉스</td>\n",
       "      <td>0.10</td>\n",
       "      <td>0.67</td>\n",
       "      <td>1000.00</td>\n",
       "      <td>0.30</td>\n",
       "      <td>7.00</td>\n",
       "      <td>3.00</td>\n",
       "      <td>0.90</td>\n",
       "      <td>0.80</td>\n",
       "    </tr>\n",
       "    <tr>\n",
       "      <th>3</th>\n",
       "      <td>SK하이닉스</td>\n",
       "      <td>0.05</td>\n",
       "      <td>0.51</td>\n",
       "      <td>1000.00</td>\n",
       "      <td>0.10</td>\n",
       "      <td>6.00</td>\n",
       "      <td>3.00</td>\n",
       "      <td>0.90</td>\n",
       "      <td>0.80</td>\n",
       "    </tr>\n",
       "  </tbody>\n",
       "</table>\n",
       "</div>"
      ],
      "text/plain": [
       "     NAME  SIZE  ACC  n_estimators  eta  min_child_weight  max_depth  \\\n",
       "0  SK하이닉스  0.30 0.69       1000.00 0.30              2.00       5.00   \n",
       "1  SK하이닉스  0.20 0.56       1000.00 0.30              1.00       3.00   \n",
       "2  SK하이닉스  0.10 0.67       1000.00 0.30              7.00       3.00   \n",
       "3  SK하이닉스  0.05 0.51       1000.00 0.10              6.00       3.00   \n",
       "\n",
       "   colsample_bytree  subsample  \n",
       "0              0.80       0.80  \n",
       "1              0.80       0.80  \n",
       "2              0.90       0.80  \n",
       "3              0.90       0.80  "
      ]
     },
     "execution_count": 24,
     "metadata": {},
     "output_type": "execute_result"
    }
   ],
   "source": [
    "xgb_result_df"
   ]
  },
  {
   "cell_type": "code",
   "execution_count": 22,
   "metadata": {},
   "outputs": [],
   "source": [
    "xgb_120_kakao = xgb_result_df.copy()"
   ]
  },
  {
   "cell_type": "code",
   "execution_count": 19,
   "metadata": {},
   "outputs": [],
   "source": [
    "xgb_60_kakao = xgb_result_df.copy()"
   ]
  },
  {
   "cell_type": "code",
   "execution_count": 16,
   "metadata": {},
   "outputs": [],
   "source": [
    "xgb_120_lg = xgb_result_df.copy()"
   ]
  },
  {
   "cell_type": "code",
   "execution_count": 13,
   "metadata": {},
   "outputs": [],
   "source": [
    "xgb_60_lg = xgb_result_df.copy()"
   ]
  },
  {
   "cell_type": "code",
   "execution_count": 10,
   "metadata": {},
   "outputs": [],
   "source": [
    "xgb_120 = xgb_result_df.copy()"
   ]
  },
  {
   "cell_type": "code",
   "execution_count": 6,
   "metadata": {},
   "outputs": [],
   "source": [
    "xgb_60 = xgb_result_df.copy()"
   ]
  },
  {
   "cell_type": "code",
   "execution_count": null,
   "metadata": {},
   "outputs": [],
   "source": [
    "data = data.iloc[:-day, :]\n",
    "\n",
    "X = data.drop(['High', 'Low', 'Open', 'Close', 'Volume', 'Change', 'up', 'down',\n",
    "                'ma5', 'ma20', 'ma60', 'ma120', 'target'], axis=1)\n",
    "y = data[['target']]\n",
    "\n",
    "# 최대한 최근의 데이터를 학습하기 위해 뒷부분의 0.05%만 test 데이터로 활용\n",
    "X_train, X_test, y_train, y_test = train_test_split(X, y, test_size=0.05, shuffle=False)\n",
    "X_train, X_val, y_train, y_val = train_test_split(X_train, y_train, test_size=0.3, shuffle=False)\n",
    "\n",
    "# 스케일링 적용하여 모든 변수 수치 정규화\n",
    "scaler = StandardScaler()\n",
    "scaler.fit(X_train)\n",
    "\n",
    "X_train = scaler.transform(X_train)\n",
    "X_val = scaler.transform(X_val)\n",
    "X_test = scaler.transform(X_test)"
   ]
  }
 ],
 "metadata": {
  "kernelspec": {
   "display_name": "Python 3.8.5 64-bit ('base': conda)",
   "language": "python",
   "name": "python385jvsc74a57bd0dca0ade3e726a953b501b15e8e990130d2b7799f14cfd9f4271676035ebe5511"
  },
  "language_info": {
   "codemirror_mode": {
    "name": "ipython",
    "version": 3
   },
   "file_extension": ".py",
   "mimetype": "text/x-python",
   "name": "python",
   "nbconvert_exporter": "python",
   "pygments_lexer": "ipython3",
   "version": "3.8.5"
  }
 },
 "nbformat": 4,
 "nbformat_minor": 4
}
