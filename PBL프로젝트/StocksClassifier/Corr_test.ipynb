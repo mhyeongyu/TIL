{
 "cells": [
  {
   "cell_type": "code",
   "execution_count": 29,
   "metadata": {},
   "outputs": [],
   "source": [
    "from tqdm import tqdm\n",
    "import pandas as pd\n",
    "import Classifier as cls\n",
    "pd.set_option('display.float_format', '{:.4f}'.format)\n",
    "from sklearn.metrics import accuracy_score"
   ]
  },
  {
   "cell_type": "code",
   "execution_count": 27,
   "metadata": {},
   "outputs": [
    {
     "name": "stderr",
     "output_type": "stream",
     "text": [
      "\r",
      "  0%|          | 0/6 [00:00<?, ?it/s]"
     ]
    },
    {
     "name": "stdout",
     "output_type": "stream",
     "text": [
      "Start 삼성전자 Modeling!!\n",
      "TODAY: 2021-08-22\n",
      "(6000, 6)\n",
      "Preprocessing Done!!\n",
      "StockSign Done!!\n",
      "Preprocessing Done!!\n",
      "StockSign Done!!\n",
      "Preprocessing Done!!\n",
      "StockSign Done!!\n",
      "Preprocessing Done!!\n",
      "StockSign Done!!\n"
     ]
    },
    {
     "name": "stderr",
     "output_type": "stream",
     "text": [
      "\r",
      " 17%|█▋        | 1/6 [00:06<00:34,  6.83s/it]"
     ]
    },
    {
     "name": "stdout",
     "output_type": "stream",
     "text": [
      "Start SK하이닉스 Modeling!!\n",
      "TODAY: 2021-08-22\n",
      "(6000, 6)\n",
      "Preprocessing Done!!\n",
      "StockSign Done!!\n",
      "Preprocessing Done!!\n",
      "StockSign Done!!\n",
      "Preprocessing Done!!\n",
      "StockSign Done!!\n",
      "Preprocessing Done!!\n",
      "StockSign Done!!\n"
     ]
    },
    {
     "name": "stderr",
     "output_type": "stream",
     "text": [
      "\r",
      " 33%|███▎      | 2/6 [00:18<00:32,  8.21s/it]"
     ]
    },
    {
     "name": "stdout",
     "output_type": "stream",
     "text": [
      "Start LG화학 Modeling!!\n",
      "TODAY: 2021-08-22\n",
      "(5026, 6)\n",
      "Preprocessing Done!!\n",
      "StockSign Done!!\n",
      "Preprocessing Done!!\n",
      "StockSign Done!!\n",
      "Preprocessing Done!!\n",
      "StockSign Done!!\n",
      "Preprocessing Done!!\n",
      "StockSign Done!!\n"
     ]
    },
    {
     "name": "stderr",
     "output_type": "stream",
     "text": [
      "\r",
      " 50%|█████     | 3/6 [00:53<00:49, 16.42s/it]"
     ]
    },
    {
     "name": "stdout",
     "output_type": "stream",
     "text": [
      "Start 카카오 Modeling!!\n",
      "TODAY: 2021-08-22\n",
      "(5377, 6)\n",
      "Preprocessing Done!!\n",
      "StockSign Done!!\n",
      "Preprocessing Done!!\n",
      "StockSign Done!!\n",
      "Preprocessing Done!!\n",
      "StockSign Done!!\n",
      "Preprocessing Done!!\n",
      "StockSign Done!!\n"
     ]
    },
    {
     "name": "stderr",
     "output_type": "stream",
     "text": [
      "\r",
      " 67%|██████▋   | 4/6 [01:13<00:34, 17.27s/it]"
     ]
    },
    {
     "name": "stdout",
     "output_type": "stream",
     "text": [
      "Start NAVER Modeling!!\n",
      "TODAY: 2021-08-22\n",
      "(4655, 6)\n",
      "Preprocessing Done!!\n",
      "StockSign Done!!\n",
      "Preprocessing Done!!\n",
      "StockSign Done!!\n",
      "Preprocessing Done!!\n",
      "StockSign Done!!\n",
      "Preprocessing Done!!\n",
      "StockSign Done!!\n"
     ]
    },
    {
     "name": "stderr",
     "output_type": "stream",
     "text": [
      "\r",
      " 83%|████████▎ | 5/6 [01:19<00:13, 13.89s/it]"
     ]
    },
    {
     "name": "stdout",
     "output_type": "stream",
     "text": [
      "Start 현대차 Modeling!!\n",
      "TODAY: 2021-08-22\n",
      "(6000, 6)\n",
      "Preprocessing Done!!\n",
      "StockSign Done!!\n",
      "Preprocessing Done!!\n",
      "StockSign Done!!\n",
      "Preprocessing Done!!\n",
      "StockSign Done!!\n",
      "Preprocessing Done!!\n",
      "StockSign Done!!\n"
     ]
    },
    {
     "name": "stderr",
     "output_type": "stream",
     "text": [
      "100%|██████████| 6/6 [01:25<00:00, 14.18s/it]"
     ]
    },
    {
     "name": "stdout",
     "output_type": "stream",
     "text": [
      "Finish!!!!!\n"
     ]
    },
    {
     "name": "stderr",
     "output_type": "stream",
     "text": [
      "\n"
     ]
    }
   ],
   "source": [
    "from tqdm import tqdm\n",
    "import pandas as pd\n",
    "import Classifier as cls\n",
    "pd.set_option('display.float_format', '{:.4f}'.format)\n",
    "\n",
    "names_lst = ['삼성전자', 'SK하이닉스', 'LG화학', '카카오', 'NAVER', '현대차']\n",
    "days_lst = [5, 20, 60, 120]\n",
    "# names_lst = ['삼성전자']\n",
    "# days_lst = [20]\n",
    "alpha_lst = [0.2, 0.4, 0.6, 0.8]\n",
    "\n",
    "stock_code = pd.read_csv('./KOSPI_200.csv', dtype={'종목코드': str, '종목명': str})[['종목명', '종목코드']]\n",
    "result_df = pd.DataFrame(columns=['NAME', 'DAY', 'ALPHA', 'XGB_ACC', 'RF_ACC', 'ACC'])\n",
    "\n",
    "for name in tqdm(names_lst):\n",
    "    print(f'Start {name} Modeling!!')\n",
    "    data, code = cls.load_stocks_data(f'{name}', stock_code)\n",
    "\n",
    "    for day in days_lst:\n",
    "        stocks = cls.Stocks(data)\n",
    "        stocks.preprocessing()\n",
    "        sign_data = stocks.stocksign(stocks.data, day)\n",
    "        \n",
    "        for alpha in alpha_lst:\n",
    "            xgb_acc, rf_acc, acc = stocks.predicts(sign_data, code, day, alpha)\n",
    "            \n",
    "            result_df = result_df.append({'NAME':name,\n",
    "                                          'DAY':day,\n",
    "                                          'ALPHA':alpha,\n",
    "                                          'XGB_ACC':xgb_acc,\n",
    "                                          'RF_ACC':rf_acc,\n",
    "                                          'ACC':acc}, ignore_index=True)\n",
    "\n",
    "print('Finish!!!!!')"
   ]
  },
  {
   "cell_type": "code",
   "execution_count": 78,
   "metadata": {},
   "outputs": [],
   "source": [
    "df = pd.DataFrame(columns=['Model', 'Accuracy'])"
   ]
  },
  {
   "cell_type": "code",
   "execution_count": 79,
   "metadata": {},
   "outputs": [],
   "source": [
    "df = df.append({'Model':'XGBoost',\n",
    "                'Accuracy': result_df[result_df['ALPHA'] == 0.2]['XGB_ACC'].mean()}, ignore_index=True)"
   ]
  },
  {
   "cell_type": "code",
   "execution_count": 80,
   "metadata": {},
   "outputs": [],
   "source": [
    "df = df.append({'Model':'RandomForest',\n",
    "                'Accuracy': result_df[result_df['ALPHA'] == 0.2]['RF_ACC'].mean()}, ignore_index=True)"
   ]
  },
  {
   "cell_type": "code",
   "execution_count": 81,
   "metadata": {},
   "outputs": [],
   "source": [
    "df = df.append({'Model':'ALPHA 0.2',\n",
    "                'Accuracy': result_df[result_df['ALPHA'] == 0.2]['ACC'].mean()}, ignore_index=True)\n",
    "\n",
    "df = df.append({'Model':'ALPHA 0.4',\n",
    "                'Accuracy': result_df[result_df['ALPHA'] == 0.4]['ACC'].mean()}, ignore_index=True)\n",
    "\n",
    "df = df.append({'Model':'ALPHA 0.6',\n",
    "                'Accuracy': result_df[result_df['ALPHA'] == 0.6]['ACC'].mean()}, ignore_index=True)\n",
    "\n",
    "df = df.append({'Model':'ALPHA 0.8',\n",
    "                'Accuracy': result_df[result_df['ALPHA'] == 0.8]['ACC'].mean()}, ignore_index=True)"
   ]
  },
  {
   "cell_type": "code",
   "execution_count": 82,
   "metadata": {},
   "outputs": [
    {
     "data": {
      "text/html": [
       "<div>\n",
       "<style scoped>\n",
       "    .dataframe tbody tr th:only-of-type {\n",
       "        vertical-align: middle;\n",
       "    }\n",
       "\n",
       "    .dataframe tbody tr th {\n",
       "        vertical-align: top;\n",
       "    }\n",
       "\n",
       "    .dataframe thead th {\n",
       "        text-align: right;\n",
       "    }\n",
       "</style>\n",
       "<table border=\"1\" class=\"dataframe\">\n",
       "  <thead>\n",
       "    <tr style=\"text-align: right;\">\n",
       "      <th></th>\n",
       "      <th>Accuracy</th>\n",
       "    </tr>\n",
       "    <tr>\n",
       "      <th>Model</th>\n",
       "      <th></th>\n",
       "    </tr>\n",
       "  </thead>\n",
       "  <tbody>\n",
       "    <tr>\n",
       "      <th>XGBoost</th>\n",
       "      <td>0.7312</td>\n",
       "    </tr>\n",
       "    <tr>\n",
       "      <th>RandomForest</th>\n",
       "      <td>0.7015</td>\n",
       "    </tr>\n",
       "    <tr>\n",
       "      <th>ALPHA 0.2</th>\n",
       "      <td>0.7318</td>\n",
       "    </tr>\n",
       "    <tr>\n",
       "      <th>ALPHA 0.4</th>\n",
       "      <td>0.7277</td>\n",
       "    </tr>\n",
       "    <tr>\n",
       "      <th>ALPHA 0.6</th>\n",
       "      <td>0.7227</td>\n",
       "    </tr>\n",
       "    <tr>\n",
       "      <th>ALPHA 0.8</th>\n",
       "      <td>0.7143</td>\n",
       "    </tr>\n",
       "  </tbody>\n",
       "</table>\n",
       "</div>"
      ],
      "text/plain": [
       "              Accuracy\n",
       "Model                 \n",
       "XGBoost         0.7312\n",
       "RandomForest    0.7015\n",
       "ALPHA 0.2       0.7318\n",
       "ALPHA 0.4       0.7277\n",
       "ALPHA 0.6       0.7227\n",
       "ALPHA 0.8       0.7143"
      ]
     },
     "execution_count": 82,
     "metadata": {},
     "output_type": "execute_result"
    }
   ],
   "source": [
    "df.set_index('Model')"
   ]
  },
  {
   "cell_type": "code",
   "execution_count": 67,
   "metadata": {},
   "outputs": [
    {
     "data": {
      "text/plain": [
       "0.731214786236765"
      ]
     },
     "execution_count": 67,
     "metadata": {},
     "output_type": "execute_result"
    }
   ],
   "source": [
    "result_df[result_df['ALPHA'] == 0.4]['XGB_ACC'].mean()"
   ]
  },
  {
   "cell_type": "code",
   "execution_count": null,
   "metadata": {},
   "outputs": [],
   "source": []
  },
  {
   "cell_type": "code",
   "execution_count": 19,
   "metadata": {},
   "outputs": [
    {
     "data": {
      "text/plain": [
       "0.7317531562894243"
      ]
     },
     "execution_count": 19,
     "metadata": {},
     "output_type": "execute_result"
    }
   ],
   "source": [
    "result_df[result_df['ALPHA'] == 0.2]['ACC'].mean()"
   ]
  },
  {
   "cell_type": "code",
   "execution_count": null,
   "metadata": {},
   "outputs": [],
   "source": [
    "result"
   ]
  },
  {
   "cell_type": "code",
   "execution_count": 7,
   "metadata": {},
   "outputs": [],
   "source": [
    "result_df.to_csv('ClassificationAccuracy.csv', index=False)"
   ]
  },
  {
   "cell_type": "code",
   "execution_count": 36,
   "metadata": {},
   "outputs": [
    {
     "data": {
      "text/html": [
       "<div>\n",
       "<style scoped>\n",
       "    .dataframe tbody tr th:only-of-type {\n",
       "        vertical-align: middle;\n",
       "    }\n",
       "\n",
       "    .dataframe tbody tr th {\n",
       "        vertical-align: top;\n",
       "    }\n",
       "\n",
       "    .dataframe thead th {\n",
       "        text-align: right;\n",
       "    }\n",
       "</style>\n",
       "<table border=\"1\" class=\"dataframe\">\n",
       "  <thead>\n",
       "    <tr style=\"text-align: right;\">\n",
       "      <th></th>\n",
       "      <th>ACC</th>\n",
       "    </tr>\n",
       "    <tr>\n",
       "      <th>ALPHA</th>\n",
       "      <th></th>\n",
       "    </tr>\n",
       "  </thead>\n",
       "  <tbody>\n",
       "    <tr>\n",
       "      <th>0.2000</th>\n",
       "      <td>0.7318</td>\n",
       "    </tr>\n",
       "    <tr>\n",
       "      <th>0.4000</th>\n",
       "      <td>0.7277</td>\n",
       "    </tr>\n",
       "    <tr>\n",
       "      <th>0.6000</th>\n",
       "      <td>0.7227</td>\n",
       "    </tr>\n",
       "    <tr>\n",
       "      <th>0.8000</th>\n",
       "      <td>0.7143</td>\n",
       "    </tr>\n",
       "  </tbody>\n",
       "</table>\n",
       "</div>"
      ],
      "text/plain": [
       "          ACC\n",
       "ALPHA        \n",
       "0.2000 0.7318\n",
       "0.4000 0.7277\n",
       "0.6000 0.7227\n",
       "0.8000 0.7143"
      ]
     },
     "execution_count": 36,
     "metadata": {},
     "output_type": "execute_result"
    }
   ],
   "source": [
    "result_df.groupby(['ALPHA']).mean()[['ACC']]"
   ]
  },
  {
   "cell_type": "code",
   "execution_count": 57,
   "metadata": {},
   "outputs": [
    {
     "data": {
      "text/html": [
       "<div>\n",
       "<style scoped>\n",
       "    .dataframe tbody tr th:only-of-type {\n",
       "        vertical-align: middle;\n",
       "    }\n",
       "\n",
       "    .dataframe tbody tr th {\n",
       "        vertical-align: top;\n",
       "    }\n",
       "\n",
       "    .dataframe thead th {\n",
       "        text-align: right;\n",
       "    }\n",
       "</style>\n",
       "<table border=\"1\" class=\"dataframe\">\n",
       "  <thead>\n",
       "    <tr style=\"text-align: right;\">\n",
       "      <th></th>\n",
       "      <th></th>\n",
       "      <th>XGB_ACC</th>\n",
       "      <th>RF_ACC</th>\n",
       "      <th>ACC</th>\n",
       "    </tr>\n",
       "    <tr>\n",
       "      <th>NAME</th>\n",
       "      <th>DAY</th>\n",
       "      <th></th>\n",
       "      <th></th>\n",
       "      <th></th>\n",
       "    </tr>\n",
       "  </thead>\n",
       "  <tbody>\n",
       "    <tr>\n",
       "      <th rowspan=\"4\" valign=\"top\">현대차</th>\n",
       "      <th>5</th>\n",
       "      <td>0.6395</td>\n",
       "      <td>0.6939</td>\n",
       "      <td>0.6633</td>\n",
       "    </tr>\n",
       "    <tr>\n",
       "      <th>20</th>\n",
       "      <td>0.7782</td>\n",
       "      <td>0.7577</td>\n",
       "      <td>0.7782</td>\n",
       "    </tr>\n",
       "    <tr>\n",
       "      <th>60</th>\n",
       "      <td>0.8488</td>\n",
       "      <td>0.7491</td>\n",
       "      <td>0.8419</td>\n",
       "    </tr>\n",
       "    <tr>\n",
       "      <th>120</th>\n",
       "      <td>0.7639</td>\n",
       "      <td>0.7847</td>\n",
       "      <td>0.7674</td>\n",
       "    </tr>\n",
       "  </tbody>\n",
       "</table>\n",
       "</div>"
      ],
      "text/plain": [
       "          XGB_ACC  RF_ACC    ACC\n",
       "NAME DAY                        \n",
       "현대차  5     0.6395  0.6939 0.6633\n",
       "     20    0.7782  0.7577 0.7782\n",
       "     60    0.8488  0.7491 0.8419\n",
       "     120   0.7639  0.7847 0.7674"
      ]
     },
     "execution_count": 57,
     "metadata": {},
     "output_type": "execute_result"
    }
   ],
   "source": [
    "result_df[(result_df['ALPHA'] == 0.2) & (result_df['NAME'] == '현대차')].groupby(['NAME', 'DAY']).mean().drop('ALPHA', axis=1)"
   ]
  },
  {
   "cell_type": "code",
   "execution_count": 111,
   "metadata": {},
   "outputs": [],
   "source": [
    "from datetime import timedelta, date\n",
    "import matplotlib.pyplot as plt\n",
    "import seaborn as sns"
   ]
  },
  {
   "cell_type": "code",
   "execution_count": 42,
   "metadata": {},
   "outputs": [],
   "source": [
    "def accuracy(data, day):\n",
    "    data['shift_Close'] = data['Close'].shift(-day)\n",
    "    data['shift_ma20'] = data['ma20'].shift(-day)\n",
    "    \n",
    "    data['Close_target'] = (data['shift_Close'] - data['Close']).apply(lambda x: 1 if x > 0 else 0)\n",
    "    data['ma20_target'] = (data['shift_ma20'] - data['ma20']).apply(lambda x: 1 if x > 0 else 0)\n",
    "    \n",
    "    acc = accuracy_score(data['Close_target'], data['ma20_target'])\n",
    "    \n",
    "    return acc"
   ]
  },
  {
   "cell_type": "code",
   "execution_count": 32,
   "metadata": {},
   "outputs": [
    {
     "name": "stdout",
     "output_type": "stream",
     "text": [
      "TODAY: 2021-07-08\n",
      "(5969, 6)\n",
      "Preprocessing Done!!\n",
      "StockSign Done!!\n"
     ]
    }
   ],
   "source": [
    "stock_code = pd.read_csv('./KOSPI_200.csv', dtype={'종목코드': str, '종목명': str})[['종목명', '종목코드']]\n",
    "data, code = cls.load_stocks_data('삼성전자', stock_code)\n",
    "\n",
    "stocks = cls.Stocks(data)\n",
    "stocks.preprocessing()\n",
    "data = stocks.stocksign(stocks.data, 20)\n",
    "samsung = stocks.data\n",
    "samsung_acc = accuracy(samsung)"
   ]
  },
  {
   "cell_type": "code",
   "execution_count": 33,
   "metadata": {},
   "outputs": [
    {
     "name": "stdout",
     "output_type": "stream",
     "text": [
      "TODAY: 2021-07-08\n",
      "(5347, 6)\n",
      "Preprocessing Done!!\n",
      "StockSign Done!!\n"
     ]
    }
   ],
   "source": [
    "stock_code = pd.read_csv('./KOSPI_200.csv', dtype={'종목코드': str, '종목명': str})[['종목명', '종목코드']]\n",
    "data, code = cls.load_stocks_data('카카오', stock_code)\n",
    "\n",
    "stocks = cls.Stocks(data)\n",
    "stocks.preprocessing()\n",
    "data = stocks.stocksign(stocks.data, 20)\n",
    "kakao = stocks.data\n",
    "kakao_acc = accuracy(kakao)"
   ]
  },
  {
   "cell_type": "code",
   "execution_count": 34,
   "metadata": {},
   "outputs": [
    {
     "name": "stdout",
     "output_type": "stream",
     "text": [
      "TODAY: 2021-07-08\n",
      "(4996, 6)\n",
      "Preprocessing Done!!\n",
      "StockSign Done!!\n"
     ]
    }
   ],
   "source": [
    "stock_code = pd.read_csv('./KOSPI_200.csv', dtype={'종목코드': str, '종목명': str})[['종목명', '종목코드']]\n",
    "data, code = cls.load_stocks_data('LG화학', stock_code)\n",
    "\n",
    "stocks = cls.Stocks(data)\n",
    "stocks.preprocessing()\n",
    "data = stocks.stocksign(stocks.data, 20)\n",
    "lg = stocks.data\n",
    "lg_acc = accuracy(lg)"
   ]
  },
  {
   "cell_type": "code",
   "execution_count": 35,
   "metadata": {},
   "outputs": [
    {
     "name": "stdout",
     "output_type": "stream",
     "text": [
      "TODAY: 2021-07-08\n",
      "(5969, 6)\n",
      "Preprocessing Done!!\n",
      "StockSign Done!!\n"
     ]
    }
   ],
   "source": [
    "stock_code = pd.read_csv('./KOSPI_200.csv', dtype={'종목코드': str, '종목명': str})[['종목명', '종목코드']]\n",
    "data, code = cls.load_stocks_data('SK하이닉스', stock_code)\n",
    "\n",
    "stocks = cls.Stocks(data)\n",
    "stocks.preprocessing()\n",
    "data = stocks.stocksign(stocks.data, 20)\n",
    "skhynix = stocks.data\n",
    "skhynix_acc = accuracy(skhynix)"
   ]
  },
  {
   "cell_type": "code",
   "execution_count": 195,
   "metadata": {},
   "outputs": [
    {
     "data": {
      "image/png": "[encoded data removed]",
      "text/plain": [
       "<Figure size 1008x576 with 6 Axes>"
      ]
     },
     "metadata": {
      "needs_background": "light"
     },
     "output_type": "display_data"
    }
   ],
   "source": [
    "fig, axs = plt.subplots(figsize=(14, 8), ncols=3)\n",
    "sns.heatmap(samsung.corr()[['Close']].sort_values(by='Close', ascending=False)[:15], cmap='vlag', linewidth=1.5, annot=True, ax=axs[0])\n",
    "sns.heatmap(kakao.corr()[['Close']].sort_values(by='Close', ascending=False)[:15], cmap='vlag', linewidth=1.5, annot=True, ax=axs[1])\n",
    "sns.heatmap(lg.corr()[['Close']].sort_values(by='Close', ascending=False)[:15], cmap='vlag', linewidth=1.5, annot=True, ax=axs[2])\n",
    "\n",
    "plt.subplots_adjust(wspace=0.7)\n",
    "plt.show()"
   ]
  },
  {
   "cell_type": "code",
   "execution_count": null,
   "metadata": {},
   "outputs": [],
   "source": [
    "def accuracy(data, day):\n",
    "    data['shift_Close'] = data['Close'].shift(-day)\n",
    "    data['shift_ma20'] = data['ma20'].shift(-day)\n",
    "    \n",
    "    data['Close_target'] = (data['shift_Close'] - data['Close']).apply(lambda x: 1 if x > 0 else 0)\n",
    "    data['ma20_target'] = (data['shift_ma20'] - data['ma20']).apply(lambda x: 1 if x > 0 else 0)\n",
    "    \n",
    "    acc = accuracy_score(data['Close_target'], data['ma20_target'])\n",
    "    \n",
    "    return acc"
   ]
  },
  {
   "cell_type": "code",
   "execution_count": 45,
   "metadata": {},
   "outputs": [
    {
     "name": "stderr",
     "output_type": "stream",
     "text": [
      "\r",
      "  0%|          | 0/6 [00:00<?, ?it/s]"
     ]
    },
    {
     "name": "stdout",
     "output_type": "stream",
     "text": [
      "Start 삼성전자 Modeling!!\n",
      "TODAY: 2021-07-08\n",
      "(5969, 6)\n",
      "Preprocessing Done!!\n",
      "StockSign Done!!\n",
      "Preprocessing Done!!\n",
      "StockSign Done!!\n",
      "Preprocessing Done!!\n",
      "StockSign Done!!\n"
     ]
    },
    {
     "name": "stderr",
     "output_type": "stream",
     "text": [
      "\r",
      " 17%|█▋        | 1/6 [00:02<00:13,  2.61s/it]"
     ]
    },
    {
     "name": "stdout",
     "output_type": "stream",
     "text": [
      "Preprocessing Done!!\n",
      "StockSign Done!!\n",
      "Start SK하이닉스 Modeling!!\n",
      "TODAY: 2021-07-08\n",
      "(5969, 6)\n",
      "Preprocessing Done!!\n",
      "StockSign Done!!\n",
      "Preprocessing Done!!\n",
      "StockSign Done!!\n",
      "Preprocessing Done!!\n",
      "StockSign Done!!\n"
     ]
    },
    {
     "name": "stderr",
     "output_type": "stream",
     "text": [
      "\r",
      " 33%|███▎      | 2/6 [00:05<00:10,  2.60s/it]"
     ]
    },
    {
     "name": "stdout",
     "output_type": "stream",
     "text": [
      "Preprocessing Done!!\n",
      "StockSign Done!!\n",
      "Start LG화학 Modeling!!\n",
      "TODAY: 2021-07-08\n",
      "(4996, 6)\n",
      "Preprocessing Done!!\n",
      "StockSign Done!!\n",
      "Preprocessing Done!!\n",
      "StockSign Done!!\n",
      "Preprocessing Done!!\n",
      "StockSign Done!!\n"
     ]
    },
    {
     "name": "stderr",
     "output_type": "stream",
     "text": [
      "\r",
      " 50%|█████     | 3/6 [00:07<00:07,  2.52s/it]"
     ]
    },
    {
     "name": "stdout",
     "output_type": "stream",
     "text": [
      "Preprocessing Done!!\n",
      "StockSign Done!!\n",
      "Start 카카오 Modeling!!\n",
      "TODAY: 2021-07-08\n",
      "(5347, 6)\n",
      "Preprocessing Done!!\n",
      "StockSign Done!!\n",
      "Preprocessing Done!!\n",
      "StockSign Done!!\n",
      "Preprocessing Done!!\n",
      "StockSign Done!!\n"
     ]
    },
    {
     "name": "stderr",
     "output_type": "stream",
     "text": [
      "\r",
      " 67%|██████▋   | 4/6 [00:09<00:04,  2.50s/it]"
     ]
    },
    {
     "name": "stdout",
     "output_type": "stream",
     "text": [
      "Preprocessing Done!!\n",
      "StockSign Done!!\n",
      "Start NAVER Modeling!!\n",
      "TODAY: 2021-07-08\n",
      "(4625, 6)\n",
      "Preprocessing Done!!\n",
      "StockSign Done!!\n",
      "Preprocessing Done!!\n",
      "StockSign Done!!\n",
      "Preprocessing Done!!\n",
      "StockSign Done!!\n"
     ]
    },
    {
     "name": "stderr",
     "output_type": "stream",
     "text": [
      "\r",
      " 83%|████████▎ | 5/6 [00:12<00:02,  2.43s/it]"
     ]
    },
    {
     "name": "stdout",
     "output_type": "stream",
     "text": [
      "Preprocessing Done!!\n",
      "StockSign Done!!\n",
      "Start 현대차 Modeling!!\n",
      "TODAY: 2021-07-08\n",
      "(5969, 6)\n",
      "Preprocessing Done!!\n",
      "StockSign Done!!\n",
      "Preprocessing Done!!\n",
      "StockSign Done!!\n",
      "Preprocessing Done!!\n",
      "StockSign Done!!\n"
     ]
    },
    {
     "name": "stderr",
     "output_type": "stream",
     "text": [
      "100%|██████████| 6/6 [00:14<00:00,  2.47s/it]"
     ]
    },
    {
     "name": "stdout",
     "output_type": "stream",
     "text": [
      "Preprocessing Done!!\n",
      "StockSign Done!!\n"
     ]
    },
    {
     "name": "stderr",
     "output_type": "stream",
     "text": [
      "\n"
     ]
    }
   ],
   "source": [
    "names_lst = ['삼성전자', 'SK하이닉스', 'LG화학', '카카오', 'NAVER', '현대차']\n",
    "days_lst = [5, 20, 60, 120]\n",
    "\n",
    "stock_code = pd.read_csv('./KOSPI_200.csv', dtype={'종목코드': str, '종목명': str})[['종목명', '종목코드']]\n",
    "acc_df = pd.DataFrame(columns=['Name', 'MA5_Accuracy', 'MA20_Accuracy', 'MA60_Accuracy', 'MA120_Accuracy'])\n",
    "\n",
    "for name in tqdm(names_lst):\n",
    "    print(f'Start {name} Modeling!!')\n",
    "    data, code = cls.load_stocks_data(f'{name}', stock_code)\n",
    "    acc_lst = []\n",
    "    \n",
    "    for day in days_lst:\n",
    "        stocks = cls.Stocks(data)\n",
    "        stocks.preprocessing()\n",
    "        data = stocks.stocksign(stocks.data, day)\n",
    "        \n",
    "        acc = accuracy(stocks.data, day)\n",
    "        acc_lst.append(acc)\n",
    "    \n",
    "    acc_df = acc_df.append({'Name':name,\n",
    "                            'MA5_Accuracy':acc_lst[0],\n",
    "                            'MA20_Accuracy':acc_lst[1],\n",
    "                            'MA60_Accuracy':acc_lst[2],\n",
    "                            'MA120_Accuracy':acc_lst[3]}, ignore_index=True)"
   ]
  },
  {
   "cell_type": "code",
   "execution_count": 47,
   "metadata": {},
   "outputs": [
    {
     "data": {
      "text/html": [
       "<div>\n",
       "<style scoped>\n",
       "    .dataframe tbody tr th:only-of-type {\n",
       "        vertical-align: middle;\n",
       "    }\n",
       "\n",
       "    .dataframe tbody tr th {\n",
       "        vertical-align: top;\n",
       "    }\n",
       "\n",
       "    .dataframe thead th {\n",
       "        text-align: right;\n",
       "    }\n",
       "</style>\n",
       "<table border=\"1\" class=\"dataframe\">\n",
       "  <thead>\n",
       "    <tr style=\"text-align: right;\">\n",
       "      <th></th>\n",
       "      <th>Name</th>\n",
       "      <th>MA5_Accuracy</th>\n",
       "      <th>MA20_Accuracy</th>\n",
       "      <th>MA60_Accuracy</th>\n",
       "      <th>MA120_Accuracy</th>\n",
       "    </tr>\n",
       "  </thead>\n",
       "  <tbody>\n",
       "    <tr>\n",
       "      <th>0</th>\n",
       "      <td>삼성전자</td>\n",
       "      <td>0.6063</td>\n",
       "      <td>0.7279</td>\n",
       "      <td>0.8783</td>\n",
       "      <td>0.8907</td>\n",
       "    </tr>\n",
       "    <tr>\n",
       "      <th>1</th>\n",
       "      <td>SK하이닉스</td>\n",
       "      <td>0.6157</td>\n",
       "      <td>0.7316</td>\n",
       "      <td>0.8659</td>\n",
       "      <td>0.9008</td>\n",
       "    </tr>\n",
       "    <tr>\n",
       "      <th>2</th>\n",
       "      <td>LG화학</td>\n",
       "      <td>0.5944</td>\n",
       "      <td>0.7240</td>\n",
       "      <td>0.8623</td>\n",
       "      <td>0.9117</td>\n",
       "    </tr>\n",
       "    <tr>\n",
       "      <th>3</th>\n",
       "      <td>카카오</td>\n",
       "      <td>0.6019</td>\n",
       "      <td>0.7156</td>\n",
       "      <td>0.8846</td>\n",
       "      <td>0.9300</td>\n",
       "    </tr>\n",
       "    <tr>\n",
       "      <th>4</th>\n",
       "      <td>NAVER</td>\n",
       "      <td>0.5898</td>\n",
       "      <td>0.7432</td>\n",
       "      <td>0.8555</td>\n",
       "      <td>0.9094</td>\n",
       "    </tr>\n",
       "    <tr>\n",
       "      <th>5</th>\n",
       "      <td>현대차</td>\n",
       "      <td>0.5899</td>\n",
       "      <td>0.7228</td>\n",
       "      <td>0.8518</td>\n",
       "      <td>0.8970</td>\n",
       "    </tr>\n",
       "  </tbody>\n",
       "</table>\n",
       "</div>"
      ],
      "text/plain": [
       "     Name  MA5_Accuracy  MA20_Accuracy  MA60_Accuracy  MA120_Accuracy\n",
       "0    삼성전자        0.6063         0.7279         0.8783          0.8907\n",
       "1  SK하이닉스        0.6157         0.7316         0.8659          0.9008\n",
       "2    LG화학        0.5944         0.7240         0.8623          0.9117\n",
       "3     카카오        0.6019         0.7156         0.8846          0.9300\n",
       "4   NAVER        0.5898         0.7432         0.8555          0.9094\n",
       "5     현대차        0.5899         0.7228         0.8518          0.8970"
      ]
     },
     "execution_count": 47,
     "metadata": {},
     "output_type": "execute_result"
    }
   ],
   "source": [
    "acc_df"
   ]
  },
  {
   "cell_type": "code",
   "execution_count": null,
   "metadata": {},
   "outputs": [],
   "source": []
  },
  {
   "cell_type": "code",
   "execution_count": null,
   "metadata": {},
   "outputs": [],
   "source": []
  }
 ],
 "metadata": {
  "kernelspec": {
   "display_name": "Python 3.8.5 64-bit ('base': conda)",
   "language": "python",
   "name": "python385jvsc74a57bd0dca0ade3e726a953b501b15e8e990130d2b7799f14cfd9f4271676035ebe5511"
  },
  "language_info": {
   "codemirror_mode": {
    "name": "ipython",
    "version": 3
   },
   "file_extension": ".py",
   "mimetype": "text/x-python",
   "name": "python",
   "nbconvert_exporter": "python",
   "pygments_lexer": "ipython3",
   "version": "3.8.5"
  },
  "metadata": {
   "interpreter": {
    "hash": "dca0ade3e726a953b501b15e8e990130d2b7799f14cfd9f4271676035ebe5511"
   }
  }
 },
 "nbformat": 4,
 "nbformat_minor": 2
}
