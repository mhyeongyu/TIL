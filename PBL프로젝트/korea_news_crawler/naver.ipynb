{
 "metadata": {
  "language_info": {
   "codemirror_mode": {
    "name": "ipython",
    "version": 3
   },
   "file_extension": ".py",
   "mimetype": "text/x-python",
   "name": "python",
   "nbconvert_exporter": "python",
   "pygments_lexer": "ipython3",
   "version": "3.9.2"
  },
  "orig_nbformat": 4,
  "kernelspec": {
   "name": "python3",
   "display_name": "Python 3.9.2 64-bit"
  },
  "interpreter": {
   "hash": "dcacb0086e9a4f4eabd41c33bf4faac5ea0a3337ed3f5eff0680afa930572c04"
  }
 },
 "nbformat": 4,
 "nbformat_minor": 2,
 "cells": [
  {
   "cell_type": "code",
   "execution_count": 1,
   "metadata": {},
   "outputs": [
    {
     "output_type": "stream",
     "name": "stdout",
     "text": [
      "{'start_year': 2020, 'start_month': 1, 'end_year': 2020, 'end_month': 3}\n"
     ]
    }
   ],
   "source": [
    "from korea_news_crawler.articlecrawler import ArticleCrawler\n",
    "\n",
    "Crawler = ArticleCrawler()\n",
    "Crawler.set_category('금융', '증권', '산업_재계', '중기_벤처', '부동산', '글로벌경제', '생활경제', '경제 일반')\n",
    "Crawler.set_date_range(2020, 1, 2020, 3)\n",
    "Crawler.start()"
   ]
  },
  {
   "cell_type": "code",
   "execution_count": null,
   "metadata": {},
   "outputs": [],
   "source": []
  }
 ]
}