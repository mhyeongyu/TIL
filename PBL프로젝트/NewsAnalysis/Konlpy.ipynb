{
 "cells": [
  {
   "cell_type": "code",
   "execution_count": 1,
   "id": "7ba01496",
   "metadata": {},
   "outputs": [],
   "source": [
    "import os\n",
    "import re\n",
    "import warnings\n",
    "warnings.filterwarnings('ignore')\n",
    "from tqdm import tqdm\n",
    "from datetime import timedelta\n",
    "import numpy as np\n",
    "import pandas as pd\n",
    "pd.set_option('display.max_columns', None)\n",
    "import matplotlib.pyplot as plt\n",
    "\n",
    "from konlpy.tag import Okt\n",
    "from nltk.tokenize import word_tokenize, sent_tokenize\n",
    "from gensim.models import word2vec\n",
    "from sklearn.manifold import TSNE"
   ]
  },
  {
   "cell_type": "code",
   "execution_count": 2,
   "id": "74606f0d",
   "metadata": {},
   "outputs": [
    {
     "name": "stderr",
     "output_type": "stream",
     "text": [
      "189it [00:34,  5.47it/s]\n"
     ]
    }
   ],
   "source": [
    "data_dic = {}\n",
    "idx = 0\n",
    "\n",
    "for curDir, dirs, files in tqdm(os.walk(\"../4.프로젝트/NewsData\")):\n",
    "    for f in files:\n",
    "        try:\n",
    "            path = os.path.join(curDir, f)\n",
    "            data = pd.read_csv(path, encoding='cp949')\n",
    "            data_dic[idx] = data\n",
    "        except:\n",
    "            path = os.path.join(curDir, f)\n",
    "            print(f'========={path} ERROR=========')\n",
    "        idx += 1"
   ]
  },
  {
   "cell_type": "code",
   "execution_count": 3,
   "id": "7a298c7b",
   "metadata": {},
   "outputs": [],
   "source": [
    "df = pd.concat(data_dic).reset_index(drop=True)\n",
    "df['Date'] = df['Date'].apply(lambda x: x.split('.')[0] + '-' + x.split('.')[1] + '-' + x.split('.')[2])\n",
    "df['Date'] = pd.to_datetime(df['Date'])\n",
    "\n",
    "df['Title_Article'] = df['Title'] + df['Article']\n",
    "df = df.drop(['Title', 'Article'], axis=1)"
   ]
  },
  {
   "cell_type": "code",
   "execution_count": null,
   "id": "2da70655",
   "metadata": {},
   "outputs": [],
   "source": [
    "def preprocessing(data, okt, remove_stopwords=False, stop_words=[]):\n",
    "    data_text = re.sub('[^가-힣ㄱ-ㅎㅏ-ㅣ\\\\s]', '', data)\n",
    "#     word_data = okt.morphs(data_text, stem=True)   # stem, 어간 추출 (해야지 -> 하다)로 변환\n",
    "#     word_data = okt.phrases(data_text)    \n",
    "    word_data = okt.nouns(data_text)\n",
    "    \n",
    "    if remove_stopwords:\n",
    "        word_data = [token for token in word_data if not token in stop_words and len(token) != 1]\n",
    "    \n",
    "    return word_data"
   ]
  },
  {
   "cell_type": "code",
   "execution_count": 5,
   "id": "03d0ca0f",
   "metadata": {},
   "outputs": [
    {
     "name": "stderr",
     "output_type": "stream",
     "text": [
      "100%|██████████| 783135/783135 [24:56<00:00, 523.43it/s]\n"
     ]
    }
   ],
   "source": [
    "okt = Okt()\n",
    "clean_data = []\n",
    "\n",
    "for text in tqdm(df['Title']):\n",
    "    clean_data.append(preprocessing(text, okt))"
   ]
  },
  {
   "cell_type": "code",
   "execution_count": 9,
   "id": "00ed3a58",
   "metadata": {},
   "outputs": [],
   "source": [
    "df['Title_Token'] = clean_data\n",
    "df = df.drop(['Title', 'Article'], axis=1)"
   ]
  },
  {
   "cell_type": "code",
   "execution_count": 13,
   "id": "845ec830",
   "metadata": {},
   "outputs": [],
   "source": [
    "df.to_csv('./Data/KonlpyData.csv', index=False)"
   ]
  }
 ],
 "metadata": {
  "kernelspec": {
   "display_name": "py38_default",
   "language": "python",
   "name": "conda-env-py38_default-py"
  },
  "language_info": {
   "codemirror_mode": {
    "name": "ipython",
    "version": 3
   },
   "file_extension": ".py",
   "mimetype": "text/x-python",
   "name": "python",
   "nbconvert_exporter": "python",
   "pygments_lexer": "ipython3",
   "version": "3.8.10"
  }
 },
 "nbformat": 4,
 "nbformat_minor": 5
}
