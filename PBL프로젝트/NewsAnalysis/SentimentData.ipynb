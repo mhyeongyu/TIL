{
 "cells": [
  {
   "cell_type": "code",
   "execution_count": 145,
   "id": "1a6593a7",
   "metadata": {},
   "outputs": [],
   "source": [
    "import os\n",
    "import re\n",
    "import warnings\n",
    "warnings.filterwarnings('ignore')\n",
    "from tqdm import tqdm\n",
    "from datetime import timedelta\n",
    "import numpy as np\n",
    "import pandas as pd\n",
    "pd.set_option('display.max_columns', None)\n",
    "pd.options.display.float_format = '{:.4f}'.format\n",
    "import matplotlib.pyplot as plt\n",
    "import seaborn as sns\n",
    "sns.set_theme(style=\"whitegrid\")\n",
    "\n",
    "from konlpy.tag import Okt\n",
    "from collections import Counter\n",
    "from sklearn.preprocessing import StandardScaler, MinMaxScaler"
   ]
  },
  {
   "cell_type": "code",
   "execution_count": 146,
   "id": "84f36a25",
   "metadata": {
    "scrolled": true
   },
   "outputs": [
    {
     "name": "stderr",
     "output_type": "stream",
     "text": [
      "381it [00:56,  6.75it/s]\n"
     ]
    }
   ],
   "source": [
    "data_dic = {}\n",
    "idx = 0\n",
    "\n",
    "for curDir, dirs, files in tqdm(os.walk(\"./NewsData\")):\n",
    "    for f in files:\n",
    "        try:\n",
    "            path = os.path.join(curDir, f)\n",
    "            data = pd.read_csv(path, encoding='cp949')\n",
    "            data_dic[idx] = data\n",
    "        except:\n",
    "            path = os.path.join(curDir, f)\n",
    "            print(f'========={path} ERROR=========')\n",
    "        idx += 1"
   ]
  },
  {
   "cell_type": "code",
   "execution_count": 147,
   "id": "f7540841",
   "metadata": {},
   "outputs": [],
   "source": [
    "# df = pd.read_csv('./Data/Khaiii.csv')\n",
    "# # df['Date'] = pd.to_datetime(df['Date'])"
   ]
  },
  {
   "cell_type": "code",
   "execution_count": 148,
   "id": "7ccf8982-4e81-49e2-ac5a-3ccdc51b1c31",
   "metadata": {},
   "outputs": [],
   "source": [
    "positive = pd.read_csv('../4.프로젝트/Data/Positive.csv', encoding='cp949')\n",
    "negative = pd.read_csv('../4.프로젝트/Data/Negative.csv', encoding='cp949')\n",
    "\n",
    "positive.columns = ['word', 'value']\n",
    "negative.columns = ['word', 'value']\n",
    "\n",
    "positive_dict = positive.set_index('word').T.to_dict('records')[0]\n",
    "negative_dict = negative.set_index('word').T.to_dict('records')[0]"
   ]
  },
  {
   "cell_type": "code",
   "execution_count": 149,
   "id": "050bef32",
   "metadata": {},
   "outputs": [],
   "source": [
    "# df = pd.concat(data_dic).reset_index(drop=True)\n",
    "\n",
    "# df['Date'] = df['Date'].apply(lambda x: x.split('.')[0] + '-' + x.split('.')[1] + '-' + x.split('.')[2])\n",
    "# df['Date'] = pd.to_datetime(df['Date'])\n",
    "# df['Title_Article'] = df['Title'] + df['Article']"
   ]
  },
  {
   "cell_type": "code",
   "execution_count": 150,
   "id": "cecc4b9e",
   "metadata": {},
   "outputs": [],
   "source": [
    "def positive_sentiment(data, columns, positive_dict=positive_dict, negative_dict=negative_dict):\n",
    "    \n",
    "    positive = []\n",
    "\n",
    "    for article in tqdm(data[columns]):\n",
    "        \n",
    "        positive_score = 0\n",
    "        article = article.split(' ')\n",
    "        \n",
    "        for word in article:\n",
    "            try:\n",
    "                p_score = positive_dict[word]\n",
    "                positive_score += p_score\n",
    "            except:\n",
    "                None\n",
    "\n",
    "        positive.append(positive_score)\n",
    "\n",
    "    positive_sr = pd.Series(positive)\n",
    "        \n",
    "    return positive_sr"
   ]
  },
  {
   "cell_type": "code",
   "execution_count": 151,
   "id": "5d8836ea",
   "metadata": {},
   "outputs": [],
   "source": [
    "def negative_sentiment(data, columns, positive_dict=positive_dict, negative_dict=negative_dict):\n",
    "    \n",
    "    negative = []\n",
    "\n",
    "    for article in tqdm(data[columns]):\n",
    "        \n",
    "        negative_score = 0\n",
    "        article = article.split(' ')\n",
    "        \n",
    "        for word in article:\n",
    "            try:\n",
    "                n_score = negative_dict[word]\n",
    "                negative_score += n_score\n",
    "            except:\n",
    "                None\n",
    "\n",
    "        negative.append(negative_score)\n",
    "    \n",
    "    negative_sr = pd.Series(negative)\n",
    "    \n",
    "    return negative_sr"
   ]
  },
  {
   "cell_type": "code",
   "execution_count": 152,
   "id": "af466787",
   "metadata": {},
   "outputs": [
    {
     "name": "stderr",
     "output_type": "stream",
     "text": [
      "100%|██████████| 1584147/1584147 [01:21<00:00, 19527.26it/s]\n",
      "100%|██████████| 1584147/1584147 [01:22<00:00, 19156.53it/s]\n"
     ]
    }
   ],
   "source": [
    "positive_sr = positive_sentiment(df, 'Title_Article')\n",
    "negative_sr = negative_sentiment(df, 'Title_Article')\n",
    "\n",
    "sentiment_df = df.copy()"
   ]
  },
  {
   "cell_type": "code",
   "execution_count": 153,
   "id": "a98f152b",
   "metadata": {
    "scrolled": true
   },
   "outputs": [
    {
     "name": "stdout",
     "output_type": "stream",
     "text": [
      "198223\n",
      "621364\n"
     ]
    }
   ],
   "source": [
    "print(positive_sr[(positive_sr == 0)].count())\n",
    "print(negative_sr[(negative_sr == 0)].count())"
   ]
  },
  {
   "cell_type": "code",
   "execution_count": 154,
   "id": "7695426a",
   "metadata": {},
   "outputs": [],
   "source": [
    "sentiment_df['positive_score'] = positive_sr\n",
    "sentiment_df['negative_score'] = negative_sr"
   ]
  },
  {
   "cell_type": "code",
   "execution_count": 155,
   "id": "12a0c7b0",
   "metadata": {},
   "outputs": [],
   "source": [
    "sentiment_df = sentiment_df[sentiment_df['positive_score'] != 0]\n",
    "sentiment_df = sentiment_df[sentiment_df['negative_score'] != 0]"
   ]
  },
  {
   "cell_type": "code",
   "execution_count": 156,
   "id": "4b396ae0",
   "metadata": {},
   "outputs": [],
   "source": [
    "sentiment_df['sentiment_score'] = sentiment_df['positive_score'] - sentiment_df['negative_score']"
   ]
  },
  {
   "cell_type": "code",
   "execution_count": 157,
   "id": "6d4da129",
   "metadata": {},
   "outputs": [
    {
     "data": {
      "text/html": [
       "<div>\n",
       "<style scoped>\n",
       "    .dataframe tbody tr th:only-of-type {\n",
       "        vertical-align: middle;\n",
       "    }\n",
       "\n",
       "    .dataframe tbody tr th {\n",
       "        vertical-align: top;\n",
       "    }\n",
       "\n",
       "    .dataframe thead th {\n",
       "        text-align: right;\n",
       "    }\n",
       "</style>\n",
       "<table border=\"1\" class=\"dataframe\">\n",
       "  <thead>\n",
       "    <tr style=\"text-align: right;\">\n",
       "      <th></th>\n",
       "      <th>positive_score</th>\n",
       "      <th>negative_score</th>\n",
       "    </tr>\n",
       "  </thead>\n",
       "  <tbody>\n",
       "    <tr>\n",
       "      <th>count</th>\n",
       "      <td>896293.0000</td>\n",
       "      <td>896293.0000</td>\n",
       "    </tr>\n",
       "    <tr>\n",
       "      <th>mean</th>\n",
       "      <td>6.5151</td>\n",
       "      <td>3.6126</td>\n",
       "    </tr>\n",
       "    <tr>\n",
       "      <th>std</th>\n",
       "      <td>5.9708</td>\n",
       "      <td>4.0569</td>\n",
       "    </tr>\n",
       "    <tr>\n",
       "      <th>min</th>\n",
       "      <td>0.3400</td>\n",
       "      <td>0.3400</td>\n",
       "    </tr>\n",
       "    <tr>\n",
       "      <th>25%</th>\n",
       "      <td>2.3580</td>\n",
       "      <td>0.8400</td>\n",
       "    </tr>\n",
       "    <tr>\n",
       "      <th>50%</th>\n",
       "      <td>4.8100</td>\n",
       "      <td>2.1300</td>\n",
       "    </tr>\n",
       "    <tr>\n",
       "      <th>75%</th>\n",
       "      <td>8.8020</td>\n",
       "      <td>4.7180</td>\n",
       "    </tr>\n",
       "    <tr>\n",
       "      <th>max</th>\n",
       "      <td>125.5380</td>\n",
       "      <td>93.1420</td>\n",
       "    </tr>\n",
       "  </tbody>\n",
       "</table>\n",
       "</div>"
      ],
      "text/plain": [
       "       positive_score  negative_score\n",
       "count     896293.0000     896293.0000\n",
       "mean           6.5151          3.6126\n",
       "std            5.9708          4.0569\n",
       "min            0.3400          0.3400\n",
       "25%            2.3580          0.8400\n",
       "50%            4.8100          2.1300\n",
       "75%            8.8020          4.7180\n",
       "max          125.5380         93.1420"
      ]
     },
     "execution_count": 157,
     "metadata": {},
     "output_type": "execute_result"
    }
   ],
   "source": [
    "sentiment_df[['positive_score', 'negative_score']].describe()"
   ]
  },
  {
   "cell_type": "code",
   "execution_count": 143,
   "id": "d6de0f8b-bc46-4c09-83d6-10a6e06e34e7",
   "metadata": {},
   "outputs": [
    {
     "data": {
      "text/html": [
       "<div>\n",
       "<style scoped>\n",
       "    .dataframe tbody tr th:only-of-type {\n",
       "        vertical-align: middle;\n",
       "    }\n",
       "\n",
       "    .dataframe tbody tr th {\n",
       "        vertical-align: top;\n",
       "    }\n",
       "\n",
       "    .dataframe thead th {\n",
       "        text-align: right;\n",
       "    }\n",
       "</style>\n",
       "<table border=\"1\" class=\"dataframe\">\n",
       "  <thead>\n",
       "    <tr style=\"text-align: right;\">\n",
       "      <th></th>\n",
       "      <th>sentiment_score</th>\n",
       "    </tr>\n",
       "  </thead>\n",
       "  <tbody>\n",
       "    <tr>\n",
       "      <th>count</th>\n",
       "      <td>896293.0000</td>\n",
       "    </tr>\n",
       "    <tr>\n",
       "      <th>mean</th>\n",
       "      <td>2.9024</td>\n",
       "    </tr>\n",
       "    <tr>\n",
       "      <th>std</th>\n",
       "      <td>6.2771</td>\n",
       "    </tr>\n",
       "    <tr>\n",
       "      <th>min</th>\n",
       "      <td>-72.7560</td>\n",
       "    </tr>\n",
       "    <tr>\n",
       "      <th>25%</th>\n",
       "      <td>-0.3020</td>\n",
       "    </tr>\n",
       "    <tr>\n",
       "      <th>50%</th>\n",
       "      <td>1.9780</td>\n",
       "    </tr>\n",
       "    <tr>\n",
       "      <th>75%</th>\n",
       "      <td>5.6080</td>\n",
       "    </tr>\n",
       "    <tr>\n",
       "      <th>max</th>\n",
       "      <td>106.0440</td>\n",
       "    </tr>\n",
       "  </tbody>\n",
       "</table>\n",
       "</div>"
      ],
      "text/plain": [
       "       sentiment_score\n",
       "count      896293.0000\n",
       "mean            2.9024\n",
       "std             6.2771\n",
       "min           -72.7560\n",
       "25%            -0.3020\n",
       "50%             1.9780\n",
       "75%             5.6080\n",
       "max           106.0440"
      ]
     },
     "execution_count": 143,
     "metadata": {},
     "output_type": "execute_result"
    }
   ],
   "source": [
    "sentiment_df[['sentiment_score']].describe()"
   ]
  },
  {
   "cell_type": "code",
   "execution_count": 144,
   "id": "7e281212",
   "metadata": {
    "scrolled": false
   },
   "outputs": [
    {
     "data": {
      "image/png": "[encoded data removed]",
      "text/plain": [
       "<Figure size 648x360 with 1 Axes>"
      ]
     },
     "metadata": {},
     "output_type": "display_data"
    }
   ],
   "source": [
    "plt.figure(figsize=(9, 5))\n",
    "\n",
    "\n",
    "sns.distplot(sentiment_df['positive_score'], \n",
    "             hist_kws={'alpha':1}, \n",
    "             kde_kws={'linewidth': 2, 'alpha':1},\n",
    "             label='Positive', color='red', rug=True)\n",
    "\n",
    "sns.distplot(sentiment_df['negative_score'], \n",
    "             hist_kws={'alpha':0.4}, \n",
    "             kde_kws={'linewidth': 2, 'alpha':0.5},\n",
    "             label='Negative', color='blue', rug=True)\n",
    "\n",
    "plt.xlim(-5, 60)\n",
    "plt.legend()\n",
    "plt.title('SentimentScore Distribution')\n",
    "plt.show()"
   ]
  },
  {
   "cell_type": "code",
   "execution_count": 129,
   "id": "fbf5527b",
   "metadata": {},
   "outputs": [
    {
     "data": {
      "image/png": "[encoded data removed]",
      "text/plain": [
       "<Figure size 360x504 with 1 Axes>"
      ]
     },
     "metadata": {},
     "output_type": "display_data"
    }
   ],
   "source": [
    "plt.figure(figsize=(5,7))\n",
    "sns.boxplot(y=final_df['sentiment_score'], palette='rainbow', linewidth=3, dodge=False)\n",
    "# sns.swarmplot(y='sentiment_score', data=final_df.sample(5000), color='k', alpha=0.5)\n",
    "plt.show()"
   ]
  },
  {
   "cell_type": "code",
   "execution_count": 99,
   "id": "9ba42e09",
   "metadata": {},
   "outputs": [],
   "source": [
    "iqr = np.quantile(sentiment_df['sentiment_score'], 0.75) - np.quantile(sentiment_df['sentiment_score'], 0.25)\n",
    "\n",
    "max_value = np.quantile(sentiment_df['sentiment_score'], 0.75) + (1.5 * iqr)\n",
    "min_value = np.quantile(sentiment_df['sentiment_score'], 0.25) - (1.5 * iqr)"
   ]
  },
  {
   "cell_type": "code",
   "execution_count": 100,
   "id": "0a5ee8a1",
   "metadata": {},
   "outputs": [],
   "source": [
    "positive_df = sentiment_df[(sentiment_df['sentiment_score'] <= max_value) & (sentiment_df['sentiment_score'] > np.quantile(sentiment_df['sentiment_score'], 0.75))]\n",
    "negative_df = sentiment_df[(sentiment_df['sentiment_score'] >= min_value) & (sentiment_df['sentiment_score'] < np.quantile(sentiment_df['sentiment_score'], 0.25))]"
   ]
  },
  {
   "cell_type": "code",
   "execution_count": 101,
   "id": "ddfd8d57",
   "metadata": {},
   "outputs": [
    {
     "name": "stdout",
     "output_type": "stream",
     "text": [
      "(183297, 7)\n",
      "(206194, 7)\n"
     ]
    }
   ],
   "source": [
    "print(positive_df.shape)\n",
    "print(negative_df.shape)"
   ]
  },
  {
   "cell_type": "code",
   "execution_count": 102,
   "id": "1f07e9f6",
   "metadata": {},
   "outputs": [],
   "source": [
    "positive_df = positive_df.sample(50000)\n",
    "negative_df = negative_df.sample(50000)"
   ]
  },
  {
   "cell_type": "code",
   "execution_count": 103,
   "id": "b5d8b383",
   "metadata": {},
   "outputs": [],
   "source": [
    "final_positive = positive_df[['Title_Article', 'sentiment_score']]\n",
    "final_negative = negative_df[['Title_Article', 'sentiment_score']]\n",
    "\n",
    "final_positive['sentiment'] = 1\n",
    "final_negative['sentiment'] = 0"
   ]
  },
  {
   "cell_type": "code",
   "execution_count": 91,
   "id": "312a93d0",
   "metadata": {},
   "outputs": [],
   "source": [
    "final_positive = final_positive.drop(['sentiment_score'], axis=1)\n",
    "final_negative = final_negative.drop(['sentiment_score'], axis=1)"
   ]
  },
  {
   "cell_type": "code",
   "execution_count": 104,
   "id": "73c9303b",
   "metadata": {},
   "outputs": [],
   "source": [
    "final_df = pd.concat([final_positive, final_negative]).sample(frac=1).reset_index(drop=True)"
   ]
  },
  {
   "cell_type": "code",
   "execution_count": null,
   "id": "67c3625d-db59-40f7-9914-1eee75e51281",
   "metadata": {
    "scrolled": true
   },
   "outputs": [],
   "source": [
    "final_df.to_csv('SentimentData.csv', index=False)"
   ]
  }
 ],
 "metadata": {
  "kernelspec": {
   "display_name": "py38_default",
   "language": "python",
   "name": "conda-env-py38_default-py"
  },
  "language_info": {
   "codemirror_mode": {
    "name": "ipython",
    "version": 3
   },
   "file_extension": ".py",
   "mimetype": "text/x-python",
   "name": "python",
   "nbconvert_exporter": "python",
   "pygments_lexer": "ipython3",
   "version": "3.8.10"
  }
 },
 "nbformat": 4,
 "nbformat_minor": 5
}
