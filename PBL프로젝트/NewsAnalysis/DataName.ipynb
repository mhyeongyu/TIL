{
 "cells": [
  {
   "cell_type": "code",
   "execution_count": 1,
   "id": "7a1bdbad",
   "metadata": {},
   "outputs": [],
   "source": [
    "import os\n",
    "import re\n",
    "import warnings\n",
    "warnings.filterwarnings('ignore')\n",
    "from tqdm import tqdm\n",
    "import numpy as np\n",
    "import pandas as pd\n",
    "pd.set_option('display.max_columns', None)\n",
    "from khaiii import KhaiiiApi"
   ]
  },
  {
   "cell_type": "code",
   "execution_count": 2,
   "id": "e6e57624",
   "metadata": {},
   "outputs": [],
   "source": [
    "# df = pd.read_csv('./Data/Khaiii.csv')\n",
    "\n",
    "names = pd.read_csv('../6.프로젝트/Data/KOSPI_200.csv')[['종목명']]\n",
    "names = names.replace({'대상':'대상그룹',\n",
    "                       'NAVER':'네이버'})\n",
    "names = names.values.reshape(-1).tolist()"
   ]
  },
  {
   "cell_type": "code",
   "execution_count": 3,
   "id": "80b3ef7f",
   "metadata": {},
   "outputs": [
    {
     "name": "stderr",
     "output_type": "stream",
     "text": [
      "381it [01:01,  6.15it/s]\n"
     ]
    }
   ],
   "source": [
    "data_dic = {}\n",
    "idx = 0\n",
    "\n",
    "for curDir, dirs, files in tqdm(os.walk(\"./NewsData\")):\n",
    "    for f in files:\n",
    "        try:\n",
    "            path = os.path.join(curDir, f)\n",
    "            data = pd.read_csv(path, encoding='cp949')\n",
    "            data_dic[idx] = data\n",
    "        except:\n",
    "            path = os.path.join(curDir, f)\n",
    "            print(f'========={path} ERROR=========')\n",
    "        idx += 1"
   ]
  },
  {
   "cell_type": "code",
   "execution_count": 4,
   "id": "1f0b0e2c",
   "metadata": {},
   "outputs": [],
   "source": [
    "df = pd.concat(data_dic).reset_index(drop=True)"
   ]
  },
  {
   "cell_type": "code",
   "execution_count": 5,
   "id": "83304410",
   "metadata": {},
   "outputs": [],
   "source": [
    "df['Title_Article'] = df['Title'] + df['Article']"
   ]
  },
  {
   "cell_type": "code",
   "execution_count": 6,
   "id": "e908b5f8",
   "metadata": {},
   "outputs": [
    {
     "data": {
      "text/html": [
       "<div>\n",
       "<style scoped>\n",
       "    .dataframe tbody tr th:only-of-type {\n",
       "        vertical-align: middle;\n",
       "    }\n",
       "\n",
       "    .dataframe tbody tr th {\n",
       "        vertical-align: top;\n",
       "    }\n",
       "\n",
       "    .dataframe thead th {\n",
       "        text-align: right;\n",
       "    }\n",
       "</style>\n",
       "<table border=\"1\" class=\"dataframe\">\n",
       "  <thead>\n",
       "    <tr style=\"text-align: right;\">\n",
       "      <th></th>\n",
       "      <th>Date</th>\n",
       "      <th>Category</th>\n",
       "      <th>Media</th>\n",
       "      <th>Title</th>\n",
       "      <th>Article</th>\n",
       "      <th>Title_Article</th>\n",
       "    </tr>\n",
       "  </thead>\n",
       "  <tbody>\n",
       "    <tr>\n",
       "      <th>0</th>\n",
       "      <td>2021.02.19. 오후 11:27</td>\n",
       "      <td>증권</td>\n",
       "      <td>한국경제TV</td>\n",
       "      <td>NH증권 하나은행 옵티머스 첫 제재심 결론 못내 내달 일 속개</td>\n",
       "      <td>이민재 금융감독원이 일 옵티머스자산운용 펀드 최대 판매사인 NH투자증권과 수탁사인...</td>\n",
       "      <td>NH증권 하나은행 옵티머스 첫 제재심 결론 못내 내달 일 속개 이민재 금융감독원이 ...</td>\n",
       "    </tr>\n",
       "    <tr>\n",
       "      <th>1</th>\n",
       "      <td>2021.02.19. 오후 11:17</td>\n",
       "      <td>증권</td>\n",
       "      <td>한국경제</td>\n",
       "      <td>대어가 될 유망 스팩SPAC 총정리 주코노미TV</td>\n",
       "      <td>미국 증시에서 스팩 SPAC 기업인수목적회사 열풍이 더욱 뜨거워지고 있습니다 특히 ...</td>\n",
       "      <td>대어가 될 유망 스팩SPAC 총정리 주코노미TV미국 증시에서 스팩 SPAC 기업인수...</td>\n",
       "    </tr>\n",
       "    <tr>\n",
       "      <th>2</th>\n",
       "      <td>2021.02.19. 오후 10:04</td>\n",
       "      <td>증권</td>\n",
       "      <td>아시아경제</td>\n",
       "      <td>장단기 금리 차 년 만에 최대 개인 순매수세는 지속</td>\n",
       "      <td>이민지 장단기 금리 차가 년 만에 최대 수준으로 벌어졌다 경기회복과 물가 상승에 ...</td>\n",
       "      <td>장단기 금리 차 년 만에 최대 개인 순매수세는 지속 이민지 장단기 금리 차가 년 만...</td>\n",
       "    </tr>\n",
       "    <tr>\n",
       "      <th>3</th>\n",
       "      <td>2021.02.19. 오후 9:59</td>\n",
       "      <td>증권</td>\n",
       "      <td>매일경제</td>\n",
       "      <td>블랙록 카카오 지분 매수</td>\n",
       "      <td>전 세계 최대 규모 자산운용사인 블랙록자산운용이 한국 플랫폼 간판주 카카오 지분을 ...</td>\n",
       "      <td>블랙록 카카오 지분 매수전 세계 최대 규모 자산운용사인 블랙록자산운용이 한국 플랫폼...</td>\n",
       "    </tr>\n",
       "    <tr>\n",
       "      <th>4</th>\n",
       "      <td>2021.02.19. 오후 9:51</td>\n",
       "      <td>증권</td>\n",
       "      <td>아이뉴스24</td>\n",
       "      <td>금감원 옵티머스 첫 제재심 결론 못냈다 내달 일 재심의</td>\n",
       "      <td>NH투자증권 하나은행 대상 한수연 금융감독원이 옵티머스자산운용 펀드 주요 판매 증권...</td>\n",
       "      <td>금감원 옵티머스 첫 제재심 결론 못냈다 내달 일 재심의NH투자증권 하나은행 대상 한...</td>\n",
       "    </tr>\n",
       "    <tr>\n",
       "      <th>...</th>\n",
       "      <td>...</td>\n",
       "      <td>...</td>\n",
       "      <td>...</td>\n",
       "      <td>...</td>\n",
       "      <td>...</td>\n",
       "      <td>...</td>\n",
       "    </tr>\n",
       "    <tr>\n",
       "      <th>1584142</th>\n",
       "      <td>2020.09.24. 오전 12:00</td>\n",
       "      <td>증권</td>\n",
       "      <td>로이터 증권(신)</td>\n",
       "      <td>스타벅스수정 및 재작성된 회사의 달러 Bln 일 신용 계약 년 월 일 현재</td>\n",
       "      <td>월 일 로이터 스타벅스 주식회사 O 스타벅스 주식회사 년 월 일자로 억 달러의 일...</td>\n",
       "      <td>스타벅스수정 및 재작성된 회사의 달러 Bln 일 신용 계약 년 월 일 현재 월 일 ...</td>\n",
       "    </tr>\n",
       "    <tr>\n",
       "      <th>1584143</th>\n",
       "      <td>2020.09.24. 오전 12:00</td>\n",
       "      <td>증권</td>\n",
       "      <td>로이터 증권(신)</td>\n",
       "      <td>AAR 분기 주당 손실 보고</td>\n",
       "      <td>월 일 로이터 AAR 주식회사 에어 N AAR은 년 분기 결과를 보고한다</td>\n",
       "      <td>AAR 분기 주당 손실 보고 월 일 로이터 AAR 주식회사 에어 N AAR은 년 분...</td>\n",
       "    </tr>\n",
       "    <tr>\n",
       "      <th>1584144</th>\n",
       "      <td>2020.09.24. 오전 12:00</td>\n",
       "      <td>증권</td>\n",
       "      <td>로이터 증권(신)</td>\n",
       "      <td>옴니브리지 홀딩스 유닛 중국온홀딩스그룹과 함께 MoU에 진입선전</td>\n",
       "      <td>월 일 로이터 옴니브리지 홀딩스 주식회사 HK UNIT 월 일 중국과 법적 구속력...</td>\n",
       "      <td>옴니브리지 홀딩스 유닛 중국온홀딩스그룹과 함께 MoU에 진입선전 월 일 로이터 옴니...</td>\n",
       "    </tr>\n",
       "    <tr>\n",
       "      <th>1584145</th>\n",
       "      <td>2020.09.24. 오전 12:00</td>\n",
       "      <td>증권</td>\n",
       "      <td>로이터 증권(신)</td>\n",
       "      <td>화요일 아침 회사는 월 일 채무자들이 파산법원에 제 장에 의거한 조직개편 공동계획안...</td>\n",
       "      <td>월 일 로이터 화요일 아침 회사 t PK 화요일 아침 주식회사 월 일 채무자들은 ...</td>\n",
       "      <td>화요일 아침 회사는 월 일 채무자들이 파산법원에 제 장에 의거한 조직개편 공동계획안...</td>\n",
       "    </tr>\n",
       "    <tr>\n",
       "      <th>1584146</th>\n",
       "      <td>2020.09.24. 오전 12:00</td>\n",
       "      <td>증권</td>\n",
       "      <td>로이터 증권(신)</td>\n",
       "      <td>Ihai Kerry Arawana Holdinsg 선전의 IPO에 대한 가격 책정</td>\n",
       "      <td>월 일 로이터 Ihai Kerry Arawana Holdings Co Ltd IH...</td>\n",
       "      <td>Ihai Kerry Arawana Holdinsg 선전의 IPO에 대한 가격 책정 ...</td>\n",
       "    </tr>\n",
       "  </tbody>\n",
       "</table>\n",
       "<p>1584147 rows × 6 columns</p>\n",
       "</div>"
      ],
      "text/plain": [
       "                         Date Category      Media  \\\n",
       "0        2021.02.19. 오후 11:27       증권     한국경제TV   \n",
       "1        2021.02.19. 오후 11:17       증권       한국경제   \n",
       "2        2021.02.19. 오후 10:04       증권      아시아경제   \n",
       "3         2021.02.19. 오후 9:59       증권       매일경제   \n",
       "4         2021.02.19. 오후 9:51       증권     아이뉴스24   \n",
       "...                       ...      ...        ...   \n",
       "1584142  2020.09.24. 오전 12:00       증권  로이터 증권(신)   \n",
       "1584143  2020.09.24. 오전 12:00       증권  로이터 증권(신)   \n",
       "1584144  2020.09.24. 오전 12:00       증권  로이터 증권(신)   \n",
       "1584145  2020.09.24. 오전 12:00       증권  로이터 증권(신)   \n",
       "1584146  2020.09.24. 오전 12:00       증권  로이터 증권(신)   \n",
       "\n",
       "                                                     Title  \\\n",
       "0                       NH증권 하나은행 옵티머스 첫 제재심 결론 못내 내달 일 속개   \n",
       "1                               대어가 될 유망 스팩SPAC 총정리 주코노미TV   \n",
       "2                             장단기 금리 차 년 만에 최대 개인 순매수세는 지속   \n",
       "3                                            블랙록 카카오 지분 매수   \n",
       "4                           금감원 옵티머스 첫 제재심 결론 못냈다 내달 일 재심의   \n",
       "...                                                    ...   \n",
       "1584142          스타벅스수정 및 재작성된 회사의 달러 Bln 일 신용 계약 년 월 일 현재   \n",
       "1584143                                    AAR 분기 주당 손실 보고   \n",
       "1584144                옴니브리지 홀딩스 유닛 중국온홀딩스그룹과 함께 MoU에 진입선전   \n",
       "1584145  화요일 아침 회사는 월 일 채무자들이 파산법원에 제 장에 의거한 조직개편 공동계획안...   \n",
       "1584146      Ihai Kerry Arawana Holdinsg 선전의 IPO에 대한 가격 책정   \n",
       "\n",
       "                                                   Article  \\\n",
       "0         이민재 금융감독원이 일 옵티머스자산운용 펀드 최대 판매사인 NH투자증권과 수탁사인...   \n",
       "1        미국 증시에서 스팩 SPAC 기업인수목적회사 열풍이 더욱 뜨거워지고 있습니다 특히 ...   \n",
       "2         이민지 장단기 금리 차가 년 만에 최대 수준으로 벌어졌다 경기회복과 물가 상승에 ...   \n",
       "3        전 세계 최대 규모 자산운용사인 블랙록자산운용이 한국 플랫폼 간판주 카카오 지분을 ...   \n",
       "4        NH투자증권 하나은행 대상 한수연 금융감독원이 옵티머스자산운용 펀드 주요 판매 증권...   \n",
       "...                                                    ...   \n",
       "1584142   월 일 로이터 스타벅스 주식회사 O 스타벅스 주식회사 년 월 일자로 억 달러의 일...   \n",
       "1584143          월 일 로이터 AAR 주식회사 에어 N AAR은 년 분기 결과를 보고한다    \n",
       "1584144   월 일 로이터 옴니브리지 홀딩스 주식회사 HK UNIT 월 일 중국과 법적 구속력...   \n",
       "1584145   월 일 로이터 화요일 아침 회사 t PK 화요일 아침 주식회사 월 일 채무자들은 ...   \n",
       "1584146   월 일 로이터 Ihai Kerry Arawana Holdings Co Ltd IH...   \n",
       "\n",
       "                                             Title_Article  \n",
       "0        NH증권 하나은행 옵티머스 첫 제재심 결론 못내 내달 일 속개 이민재 금융감독원이 ...  \n",
       "1        대어가 될 유망 스팩SPAC 총정리 주코노미TV미국 증시에서 스팩 SPAC 기업인수...  \n",
       "2        장단기 금리 차 년 만에 최대 개인 순매수세는 지속 이민지 장단기 금리 차가 년 만...  \n",
       "3        블랙록 카카오 지분 매수전 세계 최대 규모 자산운용사인 블랙록자산운용이 한국 플랫폼...  \n",
       "4        금감원 옵티머스 첫 제재심 결론 못냈다 내달 일 재심의NH투자증권 하나은행 대상 한...  \n",
       "...                                                    ...  \n",
       "1584142  스타벅스수정 및 재작성된 회사의 달러 Bln 일 신용 계약 년 월 일 현재 월 일 ...  \n",
       "1584143  AAR 분기 주당 손실 보고 월 일 로이터 AAR 주식회사 에어 N AAR은 년 분...  \n",
       "1584144  옴니브리지 홀딩스 유닛 중국온홀딩스그룹과 함께 MoU에 진입선전 월 일 로이터 옴니...  \n",
       "1584145  화요일 아침 회사는 월 일 채무자들이 파산법원에 제 장에 의거한 조직개편 공동계획안...  \n",
       "1584146  Ihai Kerry Arawana Holdinsg 선전의 IPO에 대한 가격 책정 ...  \n",
       "\n",
       "[1584147 rows x 6 columns]"
      ]
     },
     "execution_count": 6,
     "metadata": {},
     "output_type": "execute_result"
    }
   ],
   "source": [
    "df"
   ]
  },
  {
   "cell_type": "code",
   "execution_count": 7,
   "id": "f631a842",
   "metadata": {},
   "outputs": [
    {
     "name": "stderr",
     "output_type": "stream",
     "text": [
      "100%|██████████| 1584147/1584147 [04:03<00:00, 6512.67it/s]\n"
     ]
    }
   ],
   "source": [
    "article_name = []\n",
    "\n",
    "for article in tqdm(df['Title_Article']):\n",
    "    name_dict = {}\n",
    "    merge_article = article.split(' ')\n",
    "    \n",
    "    for name in names:\n",
    "        name_cnt = 0\n",
    "        \n",
    "        if name in article:\n",
    "            for text in merge_article:\n",
    "                if name in text:\n",
    "                    name_cnt += 1\n",
    "        \n",
    "        if name_cnt != 0:\n",
    "            name_dict[name] = name_cnt\n",
    "\n",
    "    article_name.append(name_dict)"
   ]
  },
  {
   "cell_type": "code",
   "execution_count": 8,
   "id": "21306bb7",
   "metadata": {},
   "outputs": [
    {
     "name": "stderr",
     "output_type": "stream",
     "text": [
      "100%|██████████| 1584147/1584147 [00:01<00:00, 1161011.83it/s]\n"
     ]
    }
   ],
   "source": [
    "label_list = []\n",
    "\n",
    "for dic in tqdm(article_name):\n",
    "    if dic == {}:\n",
    "        label_list.append('None')\n",
    "    else:\n",
    "        key = list(dic.keys())\n",
    "        if key[0] == 'SK' and len(key) > 1:\n",
    "            if key[1][:2] == 'SK':\n",
    "                name_num = sorted(dic.items(), key=lambda x : x[1], reverse=True)[1][0]\n",
    "            else:\n",
    "                name_num = sorted(dic.items(), key=lambda x : x[1], reverse=True)[0][0]\n",
    "            label_list.append(name_num)\n",
    "        \n",
    "        elif key[0] == 'LG' and len(key) > 1:\n",
    "            if key[1][:2] == 'LG':\n",
    "                name_num = sorted(dic.items(), key=lambda x : x[1], reverse=True)[1][0]\n",
    "            else:\n",
    "                name_num = sorted(dic.items(), key=lambda x : x[1], reverse=True)[0][0]\n",
    "            label_list.append(name_num)\n",
    "                \n",
    "        else:\n",
    "            name_num = sorted(dic.items(), key=lambda x : x[1], reverse=True)[0][0]\n",
    "            label_list.append(name_num)"
   ]
  },
  {
   "cell_type": "code",
   "execution_count": 9,
   "id": "70f43752",
   "metadata": {},
   "outputs": [],
   "source": [
    "df['name'] = label_list"
   ]
  },
  {
   "cell_type": "code",
   "execution_count": 10,
   "id": "f08ccb5e",
   "metadata": {},
   "outputs": [
    {
     "data": {
      "text/plain": [
       "None        976436\n",
       "삼성전자         44047\n",
       "SK           35093\n",
       "네이버          30327\n",
       "카카오          24221\n",
       "             ...  \n",
       "LX인터내셔널          4\n",
       "신세계인터내셔날         3\n",
       "아이에스동서           2\n",
       "LX하우시스           2\n",
       "두산밥캣             1\n",
       "Name: name, Length: 186, dtype: int64"
      ]
     },
     "execution_count": 10,
     "metadata": {},
     "output_type": "execute_result"
    }
   ],
   "source": [
    "df['name'].value_counts()"
   ]
  },
  {
   "cell_type": "code",
   "execution_count": 11,
   "id": "a2dca648",
   "metadata": {},
   "outputs": [],
   "source": [
    "names_df = pd.DataFrame(names).reset_index()\n",
    "names_dict = names_df.drop('index', axis=1).T.to_dict('records')\n",
    "names_dict = names_dict[0]\n",
    "\n",
    "def get_key(val, dic):\n",
    "    for key, value in dic.items():\n",
    "         if val == value:\n",
    "            return key\n",
    "        \n",
    "df['name_index'] = df['name'].apply(lambda x: get_key(x, names_dict))\n",
    "\n",
    "df = df[df['name_index'].notnull()]\n",
    "df = df.reset_index(drop=True)"
   ]
  },
  {
   "cell_type": "code",
   "execution_count": 16,
   "id": "57b6e115",
   "metadata": {},
   "outputs": [],
   "source": [
    "df.to_csv('DataName.csv', index=False)"
   ]
  }
 ],
 "metadata": {
  "kernelspec": {
   "display_name": "py38_default",
   "language": "python",
   "name": "conda-env-py38_default-py"
  },
  "language_info": {
   "codemirror_mode": {
    "name": "ipython",
    "version": 3
   },
   "file_extension": ".py",
   "mimetype": "text/x-python",
   "name": "python",
   "nbconvert_exporter": "python",
   "pygments_lexer": "ipython3",
   "version": "3.8.10"
  }
 },
 "nbformat": 4,
 "nbformat_minor": 5
}
