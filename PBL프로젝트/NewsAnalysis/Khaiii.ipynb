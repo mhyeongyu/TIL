{
 "cells": [
  {
   "cell_type": "code",
   "execution_count": 1,
   "id": "10085c5d",
   "metadata": {},
   "outputs": [],
   "source": [
    "import os\n",
    "import warnings\n",
    "warnings.filterwarnings('ignore')\n",
    "import pandas as pd\n",
    "import numpy as np\n",
    "from tqdm import tqdm\n",
    "from khaiii import KhaiiiApi"
   ]
  },
  {
   "cell_type": "code",
   "execution_count": 2,
   "id": "1ee76abc",
   "metadata": {},
   "outputs": [
    {
     "name": "stderr",
     "output_type": "stream",
     "text": [
      "381it [01:05,  5.85it/s]\n"
     ]
    }
   ],
   "source": [
    "data_dic = {}\n",
    "idx = 0\n",
    "\n",
    "for curDir, dirs, files in tqdm(os.walk(\"./NewsData\")):\n",
    "    for f in files:\n",
    "        try:\n",
    "            path = os.path.join(curDir, f)\n",
    "            data = pd.read_csv(path, encoding='cp949')\n",
    "            data_dic[idx] = data\n",
    "        except:\n",
    "            path = os.path.join(curDir, f)\n",
    "            print(f'========={path} ERROR=========')\n",
    "        idx += 1"
   ]
  },
  {
   "cell_type": "code",
   "execution_count": 3,
   "id": "ee01be42",
   "metadata": {},
   "outputs": [],
   "source": [
    "df = pd.concat(data_dic).reset_index(drop=True)\n",
    "df['Date'] = df['Date'].apply(lambda x: x.split('.')[0] + '-' + x.split('.')[1] + '-' + x.split('.')[2])\n",
    "df['Date'] = pd.to_datetime(df['Date'])\n",
    "\n",
    "df['Title_Article'] = df['Title'] + df['Article']\n",
    "df = df.drop(['Title', 'Article'], axis=1)"
   ]
  },
  {
   "cell_type": "code",
   "execution_count": 4,
   "id": "d450517c",
   "metadata": {},
   "outputs": [
    {
     "name": "stderr",
     "output_type": "stream",
     "text": [
      "100%|██████████| 1584147/1584147 [8:18:37<00:00, 52.95it/s]   \n"
     ]
    }
   ],
   "source": [
    "# 명사, 동사, 형용사\n",
    "\n",
    "api = KhaiiiApi()\n",
    "word_lst = []\n",
    "\n",
    "for text in tqdm(df['Title_Article']):\n",
    "    morph_lst = []    \n",
    "    \n",
    "    for word in api.analyze(text):\n",
    "        for morph in word.morphs:\n",
    "            if morph.tag in ['NNG', 'NNP', 'VV', 'VA', 'MAG'] and len(morph.lex) != 1:\n",
    "                morph_lst.append(morph.lex)\n",
    "        \n",
    "    word_lst.append(morph_lst)"
   ]
  },
  {
   "cell_type": "code",
   "execution_count": null,
   "id": "c1dad8e2",
   "metadata": {},
   "outputs": [],
   "source": [
    "# 명사\n",
    "\n",
    "api = KhaiiiApi()\n",
    "word_lst = []\n",
    "\n",
    "for text in tqdm(df['Title_Article']):\n",
    "    morph_lst = []    \n",
    "    \n",
    "    try:\n",
    "        for word in api.analyze(text):\n",
    "            for morph in word.morphs:\n",
    "                if morph.tag in ['NNG', 'NNP'] and len(morph.lex) != 1:\n",
    "                    morph_lst.append(morph.lex)\n",
    "\n",
    "        word_lst.append(morph_lst)\n",
    "    except:\n",
    "        word_lst.append(morph_lst)"
   ]
  },
  {
   "cell_type": "code",
   "execution_count": 6,
   "id": "38ed985a",
   "metadata": {},
   "outputs": [
    {
     "name": "stderr",
     "output_type": "stream",
     "text": [
      "100%|██████████| 1584147/1584147 [00:09<00:00, 163245.72it/s]\n"
     ]
    }
   ],
   "source": [
    "clean_data = []\n",
    "\n",
    "for text in tqdm(word_lst):\n",
    "    clean_text = ' '.join(text)\n",
    "    clean_data.append(clean_text)"
   ]
  },
  {
   "cell_type": "code",
   "execution_count": 7,
   "id": "c49e2dbc",
   "metadata": {},
   "outputs": [],
   "source": [
    "df['Title_Article'] = clean_data"
   ]
  },
  {
   "cell_type": "code",
   "execution_count": 15,
   "id": "ccd7b50e",
   "metadata": {},
   "outputs": [],
   "source": [
    "df.to_csv('Khaiii.csv', index=False)"
   ]
  },
  {
   "cell_type": "code",
   "execution_count": 14,
   "id": "ca2d9315",
   "metadata": {},
   "outputs": [
    {
     "data": {
      "text/html": [
       "<div>\n",
       "<style scoped>\n",
       "    .dataframe tbody tr th:only-of-type {\n",
       "        vertical-align: middle;\n",
       "    }\n",
       "\n",
       "    .dataframe tbody tr th {\n",
       "        vertical-align: top;\n",
       "    }\n",
       "\n",
       "    .dataframe thead th {\n",
       "        text-align: right;\n",
       "    }\n",
       "</style>\n",
       "<table border=\"1\" class=\"dataframe\">\n",
       "  <thead>\n",
       "    <tr style=\"text-align: right;\">\n",
       "      <th></th>\n",
       "      <th>Date</th>\n",
       "      <th>Category</th>\n",
       "      <th>Media</th>\n",
       "      <th>Title_Article</th>\n",
       "    </tr>\n",
       "  </thead>\n",
       "  <tbody>\n",
       "    <tr>\n",
       "      <th>0</th>\n",
       "      <td>2021.02.19. 오후 11:27</td>\n",
       "      <td>증권</td>\n",
       "      <td>한국경제TV</td>\n",
       "      <td>증권 하나은행 옵티머스 제재심 결론 못내 내달 속개 이민재 금융 감독원 옵티머스 자...</td>\n",
       "    </tr>\n",
       "    <tr>\n",
       "      <th>1</th>\n",
       "      <td>2021.02.19. 오후 11:17</td>\n",
       "      <td>증권</td>\n",
       "      <td>한국경제</td>\n",
       "      <td>대어 유망 스팩 총정리 주코 노미 미국 증시 기업 수목적회사 열풍 더욱 뜨거워지 특...</td>\n",
       "    </tr>\n",
       "    <tr>\n",
       "      <th>2</th>\n",
       "      <td>2021.02.19. 오후 10:04</td>\n",
       "      <td>증권</td>\n",
       "      <td>아시아경제</td>\n",
       "      <td>장단기 금리 최대 개인 순매 수세 지속 이민지 장단기 금리 최대 수준 벌어지 경기 ...</td>\n",
       "    </tr>\n",
       "    <tr>\n",
       "      <th>3</th>\n",
       "      <td>2021.02.19. 오후 9:59</td>\n",
       "      <td>증권</td>\n",
       "      <td>매일경제</td>\n",
       "      <td>블랙록 카카오 지분 매수전 세계 최대 규모 자산 운용사 블랙록자산 운용 한국 플랫폼...</td>\n",
       "    </tr>\n",
       "    <tr>\n",
       "      <th>4</th>\n",
       "      <td>2021.02.19. 오후 9:51</td>\n",
       "      <td>증권</td>\n",
       "      <td>아이뉴스24</td>\n",
       "      <td>금감원 옵티머스 제재심 결론 내달 재심 투자 증권 하나은행 대상 금융 감독원 옵티머...</td>\n",
       "    </tr>\n",
       "    <tr>\n",
       "      <th>...</th>\n",
       "      <td>...</td>\n",
       "      <td>...</td>\n",
       "      <td>...</td>\n",
       "      <td>...</td>\n",
       "    </tr>\n",
       "    <tr>\n",
       "      <th>1584142</th>\n",
       "      <td>2020.09.24. 오전 12:00</td>\n",
       "      <td>증권</td>\n",
       "      <td>로이터 증권(신)</td>\n",
       "      <td>스타벅스 수정 작성 회사 달러 신용 계약 현재 로이터 스타 벅스 주식회사 스타벅 주...</td>\n",
       "    </tr>\n",
       "    <tr>\n",
       "      <th>1584143</th>\n",
       "      <td>2020.09.24. 오전 12:00</td>\n",
       "      <td>증권</td>\n",
       "      <td>로이터 증권(신)</td>\n",
       "      <td>분기 손실 로이터 주식회사 에어 분기 결과 보고</td>\n",
       "    </tr>\n",
       "    <tr>\n",
       "      <th>1584144</th>\n",
       "      <td>2020.09.24. 오전 12:00</td>\n",
       "      <td>증권</td>\n",
       "      <td>로이터 증권(신)</td>\n",
       "      <td>옴니브리지 홀딩스 유닛 중국온홀딩스 그룹 함께 진입선전 로이터 옴니브 리지 홀딩스 ...</td>\n",
       "    </tr>\n",
       "    <tr>\n",
       "      <th>1584145</th>\n",
       "      <td>2020.09.24. 오전 12:00</td>\n",
       "      <td>증권</td>\n",
       "      <td>로이터 증권(신)</td>\n",
       "      <td>화요일 아침 회사 채무자 파산 법원 의거 조직 개편 공동 계획안 제출 로이터 화요일...</td>\n",
       "    </tr>\n",
       "    <tr>\n",
       "      <th>1584146</th>\n",
       "      <td>2020.09.24. 오전 12:00</td>\n",
       "      <td>증권</td>\n",
       "      <td>로이터 증권(신)</td>\n",
       "      <td>선전 대하 가격 책정 로이터 선전 주식 공모 위안 위안 올리 목표 밝히</td>\n",
       "    </tr>\n",
       "  </tbody>\n",
       "</table>\n",
       "<p>1584147 rows × 4 columns</p>\n",
       "</div>"
      ],
      "text/plain": [
       "                         Date Category      Media  \\\n",
       "0        2021.02.19. 오후 11:27       증권     한국경제TV   \n",
       "1        2021.02.19. 오후 11:17       증권       한국경제   \n",
       "2        2021.02.19. 오후 10:04       증권      아시아경제   \n",
       "3         2021.02.19. 오후 9:59       증권       매일경제   \n",
       "4         2021.02.19. 오후 9:51       증권     아이뉴스24   \n",
       "...                       ...      ...        ...   \n",
       "1584142  2020.09.24. 오전 12:00       증권  로이터 증권(신)   \n",
       "1584143  2020.09.24. 오전 12:00       증권  로이터 증권(신)   \n",
       "1584144  2020.09.24. 오전 12:00       증권  로이터 증권(신)   \n",
       "1584145  2020.09.24. 오전 12:00       증권  로이터 증권(신)   \n",
       "1584146  2020.09.24. 오전 12:00       증권  로이터 증권(신)   \n",
       "\n",
       "                                             Title_Article  \n",
       "0        증권 하나은행 옵티머스 제재심 결론 못내 내달 속개 이민재 금융 감독원 옵티머스 자...  \n",
       "1        대어 유망 스팩 총정리 주코 노미 미국 증시 기업 수목적회사 열풍 더욱 뜨거워지 특...  \n",
       "2        장단기 금리 최대 개인 순매 수세 지속 이민지 장단기 금리 최대 수준 벌어지 경기 ...  \n",
       "3        블랙록 카카오 지분 매수전 세계 최대 규모 자산 운용사 블랙록자산 운용 한국 플랫폼...  \n",
       "4        금감원 옵티머스 제재심 결론 내달 재심 투자 증권 하나은행 대상 금융 감독원 옵티머...  \n",
       "...                                                    ...  \n",
       "1584142  스타벅스 수정 작성 회사 달러 신용 계약 현재 로이터 스타 벅스 주식회사 스타벅 주...  \n",
       "1584143                         분기 손실 로이터 주식회사 에어 분기 결과 보고  \n",
       "1584144  옴니브리지 홀딩스 유닛 중국온홀딩스 그룹 함께 진입선전 로이터 옴니브 리지 홀딩스 ...  \n",
       "1584145  화요일 아침 회사 채무자 파산 법원 의거 조직 개편 공동 계획안 제출 로이터 화요일...  \n",
       "1584146            선전 대하 가격 책정 로이터 선전 주식 공모 위안 위안 올리 목표 밝히  \n",
       "\n",
       "[1584147 rows x 4 columns]"
      ]
     },
     "execution_count": 14,
     "metadata": {},
     "output_type": "execute_result"
    }
   ],
   "source": [
    "df"
   ]
  }
 ],
 "metadata": {
  "kernelspec": {
   "display_name": "py38_default",
   "language": "python",
   "name": "conda-env-py38_default-py"
  },
  "language_info": {
   "codemirror_mode": {
    "name": "ipython",
    "version": 3
   },
   "file_extension": ".py",
   "mimetype": "text/x-python",
   "name": "python",
   "nbconvert_exporter": "python",
   "pygments_lexer": "ipython3",
   "version": "3.8.10"
  }
 },
 "nbformat": 4,
 "nbformat_minor": 5
}
