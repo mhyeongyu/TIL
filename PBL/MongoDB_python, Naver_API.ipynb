{
 "cells": [
  {
   "cell_type": "code",
   "execution_count": null,
   "metadata": {},
   "outputs": [],
   "source": [
    "!pip install image\n",
    "!pip install pillow"
   ]
  },
  {
   "cell_type": "code",
   "execution_count": 1,
   "metadata": {},
   "outputs": [],
   "source": [
    "from pymongo import MongoClient\n",
    "from gridfs import GridFS\n",
    "from gridfs import GridFSBucket\n",
    "\n",
    "import urllib.request\n",
    "from io import BytesIO\n",
    "from PIL import Image"
   ]
  },
  {
   "cell_type": "markdown",
   "metadata": {},
   "source": [
    "#### Text 파일 저장, 불러오기"
   ]
  },
  {
   "cell_type": "code",
   "execution_count": null,
   "metadata": {},
   "outputs": [],
   "source": [
    "#python_test DB가 없으면 새로 만듬\n",
    "db = MongoClient().python_test\n",
    "\n",
    "#MongoDB 연동\n",
    "fs = GridFS(db)\n",
    "\n",
    "#rb: ReadBinary(한글은 숫자로 변환)\n",
    "with open('c:/ai/workspace/mongodb/test.txt', 'rb') as f:\n",
    "    print('f=', f)\n",
    "    print('f.read()=', f.read())\n",
    "\n",
    "#MongoDB에 파일f test2로 파일f 내용 저장\n",
    "with open('c:/ai/workspace/mongodb/test.txt', 'rb') as f:\n",
    "    fs.put(f, filename='test2.txt')\n",
    "    \n",
    "db.fs.files.find()\n",
    "list(db.fs.files.find())\n",
    "fs.get_last_version(filename='test.txt')"
   ]
  },
  {
   "cell_type": "markdown",
   "metadata": {},
   "source": [
    "#### DB Image 저장, 불러오기"
   ]
  },
  {
   "cell_type": "code",
   "execution_count": null,
   "metadata": {},
   "outputs": [],
   "source": [
    "#Image 불러오기\n",
    "url = 'http://image_url'\n",
    "data = urllib.request.urlopen(url).read()\n",
    "Image.open(BytesIO(data))"
   ]
  },
  {
   "cell_type": "code",
   "execution_count": null,
   "metadata": {},
   "outputs": [],
   "source": [
    "#DB Image 저장\n",
    "db = MongoClient().python_test\n",
    "bucket = GridFSBucket(db)\n",
    "\n",
    "#이미지 파일명, 메타데이터 입력\n",
    "grid_in = bucket.open_upload_stream(\n",
    "    '43a8a87814b98b5346192ec9855f5883.jpg', \n",
    "    metadata={'contentType':'image/jpg'}\n",
    ")\n",
    "\n",
    "grid_in.write(data)\n",
    "grid_in.close()"
   ]
  },
  {
   "cell_type": "code",
   "execution_count": null,
   "metadata": {},
   "outputs": [],
   "source": [
    "db = MongoClient().python_test\n",
    "fs = GridFS(db)\n",
    "\n",
    "db.fs.files.find()\n",
    "db.fs.files.find()[7]\n",
    "'''print  \n",
    "{'_id': ObjectId('608f80a4e136bf6b6ee0005a'),\n",
    " 'filename': '43a8a87814b98b5346192ec9855f5883.jpg',\n",
    " 'metadata': {'contentType': 'image/jpg'},\n",
    " 'chunkSize': 261120,\n",
    " 'md5': 'c5274a1f27f65df228abb2000c267317',\n",
    " 'length': 155845,\n",
    " 'uploadDate': datetime.datetime(2021, 5, 3, 4, 48, 38, 715000)}\n",
    "'''\n",
    "db.fs.files.find()[7]['filename']\n",
    "\n",
    "f = fs.get_last_version(filename=db.fs.files.find()[7]['filename'])\n",
    "data = f.read()\n",
    "Image.open(BytesIO(data))"
   ]
  },
  {
   "cell_type": "markdown",
   "metadata": {},
   "source": [
    "#### Naver API"
   ]
  },
  {
   "cell_type": "code",
   "execution_count": null,
   "metadata": {},
   "outputs": [],
   "source": [
    "#네이버 이미지 검색 URL\n",
    "url = 'https://openapi.naver.com/v1/search/image?query=고양이'\n",
    "\n",
    "#OpenAPI를 사용하기 위한 ID와 PW 필요\n",
    "requests.get(url)\n",
    "'''print\n",
    "<Response [401]>\n",
    "'''\n",
    "\n",
    "\n",
    "#ex)네이버 API 인증 정보\n",
    "client_id = \"udzt3jcCA8xTKi3UjGH_\" \n",
    "client_secret = \"HAk0g9n8cs\"\n",
    "\n",
    "api_id_pw = {\n",
    "    'X-Naver-Client-Id': client_id,\n",
    "    'X-Naver-Client-Secret': client_secret\n",
    "}\n",
    "\n",
    "requests.get(url, headers=api_id_pw)\n",
    "'''print\n",
    "<Response [200]>\n",
    "'''\n",
    "result = requests.get(url, headers=api_id_pw)"
   ]
  },
  {
   "cell_type": "code",
   "execution_count": null,
   "metadata": {},
   "outputs": [],
   "source": [
    "result.json()\n",
    "result.json()['items']\n",
    "result.json()['items'][0]['link']"
   ]
  },
  {
   "cell_type": "code",
   "execution_count": null,
   "metadata": {},
   "outputs": [],
   "source": [
    "#keyward:검색어, display:출력수, start:시작점\n",
    "\n",
    "def get_api_result(keyward, display, start):\n",
    "    url = 'https://openapi.naver.com/v1/search/image?query={0}&display={1}&start={2}'.format(keyward, display, start)\n",
    "    result = requests.get(url, headers=api_id_pw)\n",
    "    return result.json()"
   ]
  },
  {
   "cell_type": "code",
   "execution_count": null,
   "metadata": {},
   "outputs": [],
   "source": [
    "\n",
    "def call_and_print(keyward, total_page):\n",
    "    link_lst = []\n",
    "    for page in range(total_page + 1):\n",
    "        display = 100\n",
    "        start = (page * 100) + 1\n",
    "        json_obj = get_api_result(keyward, display, start)\n",
    "        for item in json_obj['items']:\n",
    "            link_lst.append(item['link'])\n",
    "    return link_lst"
   ]
  },
  {
   "cell_type": "code",
   "execution_count": null,
   "metadata": {},
   "outputs": [],
   "source": [
    "call_and_print('고양이', 9)\n",
    "call_and_print('강아지', 9)"
   ]
  }
 ],
 "metadata": {
  "kernelspec": {
   "display_name": "Python 3",
   "language": "python",
   "name": "python3"
  },
  "language_info": {
   "codemirror_mode": {
    "name": "ipython",
    "version": 3
   },
   "file_extension": ".py",
   "mimetype": "text/x-python",
   "name": "python",
   "nbconvert_exporter": "python",
   "pygments_lexer": "ipython3",
   "version": "3.8.5"
  }
 },
 "nbformat": 4,
 "nbformat_minor": 4
}
